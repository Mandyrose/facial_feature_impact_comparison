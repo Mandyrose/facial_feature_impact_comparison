{
 "cells": [
  {
   "cell_type": "code",
   "execution_count": 32,
   "metadata": {},
   "outputs": [],
   "source": [
    "import pandas as pd\n",
    "import numpy as np\n",
    "import shutil\n",
    "import os\n",
    "from glob import glob\n",
    "from tqdm import tqdm"
   ]
  },
  {
   "cell_type": "code",
   "execution_count": 33,
   "metadata": {},
   "outputs": [],
   "source": [
    "imagenet = pd.read_csv('/home/administrator/Documents/imagenet_classes.csv')"
   ]
  },
  {
   "cell_type": "code",
   "execution_count": 34,
   "metadata": {},
   "outputs": [],
   "source": [
    "def copy_file(src, dest, src_file_path):\n",
    "    rel_file_path = os.path.relpath(src_file_path, src)\n",
    "    \n",
    "    dest_file_path = os.path.join(dest, rel_file_path)\n",
    "    os.makedirs(os.path.dirname(dest_file_path), exist_ok=True)\n",
    "    shutil.copy(src_file_path, dest_file_path)"
   ]
  },
  {
   "cell_type": "code",
   "execution_count": 35,
   "metadata": {},
   "outputs": [],
   "source": [
    "def get_images(src, num):\n",
    "    total_imgs = glob(os.path.join(src, '*'))\n",
    "    return np.random.choice(total_imgs, num, replace=False)"
   ]
  },
  {
   "cell_type": "code",
   "execution_count": 36,
   "metadata": {},
   "outputs": [],
   "source": [
    "def copy_cls(src, dest, cls):\n",
    "    phases = {'train':300, 'val':50}\n",
    "    for ph in phases:\n",
    "        src_phase_cls = os.path.join(src, ph, cls)\n",
    "        dest_phase_cls = os.path.join(dest, ph, cls)\n",
    "        imgs = get_images(src_phase_cls, phases[ph])\n",
    "        for img in imgs:\n",
    "            copy_file(src_phase_cls, dest_phase_cls, img)"
   ]
  },
  {
   "cell_type": "code",
   "execution_count": 37,
   "metadata": {},
   "outputs": [
    {
     "name": "stderr",
     "output_type": "stream",
     "text": [
      "100%|██████████| 500/500 [15:21<00:00,  1.84s/it]\n"
     ]
    }
   ],
   "source": [
    "objects_500 = imagenet[imagenet['animal'] == 0].sample(500)\n",
    "src = '/home/hdd_storage/imagenet/'\n",
    "dest = '/home/ssd_storage/datasets/imagenet_500_objects'\n",
    "for cls in tqdm(objects_500.cls):\n",
    "    copy_cls(src,dest,cls)"
   ]
  },
  {
   "cell_type": "code",
   "execution_count": null,
   "metadata": {},
   "outputs": [],
   "source": []
  }
 ],
 "metadata": {
  "kernelspec": {
   "display_name": "Python 3",
   "language": "python",
   "name": "python3"
  },
  "language_info": {
   "codemirror_mode": {
    "name": "ipython",
    "version": 3
   },
   "file_extension": ".py",
   "mimetype": "text/x-python",
   "name": "python",
   "nbconvert_exporter": "python",
   "pygments_lexer": "ipython3",
   "version": "3.8.5"
  }
 },
 "nbformat": 4,
 "nbformat_minor": 4
}
