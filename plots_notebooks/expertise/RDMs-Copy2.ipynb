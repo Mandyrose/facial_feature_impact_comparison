{
 "cells": [
  {
   "cell_type": "code",
   "execution_count": null,
   "metadata": {},
   "outputs": [],
   "source": [
    "import pandas as pd\n",
    "import numpy as np\n",
    "from glob import glob\n",
    "import plotly.express as px\n",
    "from typing import Tuple, Dict\n",
    "from os import path\n",
    "from sklearn import metrics\n",
    "from tqdm import tqdm\n",
    "import plotly.graph_objects as go\n",
    "from plotly.subplots import make_subplots"
   ]
  },
  {
   "cell_type": "code",
   "execution_count": null,
   "metadata": {},
   "outputs": [],
   "source": [
    "def plot_rdm(objs_layer_to_rdm_path: Dict[str,str], faces_layer_to_rdm_path: Dict[str,str], finetuning_domain:str) -> None:\n",
    "    fig = make_subplots(rows=2, cols=8, \n",
    "                        row_titles=['Objects', 'Faces'], column_titles=[k for k in objs_layer_to_rdm_path.keys()],\n",
    "                        x_title='Finetuning depth', y_title='Pretraining domain')\n",
    "    \n",
    "    for i,layer in enumerate(objs_layer_to_rdm_path):\n",
    "        objs = pd.read_csv(objs_layer_to_rdm_path[layer], index_col='Unnamed: 0')\n",
    "        \n",
    "        fig.add_trace(go.Heatmap(z=objs, showscale=False),\n",
    "                      row=1, col=i+1)\n",
    "        \n",
    "        faces = pd.read_csv(faces_layer_to_rdm_path[layer])\n",
    "        \n",
    "        fig.add_trace(go.Heatmap(z=faces, showscale=False),\n",
    "                      row=2, col=i+1)\n",
    "    fig.update_layout(height=500, width=1800,  template='plotly_white')\n",
    "        \n",
    "    fig.show()\n",
    "    fig.write_html(f'/home/ssd_storage/experiments/Expertise/experiment1/rdms/{finetuning_domain}_rdms.html')"
   ]
  },
  {
   "cell_type": "code",
   "execution_count": null,
   "metadata": {},
   "outputs": [],
   "source": [
    "species_faces = {\n",
    "    'conv1':'/home/hdd_storage/mlflow/artifact_store/species_faces_finetuning_measurements/b24fb190fa8945a89f62f92c59f1b365/artifacts/30_species_upright_fc7.csv',\n",
    "    'conv2':'/home/hdd_storage/mlflow/artifact_store/species_faces_finetuning_measurements/82fe2c2de07e42e2bc3215edb57d8ef8/artifacts/30_species_upright_fc7.csv',\n",
    "    'conv3':'/home/hdd_storage/mlflow/artifact_store/species_faces_finetuning_measurements/29567579f15b4abe8f3b1c3d492797b6/artifacts/30_species_upright_fc7.csv',\n",
    "    'conv4':'/home/hdd_storage/mlflow/artifact_store/species_faces_finetuning_measurements/53de55ba9c88489d8e55c43bf719f9eb/artifacts/30_species_upright_fc7.csv',\n",
    "    'conv5':'/home/hdd_storage/mlflow/artifact_store/species_faces_finetuning_measurements/902ec0935ee84092a9ded137e08f9514/artifacts/30_species_upright_fc7.csv',\n",
    "    'fc6':'/home/hdd_storage/mlflow/artifact_store/species_faces_finetuning_measurements/2f597065b14647b3a99e4480d68b78d6/artifacts/30_species_upright_fc7.csv',\n",
    "    'fc7':'/home/hdd_storage/mlflow/artifact_store/species_faces_finetuning_measurements/1dc5d6c568344d3b81a621060ee7fdf4/artifacts/30_species_upright_fc7.csv',\n",
    "    'pretraining':'/home/hdd_storage/mlflow/artifact_store/pretraining_measurements/5af20f04f19242c68db80a58d57fb756/artifacts/30_species_upright_fc7.csv',\n",
    "}\n",
    "\n",
    "species_objects = {\n",
    "    'conv1':'/home/hdd_storage/mlflow/artifact_store/species_objects_finetuning_measurements/2903f14583b446e1b7c9d22f01502068/artifacts/30_species_upright_fc7.csv',\n",
    "    'conv2':'/home/hdd_storage/mlflow/artifact_store/species_objects_finetuning_measurements/cbb179fdb6264a8d908559e43f1b81e7/artifacts/30_species_upright_fc7.csv',\n",
    "    'conv3':'/home/hdd_storage/mlflow/artifact_store/species_objects_finetuning_measurements/bbb7e05de45b4f3f90fc959505a4a95e/artifacts/30_species_upright_fc7.csv',\n",
    "    'conv4':'/home/hdd_storage/mlflow/artifact_store/species_objects_finetuning_measurements/a4b6b3a4185f4216a70e1a1db767549d/artifacts/30_species_upright_fc7.csv',\n",
    "    'conv5':'/home/hdd_storage/mlflow/artifact_store/species_objects_finetuning_measurements/92b228d334b64cfaa75715774689f727/artifacts/30_species_upright_fc7.csv',\n",
    "    'fc6':'/home/hdd_storage/mlflow/artifact_store/species_objects_finetuning_measurements/583f4cd860e54cfb8b39ba946b72d0d3/artifacts/30_species_upright_fc7.csv',\n",
    "    'fc7':'/home/hdd_storage/mlflow/artifact_store/species_objects_finetuning_measurements/00583662b98f47148cdd2ed193e6da66/artifacts/30_species_upright_fc7.csv',\n",
    "    'pretraining':'/home/hdd_storage/mlflow/artifact_store/pretraining_measurements/89bc45684b2e47cab02a9733d9c57408/artifacts/30_species_upright_fc7.csv',\n",
    "}\n",
    "\n",
    "plot_rdm(species_objects, species_faces, 'species')"
   ]
  },
  {
   "cell_type": "code",
   "execution_count": null,
   "metadata": {},
   "outputs": [],
   "source": [
    "soc_weav_faces = {\n",
    "    'conv1':'/home/hdd_storage/mlflow/artifact_store/sociable_weavers_faces_finetuning_measurements/7c083c288d224f5f82db7934e4a2e90c/artifacts/30_sociable_weavers_upright_fc7.csv',\n",
    "    'conv2':'/home/hdd_storage/mlflow/artifact_store/sociable_weavers_faces_finetuning_measurements/5db3c268f4804a1f82ae263e768b60ea/artifacts/30_sociable_weavers_upright_fc7.csv',\n",
    "    'conv3':'/home/hdd_storage/mlflow/artifact_store/sociable_weavers_faces_finetuning_measurements/975e7357c00241df890add397195688b/artifacts/30_sociable_weavers_upright_fc7.csv',\n",
    "    'conv4':'/home/hdd_storage/mlflow/artifact_store/sociable_weavers_faces_finetuning_measurements/1e1736d3f09149c187c11a2b9e45f9fc/artifacts/30_sociable_weavers_upright_fc7.csv',\n",
    "    'conv5':'/home/hdd_storage/mlflow/artifact_store/sociable_weavers_faces_finetuning_measurements/e35e0034c666484ea8728b290f3209bd/artifacts/30_sociable_weavers_upright_fc7.csv',\n",
    "    'fc6':'/home/hdd_storage/mlflow/artifact_store/sociable_weavers_faces_finetuning_measurements/29bee4292fb04b5c811911eac335296d/artifacts/30_sociable_weavers_upright_fc7.csv',\n",
    "    'fc7':'/home/hdd_storage/mlflow/artifact_store/sociable_weavers_faces_finetuning_measurements/094ed694b3a1491a9c12e02c8e2d1872/artifacts/30_sociable_weavers_upright_fc7.csv',\n",
    "    'pretraining':'/home/hdd_storage/mlflow/artifact_store/pretraining_measurements/5af20f04f19242c68db80a58d57fb756/artifacts/30_species_upright_fc7.csv',\n",
    "}\n",
    "\n",
    "soc_weav_objects = {\n",
    "    'conv1':'/home/hdd_storage/mlflow/artifact_store/sociable_weavers_objects_finetuning_measurements/0c73236c269f4e8d9e62103bf90cf509/artifacts/30_sociable_weavers_upright_fc7.csv',\n",
    "    'conv2':'/home/hdd_storage/mlflow/artifact_store/sociable_weavers_objects_finetuning_measurements/5f955e9587a046ee8b71715a91165bfb/artifacts/30_sociable_weavers_upright_fc7.csv',\n",
    "    'conv3':'/home/hdd_storage/mlflow/artifact_store/sociable_weavers_objects_finetuning_measurements/655ee7c671d14b658b6e69bed44fbb0f/artifacts/30_sociable_weavers_upright_fc7.csv',\n",
    "    'conv4':'/home/hdd_storage/mlflow/artifact_store/sociable_weavers_objects_finetuning_measurements/4e71a8027f354ce08e6e5afb5b40789b/artifacts/30_sociable_weavers_upright_fc7.csv',\n",
    "    'conv5':'/home/hdd_storage/mlflow/artifact_store/sociable_weavers_objects_finetuning_measurements/d5a008f31e454782b8a8426db789b726/artifacts/30_sociable_weavers_upright_fc7.csv',\n",
    "    'fc6':'/home/hdd_storage/mlflow/artifact_store/sociable_weavers_objects_finetuning_measurements/e3bf3cf8296a4458bcd369d7ba2cdbf6/artifacts/30_sociable_weavers_upright_fc7.csv',\n",
    "    'fc7':'/home/hdd_storage/mlflow/artifact_store/sociable_weavers_objects_finetuning_measurements/90540daccf65448290d344367015cf78/artifacts/30_sociable_weavers_upright_fc7.csv',\n",
    "    'pretraining':'/home/hdd_storage/mlflow/artifact_store/pretraining_measurements/89bc45684b2e47cab02a9733d9c57408/artifacts/30_sociable_weavers_upright_fc7.csv',\n",
    "}\n",
    "\n",
    "plot_rdm(soc_weav_objects, soc_weav_faces, 'sociable_weavers')"
   ]
  },
  {
   "cell_type": "code",
   "execution_count": null,
   "metadata": {},
   "outputs": [],
   "source": []
  }
 ],
 "metadata": {
  "kernelspec": {
   "display_name": "Python 3",
   "language": "python",
   "name": "python3"
  },
  "language_info": {
   "codemirror_mode": {
    "name": "ipython",
    "version": 3
   },
   "file_extension": ".py",
   "mimetype": "text/x-python",
   "name": "python",
   "nbconvert_exporter": "python",
   "pygments_lexer": "ipython3",
   "version": "3.8.5"
  }
 },
 "nbformat": 4,
 "nbformat_minor": 4
}
