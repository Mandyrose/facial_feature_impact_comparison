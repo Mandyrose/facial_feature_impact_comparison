{
 "cells": [
  {
   "cell_type": "code",
   "execution_count": null,
   "metadata": {},
   "outputs": [],
   "source": [
    "import numpy as np\n",
    "import pandas as pd\n",
    "from sklearn import metrics\n",
    "from typing import Tuple, Dict\n"
   ]
  },
  {
   "cell_type": "code",
   "execution_count": null,
   "metadata": {},
   "outputs": [],
   "source": [
    "DATASET_LABEL = 'dataset'\n",
    "ORIENTATION_LABEL = 'orientation'\n",
    "SAME_LABEL = 'same'\n",
    "SAMPLE_IDX_LABEL = 'sample_idx'"
   ]
  },
  {
   "cell_type": "code",
   "execution_count": null,
   "metadata": {},
   "outputs": [],
   "source": [
    "paths = {\n",
    "    '260_inanimates': '/home/hdd_storage/mlflow/artifact_store/inversion_effect/369a729bcbe64d83ac49b37577db79b8/artifacts/dists.csv',\n",
    "    '260_species': '/home/hdd_storage/mlflow/artifact_store/inversion_effect/8675b29e48f84a0b99870f006a74c71d/artifacts/dists.csv',\n",
    "#     '260_faces': '/home/hdd_storage/mlflow/artifact_store/inversion_effect/ddc0ee34ee8c4b94b3b16b5f7afa6fe5/artifacts/dists.csv',\n",
    "    '260_faces': '/home/hdd_storage/mlflow/artifact_store/260_faces_fixed/13a8cd83f47f4c58a714dfe035e6cd56/artifacts/dists.csv',\n",
    "    '30_sociable_weavers': '/home/hdd_storage/mlflow/artifact_store/inversion_effect/c6b3733cbac74bee87ad03213ff13188/artifacts/dists.csv',\n",
    "    '30_faces': '/home/hdd_storage/mlflow/artifact_store/inversion_effect/03aaf9b8374847beaa18c550f4213d4f/artifacts/dists.csv',\n",
    "    '30_species': '/home/hdd_storage/mlflow/artifact_store/inversion_effect/eb293b67f8624e698b06e5fa382ef005/artifacts/dists.csv',\n",
    "    '30_inanimates': '/home/hdd_storage/mlflow/artifact_store/inversion_effect/10f88d6edd764503b4322b127f8c87ae/artifacts/dists.csv'\n",
    "}\n"
   ]
  },
  {
   "cell_type": "code",
   "execution_count": null,
   "metadata": {},
   "outputs": [],
   "source": [
    "diagonal_paths = {\n",
    "    '260_inanimates': '/home/hdd_storage/mlflow/artifact_store/inversion_effect/369a729bcbe64d83ac49b37577db79b8/artifacts/dists.csv',\n",
    "    '30_inanimates': '/home/hdd_storage/mlflow/artifact_store/inversion_effect/10f88d6edd764503b4322b127f8c87ae/artifacts/dists.csv',\n",
    "    '260_species': '/home/hdd_storage/mlflow/artifact_store/inversion_effect/8675b29e48f84a0b99870f006a74c71d/artifacts/dists.csv',\n",
    "    '30_species': '/home/hdd_storage/mlflow/artifact_store/inversion_effect/eb293b67f8624e698b06e5fa382ef005/artifacts/dists.csv',\n",
    "#     '260_faces': '/home/hdd_storage/mlflow/artifact_store/inversion_effect/ddc0ee34ee8c4b94b3b16b5f7afa6fe5/artifacts/dists.csv',\n",
    "    '260_faces': '/home/hdd_storage/mlflow/artifact_store/260_faces_fixed/13a8cd83f47f4c58a714dfe035e6cd56/artifacts/dists.csv',\n",
    "    '30_faces': '/home/hdd_storage/mlflow/artifact_store/inversion_effect/03aaf9b8374847beaa18c550f4213d4f/artifacts/dists.csv',\n",
    "    '30_sociable_weavers': '/home/hdd_storage/mlflow/artifact_store/inversion_effect/c6b3733cbac74bee87ad03213ff13188/artifacts/dists.csv',\n",
    "}\n"
   ]
  },
  {
   "cell_type": "code",
   "execution_count": null,
   "metadata": {},
   "outputs": [],
   "source": [
    "cls_diagonal_paths = {\n",
    "    '260_inanimates': '/home/hdd_storage/mlflow/artifact_store/inversion_effect/369a729bcbe64d83ac49b37577db79b8/artifacts/dists.csv',\n",
    "    '260_species': '/home/hdd_storage/mlflow/artifact_store/inversion_effect/8675b29e48f84a0b99870f006a74c71d/artifacts/dists.csv',\n",
    "    '260_faces': '/home/hdd_storage/mlflow/artifact_store/260_faces_fixed/13a8cd83f47f4c58a714dfe035e6cd56/artifacts/dists.csv',\n",
    "    '30_inanimates': '/home/hdd_storage/mlflow/artifact_store/inversion_effect/10f88d6edd764503b4322b127f8c87ae/artifacts/dists.csv',\n",
    "    '30_species': '/home/hdd_storage/mlflow/artifact_store/inversion_effect/eb293b67f8624e698b06e5fa382ef005/artifacts/dists.csv',\n",
    "    '30_faces': '/home/hdd_storage/mlflow/artifact_store/inversion_effect/03aaf9b8374847beaa18c550f4213d4f/artifacts/dists.csv',\n",
    "    '30_sociable_weavers': '/home/hdd_storage/mlflow/artifact_store/inversion_effect/c6b3733cbac74bee87ad03213ff13188/artifacts/dists.csv'\n",
    "}\n"
   ]
  },
  {
   "cell_type": "code",
   "execution_count": null,
   "metadata": {},
   "outputs": [],
   "source": [
    "def formalize_pair_type(pairs_list: pd.DataFrame) -> pd.DataFrame:\n",
    "    \"\"\"\n",
    "    given a pairs dist list, with a tupe column like \"dataset_name_orientation_same_idx\"\n",
    "    breaks the type to columns:\n",
    "        ['dataset'] = dataset_name\n",
    "        ['orientation'] = orientation\n",
    "        ['same'] = True/False\n",
    "        ['sample_idx'] = idx\n",
    "    \"\"\"\n",
    "    pairs_list[DATASET_LABEL] = pairs_list['type'].str.split('_').apply(lambda row: '_'.join(row[:-3]))\n",
    "    pairs_list[ORIENTATION_LABEL] = pairs_list['type'].str.split('_').apply(lambda row: row[-3])\n",
    "    pairs_list[SAME_LABEL] = pairs_list['type'].str.split('_').apply(lambda row: row[-2] != 'same')\n",
    "    pairs_list[SAMPLE_IDX_LABEL] = pairs_list['type'].str.split('_').apply(lambda row: row[-1]) # set the batch sample idx\n",
    "    return pairs_list"
   ]
  },
  {
   "cell_type": "code",
   "execution_count": null,
   "metadata": {},
   "outputs": [],
   "source": [
    "def get_aucs(df: pd.DataFrame) -> Tuple[pd.Series, pd.DataFrame]:\n",
    "    \"\"\"\n",
    "    Given the distance lists, calculate the AUCS\n",
    "    returns (series of the AUCs, mean and stds of aucs in different condition)\n",
    "    \"\"\"\n",
    "    def roc_auc(df: pd.DataFrame):\n",
    "        label = df[SAME_LABEL]\n",
    "        score = df['fc7']\n",
    "        return metrics.roc_auc_score(label, score)\n",
    "    aucs = df.groupby([DATASET_LABEL, ORIENTATION_LABEL, SAMPLE_IDX_LABEL]).apply(lambda df: roc_auc(df))\n",
    "    means = aucs.groupby([DATASET_LABEL, ORIENTATION_LABEL]).mean()\n",
    "    stds = aucs.groupby([DATASET_LABEL, ORIENTATION_LABEL]).std()\n",
    "    summary = pd.DataFrame({'means': means, 'std': stds})\n",
    "    return aucs, summary"
   ]
  },
  {
   "cell_type": "code",
   "execution_count": null,
   "metadata": {},
   "outputs": [],
   "source": [
    "dfs = {}\n",
    "total_summary = []\n",
    "models_aucs_series = {}\n",
    "\n",
    "for model in paths:\n",
    "    df = pd.read_csv(paths[model])\n",
    "    df = formalize_pair_type(df)\n",
    "    dfs[model] = df\n",
    "    curr_aucs, curr_summary = get_aucs(df)\n",
    "    models_aucs_series[model] = curr_aucs\n",
    "    curr_summary['model'] = model\n",
    "    total_summary.append(curr_summary)\n",
    "\n",
    "models_aucs = pd.DataFrame(models_aucs_series)\n",
    "total_summary = pd.concat(total_summary)"
   ]
  },
  {
   "cell_type": "code",
   "execution_count": null,
   "metadata": {},
   "outputs": [],
   "source": [
    "models_aucs_series"
   ]
  },
  {
   "cell_type": "code",
   "execution_count": null,
   "metadata": {},
   "outputs": [],
   "source": [
    "import plotly.graph_objects as go\n",
    "from plotly.subplots import make_subplots\n"
   ]
  },
  {
   "cell_type": "code",
   "execution_count": null,
   "metadata": {},
   "outputs": [],
   "source": [
    "def plot_ROC(dists: Dict[str, pd.DataFrame], fn: str, show_tpr_variance: bool = True) -> None:\n",
    "    colors = {\n",
    "        'upright': {\n",
    "            'fill': 'rgba(52, 152, 219, 0.2)',\n",
    "            'line': 'rgba(52, 152, 219, 0.5)',\n",
    "            'line_main': 'rgba(41, 128, 185, 1.0)',\n",
    "            'grid': 'rgba(189, 195, 199, 0.5)',\n",
    "            'annot': 'rgba(149, 165, 166, 0.5)',\n",
    "            'highlight': 'rgba(192, 57, 43, 1.0)'\n",
    "        },\n",
    "        'inverted': {\n",
    "            'fill': 'rgba(255, 0, 50, 0.2)',\n",
    "            'line': 'rgba(255, 0, 50, 0.5)',\n",
    "            'line_main': 'rgba(255, 0, 50, 1.0)',\n",
    "            'grid': 'rgba(189, 195, 199, 0.5)',\n",
    "            'annot': 'rgba(149, 165, 166, 0.5)',\n",
    "            'highlight': 'rgba(192, 57, 43, 1.0)'\n",
    "        }\n",
    "    }\n",
    "    \n",
    "    colors = {\n",
    "        'upright': {\n",
    "            'fill': 'darkgreen',\n",
    "            'line': 'darkgreen',\n",
    "            'line_main': 'darkgreen',\n",
    "            'grid': 'rgba(189, 195, 199, 0.5)',\n",
    "            'annot': 'rgba(149, 165, 166, 0.5)',\n",
    "            'highlight': 'rgba(192, 57, 43, 1.0)'\n",
    "        },\n",
    "        'inverted': {\n",
    "            'fill': 'seagreen',\n",
    "            'line': 'seagreen',\n",
    "            'line_main': 'seagreen',\n",
    "            'grid': 'rgba(189, 195, 199, 0.5)',\n",
    "            'annot': 'rgba(149, 165, 166, 0.5)',\n",
    "            'highlight': 'rgba(192, 57, 43, 1.0)'\n",
    "        }\n",
    "    }\n",
    "    colors = {\n",
    "        'inverted': {\n",
    "            'fill': 'rgba(52, 152, 219, 0.2)',\n",
    "            'line': 'rgba(52, 152, 219, 0.5)',\n",
    "            'line_main': 'rgba(41, 128, 185, 1.0)',\n",
    "            'grid': 'rgba(189, 195, 199, 0.5)',\n",
    "            'annot': 'rgba(149, 165, 166, 0.5)',\n",
    "            'highlight': 'rgba(192, 57, 43, 1.0)'\n",
    "        },\n",
    "        'upright': {\n",
    "            'fill': 'rgba(255, 0, 50, 0.2)',\n",
    "            'line': 'rgba(255, 0, 50, 0.5)',\n",
    "            'line_main': 'rgba(255, 0, 50, 1.0)',\n",
    "            'grid': 'rgba(189, 195, 199, 0.5)',\n",
    "            'annot': 'rgba(149, 165, 166, 0.5)',\n",
    "            'highlight': 'rgba(192, 57, 43, 1.0)'\n",
    "        }\n",
    "    }\n",
    "    colors = {\n",
    "        'upright': {\n",
    "            'fill': 'darkred',\n",
    "            'line': 'darkred',\n",
    "            'line_main': 'darkred',\n",
    "            'grid': 'rgba(189, 195, 199, 0.5)',\n",
    "            'annot': 'rgba(149, 165, 166, 0.5)',\n",
    "            'highlight': 'rgba(192, 57, 43, 1.0)'\n",
    "        },\n",
    "        'inverted': {\n",
    "            'fill': 'darkblue',\n",
    "            'line': 'darkblue',\n",
    "            'line_main': 'darkblue',\n",
    "            'grid': 'rgba(189, 195, 199, 0.5)',\n",
    "            'annot': 'rgba(149, 165, 166, 0.5)',\n",
    "            'highlight': 'rgba(192, 57, 43, 1.0)'\n",
    "        }\n",
    "    }\n",
    "    if len(dists) == 4:\n",
    "        datasets = ['inanimate_objects', 'species', 'faces', 'sociable_weavers']\n",
    "        show_legend = True\n",
    "    if len(dists) == 3:\n",
    "        datasets = ['inanimate_objects', 'species', 'faces']\n",
    "        show_legend = True\n",
    "    if len(dists) == 2:\n",
    "        datasets = ['inanimate_objects', 'faces']\n",
    "        show_legend = False\n",
    "    n_rows = len(dists)\n",
    "    n_cols = len(datasets)\n",
    "    fig = make_subplots(rows=n_rows, cols=n_cols, column_titles=datasets,\n",
    "                       row_titles=list(dists.keys()), horizontal_spacing=0.07)\n",
    "#     fig.print_grid()\n",
    "    for k, model in enumerate(dists):\n",
    "        for j, dataset in enumerate(datasets):\n",
    "            for orientation in ['upright', 'inverted']:\n",
    "                roc_fprs = []\n",
    "                roc_tprs = []\n",
    "                fpr_mean = np.linspace(0, 1, 100)\n",
    "                interp_tprs = []\n",
    "                for i in range(1,30):\n",
    "                    curr_df = dists[model]\n",
    "                    filtered = curr_df[curr_df[DATASET_LABEL] == dataset]\n",
    "                    filtered = filtered[filtered[ORIENTATION_LABEL] == orientation]\n",
    "                    filtered = filtered[filtered[SAMPLE_IDX_LABEL] == str(i)]\n",
    "#                     filtered = curr_df[(curr_df[DATASET_LABEL] == dataset) & (curr_df[ORIENTATION_LABEL] == orientation) & (curr_df[SAMPLE_IDX_LABEL] == i)]\n",
    "                    fpr, tpr, thresholds = metrics.roc_curve(filtered[SAME_LABEL], filtered['fc7'], pos_label=1, drop_intermediate=False)\n",
    "                    roc_fprs.append(fpr)\n",
    "                    roc_tprs.append(tpr)\n",
    "                    interp_tpr = np.interp(fpr_mean, fpr, tpr)\n",
    "                    interp_tpr[0] = 0.0\n",
    "                    interp_tprs.append(interp_tpr)\n",
    "                tpr_mean = np.mean(interp_tprs, axis=0)\n",
    "                tpr_std = 2*np.std(interp_tprs, axis=0)\n",
    "                tpr_upper = np.clip(tpr_mean+tpr_std, 0, 1)\n",
    "                tpr_lower = tpr_mean-tpr_std\n",
    "                if show_tpr_variance:\n",
    "                    fig.add_trace(\n",
    "                        go.Scatter(\n",
    "                            x = fpr_mean, y = tpr_upper, line = dict(color=colors[orientation]['line'], width=1), hoverinfo = \"skip\",\n",
    "                            showlegend = False, name = 'upper'), row=1+k, col=1+j)\n",
    "                    fig.add_trace(\n",
    "                        go.Scatter(\n",
    "                            x = fpr_mean, y = tpr_lower, fill = 'tonexty', fillcolor = colors[orientation]['fill'],\n",
    "                            line = dict(color=colors[orientation]['line'], width=1), hoverinfo = \"skip\", showlegend = False, name = 'lower'), \n",
    "                        row=k+1, col=j+1)\n",
    "                fig.add_trace(\n",
    "                    go.Scatter(\n",
    "                        x = fpr_mean, y = tpr_mean, line = dict(color=colors[orientation]['line_main'], width=2), hoverinfo = \"skip\",\n",
    "                        showlegend = show_legend, name=f'{model} trained, tested on {orientation} {dataset}'), row=k+1, col=j+1)\n",
    "            # Commented out dashed line for 'guess' ROC\n",
    "            # fig.add_shape(\n",
    "            #     type ='line', line =dict(dash='dash'), x0=0, x1=1, y0=0, y1=1, row=k+1, col=j+1)\n",
    "    fig.update_layout(\n",
    "        template = 'plotly_white', width = 200*n_cols + show_legend*400, height=200*n_rows)\n",
    "    # fig.update_layout( legend = {\"xanchor\": \"right\", \"x\": 3})\n",
    "    fig.update_yaxes(range = [0, 1], gridcolor = colors[orientation]['grid'], scaleanchor = \"x\", scaleratio = 1,linecolor='black')\n",
    "    fig.update_xaxes(range = [0, 1], gridcolor = colors[orientation]['grid'], constrain = 'domain',linecolor = 'black')\n",
    "    fig.show()\n",
    "    fig.write_html(f'/home/ssd_storage/experiments/Expertise/experiment2/new_design/{fn}.html')\n",
    "    print(f'/home/ssd_storage/experiments/Expertise/experiment2/new_design/{fn}.html')"
   ]
  },
  {
   "cell_type": "code",
   "execution_count": null,
   "metadata": {},
   "outputs": [],
   "source": [
    "def plot_ordered(csv_pths: Dict[str, str], fn: str, show_tpr_variance: bool = True) -> None:\n",
    "    dfs = {}\n",
    "    models_aucs_series = {}\n",
    "    \n",
    "    for model in csv_pths:\n",
    "        df = pd.read_csv(csv_pths[model])\n",
    "        df = formalize_pair_type(df)\n",
    "        dfs[model] = df\n",
    "        curr_aucs, curr_summary = get_aucs(df)\n",
    "        print(curr_aucs)\n",
    "        print(curr_aucs.reset_index().groupby(['dataset', 'orientation'], axis=0).mean())\n",
    "        models_aucs_series[model] = curr_aucs\n",
    "        \n",
    "    models_aucs = pd.DataFrame(models_aucs_series)\n",
    "    models_aucs.to_csv(f'/home/ssd_storage/experiments/expertise_cls_size_control/faces_260_aucs.csv')\n",
    "    plot_ROC(dfs, fn, show_tpr_variance)"
   ]
  },
  {
   "cell_type": "code",
   "execution_count": null,
   "metadata": {
    "collapsed": true
   },
   "outputs": [],
   "source": [
    "diagonal_paths = {\n",
    "    '260_inanimates': '/home/hdd_storage/mlflow/artifact_store/faces_objects_inversion/665cb3935bac4f8f9e462be5cda28745/artifacts/dists.csv',\n",
    "    '30_inanimates': '/home/hdd_storage/mlflow/artifact_store/faces_objects_inversion/4a897372f2414e5e9bab33a0f0fb94c4/artifacts/dists.csv',\n",
    "    '260_species': '/home/hdd_storage/mlflow/artifact_store/inversion_effect/8675b29e48f84a0b99870f006a74c71d/artifacts/dists.csv',\n",
    "    '30_species': '/home/hdd_storage/mlflow/artifact_store/inversion_effect/eb293b67f8624e698b06e5fa382ef005/artifacts/dists.csv',\n",
    "    '260_faces': '/home/hdd_storage/mlflow/artifact_store/faces_objects_inversion/ad27097ceff64b719e8da3c9593e58b9/artifacts/dists.csv',\n",
    "    '30_faces': '/home/hdd_storage/mlflow/artifact_store/faces_objects_inversion/214575675c834788ab7141d87789f314/artifacts/dists.csv',\n",
    "    '30_sociable_weavers': '/home/hdd_storage/mlflow/artifact_store/inversion_effect/c6b3733cbac74bee87ad03213ff13188/artifacts/dists.csv',\n",
    "}\n",
    "plot_ordered(diagonal_paths, 'ROCS_domain_diagonal_datasets_with_variance_fixed_faces_objects_with_variance', True)\n"
   ]
  },
  {
   "cell_type": "code",
   "execution_count": null,
   "metadata": {},
   "outputs": [],
   "source": [
    "diagonal_paths = {\n",
    "    '260_inanimates': '/home/hdd_storage/mlflow/artifact_store/faces_objects_inversion/665cb3935bac4f8f9e462be5cda28745/artifacts/dists.csv',\n",
    "    '30_inanimates': '/home/hdd_storage/mlflow/artifact_store/faces_objects_inversion/4a897372f2414e5e9bab33a0f0fb94c4/artifacts/dists.csv',\n",
    "    '260_species': '/home/hdd_storage/mlflow/artifact_store/inversion_effect/8675b29e48f84a0b99870f006a74c71d/artifacts/dists.csv',\n",
    "    '30_species': '/home/hdd_storage/mlflow/artifact_store/inversion_effect/eb293b67f8624e698b06e5fa382ef005/artifacts/dists.csv',\n",
    "    '260_faces': '/home/hdd_storage/mlflow/artifact_store/faces_objects_inversion/ad27097ceff64b719e8da3c9593e58b9/artifacts/dists.csv',\n",
    "    '30_faces': '/home/hdd_storage/mlflow/artifact_store/faces_objects_inversion/214575675c834788ab7141d87789f314/artifacts/dists.csv',\n",
    "    '30_sociable_weavers': '/home/hdd_storage/mlflow/artifact_store/inversion_effect/c6b3733cbac74bee87ad03213ff13188/artifacts/dists.csv',\n",
    "}\n",
    "plot_ordered(diagonal_paths, 'ROCS_domain_diagonal_datasets_with_variance_fixed_faces_objects_no_variance', False)\n"
   ]
  },
  {
   "cell_type": "code",
   "execution_count": null,
   "metadata": {},
   "outputs": [],
   "source": [
    "diagonal_paths = {\n",
    "    '260_inanimates': '/home/hdd_storage/mlflow/artifact_store/faces_objects_inversion/665cb3935bac4f8f9e462be5cda28745/artifacts/dists.csv',\n",
    "    '260_species': '/home/hdd_storage/mlflow/artifact_store/inversion_effect/8675b29e48f84a0b99870f006a74c71d/artifacts/dists.csv',\n",
    "    '260_faces': '/home/hdd_storage/mlflow/artifact_store/faces_objects_inversion/ad27097ceff64b719e8da3c9593e58b9/artifacts/dists.csv'\n",
    "}\n",
    "plot_ordered(diagonal_paths, 'ROCS_260_cls', False)\n"
   ]
  },
  {
   "cell_type": "code",
   "execution_count": null,
   "metadata": {},
   "outputs": [],
   "source": [
    "diagonal_paths = {\n",
    "    '260_inanimates': '/home/hdd_storage/mlflow/artifact_store/faces_objects_inversion/665cb3935bac4f8f9e462be5cda28745/artifacts/dists.csv',\n",
    "    '260_species': '/home/hdd_storage/mlflow/artifact_store/inversion_effect/8675b29e48f84a0b99870f006a74c71d/artifacts/dists.csv',\n",
    "    '260_faces': '/home/hdd_storage/mlflow/artifact_store/faces_objects_inversion/ad27097ceff64b719e8da3c9593e58b9/artifacts/dists.csv',\n",
    "    '30_inanimates': '/home/hdd_storage/mlflow/artifact_store/faces_objects_inversion/4a897372f2414e5e9bab33a0f0fb94c4/artifacts/dists.csv',\n",
    "    '30_species': '/home/hdd_storage/mlflow/artifact_store/inversion_effect/eb293b67f8624e698b06e5fa382ef005/artifacts/dists.csv',\n",
    "    '30_faces': '/home/hdd_storage/mlflow/artifact_store/faces_objects_inversion/214575675c834788ab7141d87789f314/artifacts/dists.csv',\n",
    "    '30_sociable_weavers': '/home/hdd_storage/mlflow/artifact_store/inversion_effect/c6b3733cbac74bee87ad03213ff13188/artifacts/dists.csv',\n",
    "}\n",
    "plot_ordered(diagonal_paths, 'ROCS_cls_diagonal_datasets_with_variance_fixed_faces_objects_no_variance', False)\n"
   ]
  },
  {
   "cell_type": "code",
   "execution_count": null,
   "metadata": {},
   "outputs": [],
   "source": [
    "diagonal_paths = {\n",
    "    '260_inanimates': '/home/hdd_storage/mlflow/artifact_store/faces_objects_inversion/665cb3935bac4f8f9e462be5cda28745/artifacts/dists.csv',\n",
    "    '260_species': '/home/hdd_storage/mlflow/artifact_store/inversion_effect/8675b29e48f84a0b99870f006a74c71d/artifacts/dists.csv',\n",
    "    '260_faces': '/home/hdd_storage/mlflow/artifact_store/faces_objects_inversion/ad27097ceff64b719e8da3c9593e58b9/artifacts/dists.csv',\n",
    "    '30_inanimates': '/home/hdd_storage/mlflow/artifact_store/faces_objects_inversion/4a897372f2414e5e9bab33a0f0fb94c4/artifacts/dists.csv',\n",
    "    '30_species': '/home/hdd_storage/mlflow/artifact_store/inversion_effect/eb293b67f8624e698b06e5fa382ef005/artifacts/dists.csv',\n",
    "    '30_faces': '/home/hdd_storage/mlflow/artifact_store/faces_objects_inversion/214575675c834788ab7141d87789f314/artifacts/dists.csv',\n",
    "    '30_sociable_weavers': '/home/hdd_storage/mlflow/artifact_store/inversion_effect/c6b3733cbac74bee87ad03213ff13188/artifacts/dists.csv',\n",
    "}\n",
    "plot_ordered(diagonal_paths, 'ROCS_cls_diagonal_datasets_with_variance_fixed_faces_objects_with_variance', True)\n"
   ]
  },
  {
   "cell_type": "code",
   "execution_count": null,
   "metadata": {},
   "outputs": [],
   "source": [
    "diagonal_paths = {\n",
    "    '260_inanimates': '/home/hdd_storage/mlflow/artifact_store/faces_objects_inversion/665cb3935bac4f8f9e462be5cda28745/artifacts/dists.csv',\n",
    "    '260_species': '/home/hdd_storage/mlflow/artifact_store/inversion_effect/8675b29e48f84a0b99870f006a74c71d/artifacts/dists.csv',\n",
    "    '260_faces': '/home/hdd_storage/mlflow/artifact_store/inversion_effect/7ada2c4bc4e447a4a21082e062694ec7/artifacts/dists.csv'\n",
    "}\n",
    "plot_ordered(diagonal_paths, '260_csl_faces_300_imgs', False)\n"
   ]
  },
  {
   "cell_type": "code",
   "execution_count": null,
   "metadata": {},
   "outputs": [],
   "source": [
    "#1000\n",
    "paths = {\n",
    "    '1000_inanimates': '/home/hdd_storage/mlflow/artifact_store/inversion_effect/b36e60a0041348e893ba71847ea3839a/artifacts/dists.csv',\n",
    "    '1000_faces': '/home/hdd_storage/mlflow/artifact_store/inversion_effect/8623d0f3e5064f3fa73ff4dad165ca4d/artifacts/dists.csv',\n",
    "}\n",
    "plot_ordered(paths, 'ROCS_1000_faces_objects', False)"
   ]
  },
  {
   "cell_type": "code",
   "execution_count": null,
   "metadata": {},
   "outputs": [],
   "source": [
    "paths = {\n",
    "    '30 inanimate objects': '/home/hdd_storage/mlflow/artifact_store/expertise_cls_size_control/b0cd2de5763943d8a1074ac2fd61135a/artifacts/dists.csv',\n",
    "    '30 species': '/home/hdd_storage/mlflow/artifact_store/inversion_effect/eb293b67f8624e698b06e5fa382ef005/artifacts/dists.csv',\n",
    "    '30 faces': '/home/hdd_storage/mlflow/artifact_store/expertise_cls_size_control/000213465fe34a84ac1cecdcc6a73518/artifacts/dists.csv',\n",
    "    '30 sociable Weavers':'/home/hdd_storage/mlflow/artifact_store/expertise_cls_size_control/0c1a24c77e084e7e885101e4f75766fd/artifacts/dists.csv'\n",
    "    }\n",
    "plot_ordered(paths, 'soc_weav_cls_size_100', False)\n",
    "#/home/ssd_storage/experiments/Expertise/experiment2/new_design/soc_weav_cls_size_100.html"
   ]
  }
 ],
 "metadata": {
  "kernelspec": {
   "display_name": "facial_feature_impact_comparison",
   "language": "python",
   "name": "python3"
  },
  "language_info": {
   "codemirror_mode": {
    "name": "ipython",
    "version": 3
   },
   "file_extension": ".py",
   "mimetype": "text/x-python",
   "name": "python",
   "nbconvert_exporter": "python",
   "pygments_lexer": "ipython3",
   "version": "3.8.5"
  },
  "vscode": {
   "interpreter": {
    "hash": "6526a419eb91e2adc0ec5581c5e8865307f0c0737901d5ba6bfcae02c4cc2884"
   }
  }
 },
 "nbformat": 4,
 "nbformat_minor": 4
}
