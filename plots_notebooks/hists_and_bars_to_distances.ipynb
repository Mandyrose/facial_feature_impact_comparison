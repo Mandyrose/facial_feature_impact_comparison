{
 "cells": [
  {
   "cell_type": "code",
   "execution_count": 120,
   "metadata": {},
   "outputs": [],
   "source": [
    "import pandas as pd\n",
    "import plotly.express as px\n",
    "import numpy as np\n",
    "import itertools"
   ]
  },
  {
   "cell_type": "code",
   "execution_count": 133,
   "metadata": {},
   "outputs": [],
   "source": [
    "fie = pd.read_csv('/home/ssd_storage/experiments/MR/whites/results/inverse/inverse_white_ql_lfw.csv')\n",
    "# fie = pd.read_csv('/home/ssd_storage/experiments/MR/whites/results/small_num_results/small_num_whites_lfw.csv')\n",
    "fie['color'] = fie['type'] + fie['num_ids'].astype(str) + fie['num_pics'].astype(str)"
   ]
  },
  {
   "cell_type": "code",
   "execution_count": 134,
   "metadata": {},
   "outputs": [
    {
     "data": {
      "application/vnd.plotly.v1+json": {
       "config": {
        "plotlyServerURL": "https://plot.ly"
       },
       "data": [
        {
         "alignmentgroup": "True",
         "bingroup": "x",
         "hovertemplate": "color=invert_diff_pairs21<br>x=%{x}<br>count=%{y}<extra></extra>",
         "legendgroup": "invert_diff_pairs21",
         "marker": {
          "color": "#636efa"
         },
         "name": "invert_diff_pairs21",
         "offsetgroup": "invert_diff_pairs21",
         "orientation": "v",
         "showlegend": true,
         "type": "histogram",
         "x": [
          0.0009859222999999999,
          0.0010291361,
          0.001033663,
          0.0010779606,
          0.0010028877,
          0.0011479345,
          0.0011976914,
          0.00086144754,
          0.0012847066,
          0.0010402072,
          0.0011218113,
          0.0012185262,
          0.0011400225,
          0.0010376333,
          0.001004133
         ],
         "xaxis": "x",
         "yaxis": "y"
        },
        {
         "alignmentgroup": "True",
         "bingroup": "x",
         "hovertemplate": "color=invert_same_pairs21<br>x=%{x}<br>count=%{y}<extra></extra>",
         "legendgroup": "invert_same_pairs21",
         "marker": {
          "color": "#EF553B"
         },
         "name": "invert_same_pairs21",
         "offsetgroup": "invert_same_pairs21",
         "orientation": "v",
         "showlegend": true,
         "type": "histogram",
         "x": [
          0.0010105011,
          0.0009718204400000001,
          0.0008623546000000001,
          0.0009485689,
          0.0011206075,
          0.0010787273,
          0.0010100664,
          0.0010806319,
          0.00108281,
          0.0012279921,
          0.0009065055999999999,
          0.0012604863,
          0.0010268188000000001,
          0.0011053872999999999,
          0.0010657104
         ],
         "xaxis": "x",
         "yaxis": "y"
        },
        {
         "alignmentgroup": "True",
         "bingroup": "x",
         "hovertemplate": "color=invert_diff_pairs25<br>x=%{x}<br>count=%{y}<extra></extra>",
         "legendgroup": "invert_diff_pairs25",
         "marker": {
          "color": "#00cc96"
         },
         "name": "invert_diff_pairs25",
         "offsetgroup": "invert_diff_pairs25",
         "orientation": "v",
         "showlegend": true,
         "type": "histogram",
         "x": [
          0.12735976,
          0.11261353,
          0.1966731,
          0.40662342,
          0.1589773,
          0.21235895,
          0.23129813,
          0.119063504,
          0.18591495,
          0.123422,
          0.15688285,
          0.16337120000000002,
          0.20870684,
          0.21738702,
          0.18578073
         ],
         "xaxis": "x",
         "yaxis": "y"
        },
        {
         "alignmentgroup": "True",
         "bingroup": "x",
         "hovertemplate": "color=invert_same_pairs25<br>x=%{x}<br>count=%{y}<extra></extra>",
         "legendgroup": "invert_same_pairs25",
         "marker": {
          "color": "#ab63fa"
         },
         "name": "invert_same_pairs25",
         "offsetgroup": "invert_same_pairs25",
         "orientation": "v",
         "showlegend": true,
         "type": "histogram",
         "x": [
          0.14768285,
          0.115971684,
          0.13791327,
          0.35670254,
          0.16560106,
          0.16760916,
          0.13128698,
          0.13102831,
          0.16286814,
          0.15552957,
          0.11993024,
          0.20595029999999998,
          0.1573764,
          0.24092503,
          0.13183594
         ],
         "xaxis": "x",
         "yaxis": "y"
        },
        {
         "alignmentgroup": "True",
         "bingroup": "x",
         "hovertemplate": "color=invert_diff_pairs210<br>x=%{x}<br>count=%{y}<extra></extra>",
         "legendgroup": "invert_diff_pairs210",
         "marker": {
          "color": "#FFA15A"
         },
         "name": "invert_diff_pairs210",
         "offsetgroup": "invert_diff_pairs210",
         "orientation": "v",
         "showlegend": true,
         "type": "histogram",
         "x": [
          2.4628813,
          2.2657827999999998,
          1.1029471000000002,
          2.6619961,
          2.0202758000000003,
          1.6750287,
          2.2842849999999997,
          2.3246224,
          1.9356354,
          3.5589461000000004,
          2.2921655,
          2.1189687000000004,
          3.2601945,
          1.5195651000000001,
          5.063772
         ],
         "xaxis": "x",
         "yaxis": "y"
        },
        {
         "alignmentgroup": "True",
         "bingroup": "x",
         "hovertemplate": "color=invert_same_pairs210<br>x=%{x}<br>count=%{y}<extra></extra>",
         "legendgroup": "invert_same_pairs210",
         "marker": {
          "color": "#19d3f3"
         },
         "name": "invert_same_pairs210",
         "offsetgroup": "invert_same_pairs210",
         "orientation": "v",
         "showlegend": true,
         "type": "histogram",
         "x": [
          3.5104709,
          2.4895443999999998,
          0.9068904000000001,
          0.8583243,
          3.067383,
          0.85410565,
          1.4760144,
          0.84983516,
          1.4994428,
          3.063484,
          2.9107914,
          2.3008667999999997,
          1.4226219999999998,
          2.4236524,
          2.0795076
         ],
         "xaxis": "x",
         "yaxis": "y"
        },
        {
         "alignmentgroup": "True",
         "bingroup": "x",
         "hovertemplate": "color=invert_diff_pairs220<br>x=%{x}<br>count=%{y}<extra></extra>",
         "legendgroup": "invert_diff_pairs220",
         "marker": {
          "color": "#FF6692"
         },
         "name": "invert_diff_pairs220",
         "offsetgroup": "invert_diff_pairs220",
         "orientation": "v",
         "showlegend": true,
         "type": "histogram",
         "x": [
          2.3943033,
          1.4500377,
          3.5127627999999995,
          4.2397013,
          1.886828,
          2.3628384999999996,
          2.7018075,
          3.1920311000000003,
          2.3845243,
          2.3920262,
          1.9383727,
          2.0990672000000004,
          3.5205216,
          2.3314904999999997,
          3.6349913999999997
         ],
         "xaxis": "x",
         "yaxis": "y"
        },
        {
         "alignmentgroup": "True",
         "bingroup": "x",
         "hovertemplate": "color=invert_same_pairs220<br>x=%{x}<br>count=%{y}<extra></extra>",
         "legendgroup": "invert_same_pairs220",
         "marker": {
          "color": "#B6E880"
         },
         "name": "invert_same_pairs220",
         "offsetgroup": "invert_same_pairs220",
         "orientation": "v",
         "showlegend": true,
         "type": "histogram",
         "x": [
          2.4072793,
          1.6991956000000001,
          2.5017354,
          3.7833980000000005,
          2.0798929,
          2.2399774,
          1.49642,
          1.5556583000000002,
          2.1774557,
          2.038169,
          1.5007825000000001,
          2.535939,
          1.970062,
          3.7059271000000003,
          1.5479777
         ],
         "xaxis": "x",
         "yaxis": "y"
        },
        {
         "alignmentgroup": "True",
         "bingroup": "x",
         "hovertemplate": "color=invert_diff_pairs250<br>x=%{x}<br>count=%{y}<extra></extra>",
         "legendgroup": "invert_diff_pairs250",
         "marker": {
          "color": "#FF97FF"
         },
         "name": "invert_diff_pairs250",
         "offsetgroup": "invert_diff_pairs250",
         "orientation": "v",
         "showlegend": true,
         "type": "histogram",
         "x": [
          13.464847,
          13.496072,
          14.109557,
          11.486562,
          13.036463000000001,
          12.958077000000001,
          12.75606,
          8.7672825,
          14.665464000000002,
          14.808307000000001,
          14.670976000000001,
          14.320188,
          15.904016,
          10.894378999999999,
          15.451098000000002
         ],
         "xaxis": "x",
         "yaxis": "y"
        },
        {
         "alignmentgroup": "True",
         "bingroup": "x",
         "hovertemplate": "color=invert_same_pairs250<br>x=%{x}<br>count=%{y}<extra></extra>",
         "legendgroup": "invert_same_pairs250",
         "marker": {
          "color": "#FECB52"
         },
         "name": "invert_same_pairs250",
         "offsetgroup": "invert_same_pairs250",
         "orientation": "v",
         "showlegend": true,
         "type": "histogram",
         "x": [
          15.089804,
          13.87853,
          11.032100999999999,
          11.609099,
          15.414462,
          10.23819,
          13.533806,
          10.1210575,
          12.617766,
          15.068191,
          13.747632000000001,
          15.506126,
          13.198617,
          13.343724,
          13.867328
         ],
         "xaxis": "x",
         "yaxis": "y"
        },
        {
         "alignmentgroup": "True",
         "bingroup": "x",
         "hovertemplate": "color=invert_diff_pairs2100<br>x=%{x}<br>count=%{y}<extra></extra>",
         "legendgroup": "invert_diff_pairs2100",
         "marker": {
          "color": "#636efa"
         },
         "name": "invert_diff_pairs2100",
         "offsetgroup": "invert_diff_pairs2100",
         "orientation": "v",
         "showlegend": true,
         "type": "histogram",
         "x": [
          3.1589305,
          2.3654747000000005,
          3.1939672999999997,
          2.3115304,
          4.2270293,
          1.6630535,
          1.9438636999999999,
          2.2992086,
          2.2875389999999998,
          1.6647418999999999,
          4.802741999999999,
          1.5948759,
          5.519864,
          2.5399258,
          2.0911844
         ],
         "xaxis": "x",
         "yaxis": "y"
        },
        {
         "alignmentgroup": "True",
         "bingroup": "x",
         "hovertemplate": "color=invert_same_pairs2100<br>x=%{x}<br>count=%{y}<extra></extra>",
         "legendgroup": "invert_same_pairs2100",
         "marker": {
          "color": "#EF553B"
         },
         "name": "invert_same_pairs2100",
         "offsetgroup": "invert_same_pairs2100",
         "orientation": "v",
         "showlegend": true,
         "type": "histogram",
         "x": [
          3.2625919999999997,
          3.1277316,
          1.0015968000000002,
          1.5674392,
          3.4518137,
          1.2663056000000001,
          1.6671509999999998,
          1.4404972,
          1.5789696000000002,
          1.5813233,
          2.097154,
          3.5807803,
          1.688679,
          6.918457000000001,
          1.4293566
         ],
         "xaxis": "x",
         "yaxis": "y"
        },
        {
         "alignmentgroup": "True",
         "bingroup": "x",
         "hovertemplate": "color=invert_diff_pairs2200<br>x=%{x}<br>count=%{y}<extra></extra>",
         "legendgroup": "invert_diff_pairs2200",
         "marker": {
          "color": "#00cc96"
         },
         "name": "invert_diff_pairs2200",
         "offsetgroup": "invert_diff_pairs2200",
         "orientation": "v",
         "showlegend": true,
         "type": "histogram",
         "x": [
          2.7944574,
          4.217013,
          3.80628,
          3.763262,
          2.6403165,
          2.7629886000000003,
          3.121213,
          3.4463785000000002,
          3.3435947999999995,
          2.6359757999999998,
          2.6934254,
          2.5158894,
          4.8878307,
          2.6043717999999996,
          2.7124212000000005
         ],
         "xaxis": "x",
         "yaxis": "y"
        },
        {
         "alignmentgroup": "True",
         "bingroup": "x",
         "hovertemplate": "color=invert_same_pairs2200<br>x=%{x}<br>count=%{y}<extra></extra>",
         "legendgroup": "invert_same_pairs2200",
         "marker": {
          "color": "#ab63fa"
         },
         "name": "invert_same_pairs2200",
         "offsetgroup": "invert_same_pairs2200",
         "orientation": "v",
         "showlegend": true,
         "type": "histogram",
         "x": [
          2.6880178,
          1.9752831000000002,
          1.8095153999999998,
          3.6210067,
          2.8327277000000004,
          2.3808013999999997,
          1.8388096999999999,
          1.7825522,
          3.1014947999999998,
          2.3335857000000004,
          1.8545125,
          2.1927220000000003,
          2.3474209999999998,
          4.375192,
          2.1478438
         ],
         "xaxis": "x",
         "yaxis": "y"
        },
        {
         "alignmentgroup": "True",
         "bingroup": "x",
         "hovertemplate": "color=invert_diff_pairs2300<br>x=%{x}<br>count=%{y}<extra></extra>",
         "legendgroup": "invert_diff_pairs2300",
         "marker": {
          "color": "#FFA15A"
         },
         "name": "invert_diff_pairs2300",
         "offsetgroup": "invert_diff_pairs2300",
         "orientation": "v",
         "showlegend": true,
         "type": "histogram",
         "x": [
          3.5115726,
          4.7611327,
          3.2858503,
          4.348193,
          3.8123689,
          3.107354,
          2.8253912999999997,
          4.412591,
          4.321033,
          3.8563913999999997,
          2.809588,
          4.1744184,
          4.007912999999999,
          2.608218,
          3.2619283
         ],
         "xaxis": "x",
         "yaxis": "y"
        },
        {
         "alignmentgroup": "True",
         "bingroup": "x",
         "hovertemplate": "color=invert_same_pairs2300<br>x=%{x}<br>count=%{y}<extra></extra>",
         "legendgroup": "invert_same_pairs2300",
         "marker": {
          "color": "#19d3f3"
         },
         "name": "invert_same_pairs2300",
         "offsetgroup": "invert_same_pairs2300",
         "orientation": "v",
         "showlegend": true,
         "type": "histogram",
         "x": [
          3.5620562999999996,
          2.928287,
          2.5503335,
          2.6164546000000004,
          3.8041885000000004,
          3.165578,
          2.2906437000000004,
          2.685921,
          3.6281296999999997,
          4.5804540000000005,
          2.105968,
          3.4081936,
          2.499541,
          4.199032,
          2.50618
         ],
         "xaxis": "x",
         "yaxis": "y"
        },
        {
         "alignmentgroup": "True",
         "bingroup": "x",
         "hovertemplate": "color=invert_diff_pairs51<br>x=%{x}<br>count=%{y}<extra></extra>",
         "legendgroup": "invert_diff_pairs51",
         "marker": {
          "color": "#FF6692"
         },
         "name": "invert_diff_pairs51",
         "offsetgroup": "invert_diff_pairs51",
         "orientation": "v",
         "showlegend": true,
         "type": "histogram",
         "x": [
          0.10810020599999999,
          0.087758966,
          0.16687292,
          0.08726209,
          0.09103044,
          0.2263825,
          0.08445174,
          0.10201711,
          0.41396320000000003,
          0.16688736,
          0.11666628,
          0.34879196,
          0.24945213,
          0.39913008,
          0.16253898
         ],
         "xaxis": "x",
         "yaxis": "y"
        },
        {
         "alignmentgroup": "True",
         "bingroup": "x",
         "hovertemplate": "color=invert_same_pairs51<br>x=%{x}<br>count=%{y}<extra></extra>",
         "legendgroup": "invert_same_pairs51",
         "marker": {
          "color": "#B6E880"
         },
         "name": "invert_same_pairs51",
         "offsetgroup": "invert_same_pairs51",
         "orientation": "v",
         "showlegend": true,
         "type": "histogram",
         "x": [
          0.11913997,
          0.093307525,
          0.14535145,
          0.0899813,
          0.10197573,
          0.21906985,
          0.09273192,
          0.10194437,
          0.40565650000000003,
          0.18256684,
          0.09597854,
          0.35046014,
          0.24591504,
          0.40201718,
          0.1563265
         ],
         "xaxis": "x",
         "yaxis": "y"
        },
        {
         "alignmentgroup": "True",
         "bingroup": "x",
         "hovertemplate": "color=invert_diff_pairs55<br>x=%{x}<br>count=%{y}<extra></extra>",
         "legendgroup": "invert_diff_pairs55",
         "marker": {
          "color": "#FF97FF"
         },
         "name": "invert_diff_pairs55",
         "offsetgroup": "invert_diff_pairs55",
         "orientation": "v",
         "showlegend": true,
         "type": "histogram",
         "x": [
          2.7246964,
          1.9580803,
          6.970672599999999,
          2.513861,
          2.05132,
          2.9199702999999997,
          2.2746868,
          6.103078400000001,
          3.4204154000000004,
          6.300275,
          2.9428349,
          4.301079799999999,
          2.6351259999999996,
          1.9242754000000002,
          2.1961746
         ],
         "xaxis": "x",
         "yaxis": "y"
        },
        {
         "alignmentgroup": "True",
         "bingroup": "x",
         "hovertemplate": "color=invert_same_pairs55<br>x=%{x}<br>count=%{y}<extra></extra>",
         "legendgroup": "invert_same_pairs55",
         "marker": {
          "color": "#FECB52"
         },
         "name": "invert_same_pairs55",
         "offsetgroup": "invert_same_pairs55",
         "orientation": "v",
         "showlegend": true,
         "type": "histogram",
         "x": [
          1.2929178,
          1.2741749,
          4.23684,
          2.1026187000000003,
          2.4116732999999995,
          3.9661297999999996,
          1.7367758000000002,
          2.1823452000000003,
          5.0088873,
          2.7342877,
          1.1206017,
          4.517557599999999,
          3.26753,
          3.1534755000000003,
          1.5848163
         ],
         "xaxis": "x",
         "yaxis": "y"
        },
        {
         "alignmentgroup": "True",
         "bingroup": "x",
         "hovertemplate": "color=invert_diff_pairs510<br>x=%{x}<br>count=%{y}<extra></extra>",
         "legendgroup": "invert_diff_pairs510",
         "marker": {
          "color": "#636efa"
         },
         "name": "invert_diff_pairs510",
         "offsetgroup": "invert_diff_pairs510",
         "orientation": "v",
         "showlegend": true,
         "type": "histogram",
         "x": [
          1.2509848999999997,
          1.4386108,
          0.5556634,
          1.3679162,
          1.3728781,
          0.52075726,
          0.8345343000000001,
          0.46431446,
          1.0724808000000001,
          1.43341,
          1.2334673,
          1.1862606000000002,
          1.0015665999999999,
          0.5901301999999999,
          1.3084742
         ],
         "xaxis": "x",
         "yaxis": "y"
        },
        {
         "alignmentgroup": "True",
         "bingroup": "x",
         "hovertemplate": "color=invert_same_pairs510<br>x=%{x}<br>count=%{y}<extra></extra>",
         "legendgroup": "invert_same_pairs510",
         "marker": {
          "color": "#EF553B"
         },
         "name": "invert_same_pairs510",
         "offsetgroup": "invert_same_pairs510",
         "orientation": "v",
         "showlegend": true,
         "type": "histogram",
         "x": [
          1.2898121999999999,
          1.4834988000000002,
          0.5514595,
          1.1497663999999999,
          1.550208,
          0.33774817,
          0.8643207,
          0.36356762,
          0.86633956,
          1.3582041999999999,
          1.2949128,
          1.2866538,
          0.8268139999999999,
          0.76666397,
          1.1747838
         ],
         "xaxis": "x",
         "yaxis": "y"
        },
        {
         "alignmentgroup": "True",
         "bingroup": "x",
         "hovertemplate": "color=invert_diff_pairs520<br>x=%{x}<br>count=%{y}<extra></extra>",
         "legendgroup": "invert_diff_pairs520",
         "marker": {
          "color": "#00cc96"
         },
         "name": "invert_diff_pairs520",
         "offsetgroup": "invert_diff_pairs520",
         "orientation": "v",
         "showlegend": true,
         "type": "histogram",
         "x": [
          6.803240299999999,
          7.287272,
          3.5915334000000003,
          8.861814500000001,
          7.1033826,
          3.799993,
          5.6909847000000005,
          3.9150720000000003,
          5.676828400000001,
          6.2440885999999995,
          7.2272815999999995,
          6.3741083,
          7.0105386,
          4.7349515,
          7.6213837
         ],
         "xaxis": "x",
         "yaxis": "y"
        },
        {
         "alignmentgroup": "True",
         "bingroup": "x",
         "hovertemplate": "color=invert_same_pairs520<br>x=%{x}<br>count=%{y}<extra></extra>",
         "legendgroup": "invert_same_pairs520",
         "marker": {
          "color": "#ab63fa"
         },
         "name": "invert_same_pairs520",
         "offsetgroup": "invert_same_pairs520",
         "orientation": "v",
         "showlegend": true,
         "type": "histogram",
         "x": [
          7.469835000000001,
          7.4358745,
          3.9889169,
          6.192071400000001,
          8.46916,
          2.8013897,
          5.798888,
          2.942936,
          4.8015932999999995,
          7.0806475,
          6.307449,
          6.4236197,
          5.062806,
          6.1955795,
          7.177656
         ],
         "xaxis": "x",
         "yaxis": "y"
        },
        {
         "alignmentgroup": "True",
         "bingroup": "x",
         "hovertemplate": "color=invert_diff_pairs550<br>x=%{x}<br>count=%{y}<extra></extra>",
         "legendgroup": "invert_diff_pairs550",
         "marker": {
          "color": "#FFA15A"
         },
         "name": "invert_diff_pairs550",
         "offsetgroup": "invert_diff_pairs550",
         "orientation": "v",
         "showlegend": true,
         "type": "histogram",
         "x": [
          7.908354300000001,
          9.333853999999999,
          6.9676895000000005,
          7.3731894,
          9.790125999999999,
          6.739382000000001,
          9.250422,
          6.4275002,
          9.944952,
          8.635653,
          9.732682,
          9.402434,
          9.1853285,
          6.437393,
          8.984725
         ],
         "xaxis": "x",
         "yaxis": "y"
        },
        {
         "alignmentgroup": "True",
         "bingroup": "x",
         "hovertemplate": "color=invert_same_pairs550<br>x=%{x}<br>count=%{y}<extra></extra>",
         "legendgroup": "invert_same_pairs550",
         "marker": {
          "color": "#19d3f3"
         },
         "name": "invert_same_pairs550",
         "offsetgroup": "invert_same_pairs550",
         "orientation": "v",
         "showlegend": true,
         "type": "histogram",
         "x": [
          8.483327000000001,
          8.82008,
          6.765236,
          5.686393700000001,
          9.92287,
          6.22764,
          8.69364,
          5.929498000000001,
          9.138275,
          9.172751,
          8.766587,
          9.251624000000001,
          8.161075,
          7.6415834,
          8.812952000000001
         ],
         "xaxis": "x",
         "yaxis": "y"
        },
        {
         "alignmentgroup": "True",
         "bingroup": "x",
         "hovertemplate": "color=invert_diff_pairs5100<br>x=%{x}<br>count=%{y}<extra></extra>",
         "legendgroup": "invert_diff_pairs5100",
         "marker": {
          "color": "#FF6692"
         },
         "name": "invert_diff_pairs5100",
         "offsetgroup": "invert_diff_pairs5100",
         "orientation": "v",
         "showlegend": true,
         "type": "histogram",
         "x": [
          5.7400627,
          6.0234547,
          5.285372,
          7.2723937,
          6.8554163,
          6.293037,
          7.032464,
          5.2263265,
          6.078957,
          6.0590663000000005,
          5.8508267,
          6.107012999999999,
          6.7005177,
          5.616848,
          5.944579
         ],
         "xaxis": "x",
         "yaxis": "y"
        },
        {
         "alignmentgroup": "True",
         "bingroup": "x",
         "hovertemplate": "color=invert_same_pairs5100<br>x=%{x}<br>count=%{y}<extra></extra>",
         "legendgroup": "invert_same_pairs5100",
         "marker": {
          "color": "#B6E880"
         },
         "name": "invert_same_pairs5100",
         "offsetgroup": "invert_same_pairs5100",
         "orientation": "v",
         "showlegend": true,
         "type": "histogram",
         "x": [
          6.076188,
          5.530064,
          5.0705860000000005,
          5.3385067,
          6.324584,
          4.7518806,
          5.836911,
          4.3585353,
          5.6743293,
          5.980539299999999,
          5.0470866999999995,
          5.7958940000000005,
          4.75451,
          6.883055000000001,
          5.5220769999999995
         ],
         "xaxis": "x",
         "yaxis": "y"
        },
        {
         "alignmentgroup": "True",
         "bingroup": "x",
         "hovertemplate": "color=invert_diff_pairs5200<br>x=%{x}<br>count=%{y}<extra></extra>",
         "legendgroup": "invert_diff_pairs5200",
         "marker": {
          "color": "#FF97FF"
         },
         "name": "invert_diff_pairs5200",
         "offsetgroup": "invert_diff_pairs5200",
         "orientation": "v",
         "showlegend": true,
         "type": "histogram",
         "x": [
          5.165718599999999,
          7.747807000000001,
          5.347903700000001,
          4.5525875,
          6.615117999999999,
          6.6598086,
          7.545275,
          4.686808999999999,
          8.255192999999998,
          5.8153915000000005,
          7.155537,
          6.382143,
          6.868117,
          5.444816599999999,
          6.632647500000001
         ],
         "xaxis": "x",
         "yaxis": "y"
        },
        {
         "alignmentgroup": "True",
         "bingroup": "x",
         "hovertemplate": "color=invert_same_pairs5200<br>x=%{x}<br>count=%{y}<extra></extra>",
         "legendgroup": "invert_same_pairs5200",
         "marker": {
          "color": "#FECB52"
         },
         "name": "invert_same_pairs5200",
         "offsetgroup": "invert_same_pairs5200",
         "orientation": "v",
         "showlegend": true,
         "type": "histogram",
         "x": [
          6.3109025999999995,
          5.5639715,
          5.126385,
          4.972844,
          6.618415400000001,
          5.598028,
          6.6115193,
          4.7057915,
          6.1138515,
          5.752877,
          5.9084725,
          5.9067235,
          5.520427,
          6.691796000000001,
          6.0416846
         ],
         "xaxis": "x",
         "yaxis": "y"
        },
        {
         "alignmentgroup": "True",
         "bingroup": "x",
         "hovertemplate": "color=invert_diff_pairs5300<br>x=%{x}<br>count=%{y}<extra></extra>",
         "legendgroup": "invert_diff_pairs5300",
         "marker": {
          "color": "#636efa"
         },
         "name": "invert_diff_pairs5300",
         "offsetgroup": "invert_diff_pairs5300",
         "orientation": "v",
         "showlegend": true,
         "type": "histogram",
         "x": [
          6.431016400000001,
          7.7754693,
          6.173276400000001,
          5.4179907,
          4.8829769999999995,
          7.060980000000001,
          5.773921,
          7.965432000000001,
          6.929466000000001,
          6.5238137,
          7.1645026,
          7.7640457,
          6.980401,
          5.565958,
          5.8888607
         ],
         "xaxis": "x",
         "yaxis": "y"
        },
        {
         "alignmentgroup": "True",
         "bingroup": "x",
         "hovertemplate": "color=invert_same_pairs5300<br>x=%{x}<br>count=%{y}<extra></extra>",
         "legendgroup": "invert_same_pairs5300",
         "marker": {
          "color": "#EF553B"
         },
         "name": "invert_same_pairs5300",
         "offsetgroup": "invert_same_pairs5300",
         "orientation": "v",
         "showlegend": true,
         "type": "histogram",
         "x": [
          5.989968,
          5.6357703,
          5.299923000000001,
          5.689944000000001,
          4.7235885,
          6.1183195,
          5.255079,
          4.8923373,
          6.2007422,
          5.963075,
          4.646641000000001,
          6.16549,
          6.466508,
          7.473008999999999,
          5.201964
         ],
         "xaxis": "x",
         "yaxis": "y"
        },
        {
         "alignmentgroup": "True",
         "bingroup": "x",
         "hovertemplate": "color=invert_diff_pairs101<br>x=%{x}<br>count=%{y}<extra></extra>",
         "legendgroup": "invert_diff_pairs101",
         "marker": {
          "color": "#00cc96"
         },
         "name": "invert_diff_pairs101",
         "offsetgroup": "invert_diff_pairs101",
         "orientation": "v",
         "showlegend": true,
         "type": "histogram",
         "x": [
          0.034329787,
          0.04226034,
          0.059296722999999996,
          0.04715183,
          0.042283895999999994,
          0.066481724,
          0.05387824,
          0.04058646,
          0.0698794,
          0.03762752,
          0.04945346,
          0.06194716,
          0.056302517999999996,
          0.05017399,
          0.039370745
         ],
         "xaxis": "x",
         "yaxis": "y"
        },
        {
         "alignmentgroup": "True",
         "bingroup": "x",
         "hovertemplate": "color=invert_same_pairs101<br>x=%{x}<br>count=%{y}<extra></extra>",
         "legendgroup": "invert_same_pairs101",
         "marker": {
          "color": "#ab63fa"
         },
         "name": "invert_same_pairs101",
         "offsetgroup": "invert_same_pairs101",
         "orientation": "v",
         "showlegend": true,
         "type": "histogram",
         "x": [
          0.033354014,
          0.0363464,
          0.038652167,
          0.04920369,
          0.043321285,
          0.061452775999999994,
          0.044565797000000004,
          0.051640387999999995,
          0.0630944,
          0.052319653,
          0.03427146,
          0.06383806,
          0.054831844000000005,
          0.053343847,
          0.045294676
         ],
         "xaxis": "x",
         "yaxis": "y"
        },
        {
         "alignmentgroup": "True",
         "bingroup": "x",
         "hovertemplate": "color=invert_diff_pairs105<br>x=%{x}<br>count=%{y}<extra></extra>",
         "legendgroup": "invert_diff_pairs105",
         "marker": {
          "color": "#FFA15A"
         },
         "name": "invert_diff_pairs105",
         "offsetgroup": "invert_diff_pairs105",
         "orientation": "v",
         "showlegend": true,
         "type": "histogram",
         "x": [
          7.4157305,
          8.497678,
          3.6111982000000005,
          6.4685416,
          8.26879,
          4.4508348,
          6.761478,
          3.4469415999999997,
          5.044691,
          6.8237076,
          7.491865600000001,
          6.250053,
          5.294175599999999,
          3.5618076000000003,
          7.2583113
         ],
         "xaxis": "x",
         "yaxis": "y"
        },
        {
         "alignmentgroup": "True",
         "bingroup": "x",
         "hovertemplate": "color=invert_same_pairs105<br>x=%{x}<br>count=%{y}<extra></extra>",
         "legendgroup": "invert_same_pairs105",
         "marker": {
          "color": "#19d3f3"
         },
         "name": "invert_same_pairs105",
         "offsetgroup": "invert_same_pairs105",
         "orientation": "v",
         "showlegend": true,
         "type": "histogram",
         "x": [
          7.352040299999999,
          8.320706,
          3.1668591,
          4.573494999999999,
          9.120550999999999,
          3.6401055,
          5.8534117,
          2.879419,
          4.3174505,
          7.4091554,
          7.040334,
          6.166101,
          4.4322367,
          4.874443,
          7.419040700000001
         ],
         "xaxis": "x",
         "yaxis": "y"
        },
        {
         "alignmentgroup": "True",
         "bingroup": "x",
         "hovertemplate": "color=invert_diff_pairs1010<br>x=%{x}<br>count=%{y}<extra></extra>",
         "legendgroup": "invert_diff_pairs1010",
         "marker": {
          "color": "#FF6692"
         },
         "name": "invert_diff_pairs1010",
         "offsetgroup": "invert_diff_pairs1010",
         "orientation": "v",
         "showlegend": true,
         "type": "histogram",
         "x": [
          7.1568785,
          7.8273315000000006,
          4.82878,
          8.115345,
          7.325796,
          5.598162,
          7.3228936000000004,
          4.5258107,
          7.0301595,
          7.1327929999999995,
          7.2235937,
          7.169726,
          7.951960000000001,
          5.1828449999999995,
          7.787216
         ],
         "xaxis": "x",
         "yaxis": "y"
        },
        {
         "alignmentgroup": "True",
         "bingroup": "x",
         "hovertemplate": "color=invert_same_pairs1010<br>x=%{x}<br>count=%{y}<extra></extra>",
         "legendgroup": "invert_same_pairs1010",
         "marker": {
          "color": "#B6E880"
         },
         "name": "invert_same_pairs1010",
         "offsetgroup": "invert_same_pairs1010",
         "orientation": "v",
         "showlegend": true,
         "type": "histogram",
         "x": [
          7.529864999999999,
          8.194449,
          4.547035,
          5.304424299999999,
          8.5392885,
          3.9740932,
          6.532742,
          3.8268657,
          6.161573000000001,
          7.2058979999999995,
          6.828466000000001,
          6.945353999999999,
          5.471983,
          7.282411,
          6.9510493
         ],
         "xaxis": "x",
         "yaxis": "y"
        },
        {
         "alignmentgroup": "True",
         "bingroup": "x",
         "hovertemplate": "color=invert_diff_pairs1020<br>x=%{x}<br>count=%{y}<extra></extra>",
         "legendgroup": "invert_diff_pairs1020",
         "marker": {
          "color": "#FF97FF"
         },
         "name": "invert_diff_pairs1020",
         "offsetgroup": "invert_diff_pairs1020",
         "orientation": "v",
         "showlegend": true,
         "type": "histogram",
         "x": [
          10.241033999999999,
          10.982445,
          8.066285,
          8.418106,
          11.494038,
          8.367521,
          11.675257,
          7.6294002999999995,
          10.784255,
          10.027936,
          12.070863000000001,
          11.014049,
          12.020357,
          8.450084,
          10.455405
         ],
         "xaxis": "x",
         "yaxis": "y"
        },
        {
         "alignmentgroup": "True",
         "bingroup": "x",
         "hovertemplate": "color=invert_same_pairs1020<br>x=%{x}<br>count=%{y}<extra></extra>",
         "legendgroup": "invert_same_pairs1020",
         "marker": {
          "color": "#FECB52"
         },
         "name": "invert_same_pairs1020",
         "offsetgroup": "invert_same_pairs1020",
         "orientation": "v",
         "showlegend": true,
         "type": "histogram",
         "x": [
          10.162991,
          10.979768,
          7.8745265,
          6.4667463,
          11.883514,
          6.794463,
          11.709524,
          7.79903,
          9.866012,
          10.503598,
          10.56288,
          10.91818,
          10.326233,
          9.932528,
          11.141117999999999
         ],
         "xaxis": "x",
         "yaxis": "y"
        },
        {
         "alignmentgroup": "True",
         "bingroup": "x",
         "hovertemplate": "color=invert_diff_pairs1050<br>x=%{x}<br>count=%{y}<extra></extra>",
         "legendgroup": "invert_diff_pairs1050",
         "marker": {
          "color": "#636efa"
         },
         "name": "invert_diff_pairs1050",
         "offsetgroup": "invert_diff_pairs1050",
         "orientation": "v",
         "showlegend": true,
         "type": "histogram",
         "x": [
          9.182995,
          10.067492999999999,
          8.671785,
          7.6403574999999995,
          10.627285,
          9.092272,
          10.622538,
          9.518559,
          10.946778,
          9.532293,
          11.750082,
          9.797761999999999,
          12.866691000000001,
          8.655458,
          10.1670475
         ],
         "xaxis": "x",
         "yaxis": "y"
        },
        {
         "alignmentgroup": "True",
         "bingroup": "x",
         "hovertemplate": "color=invert_same_pairs1050<br>x=%{x}<br>count=%{y}<extra></extra>",
         "legendgroup": "invert_same_pairs1050",
         "marker": {
          "color": "#EF553B"
         },
         "name": "invert_same_pairs1050",
         "offsetgroup": "invert_same_pairs1050",
         "orientation": "v",
         "showlegend": true,
         "type": "histogram",
         "x": [
          8.995038000000001,
          9.547628,
          6.8481474,
          9.057034,
          10.381447999999999,
          7.274236999999999,
          9.402721000000001,
          6.0481133,
          9.5993595,
          9.510258,
          8.626116,
          9.803438,
          7.949957,
          10.49099,
          9.340581
         ],
         "xaxis": "x",
         "yaxis": "y"
        },
        {
         "alignmentgroup": "True",
         "bingroup": "x",
         "hovertemplate": "color=invert_diff_pairs10100<br>x=%{x}<br>count=%{y}<extra></extra>",
         "legendgroup": "invert_diff_pairs10100",
         "marker": {
          "color": "#00cc96"
         },
         "name": "invert_diff_pairs10100",
         "offsetgroup": "invert_diff_pairs10100",
         "orientation": "v",
         "showlegend": true,
         "type": "histogram",
         "x": [
          6.7761183,
          6.7134595,
          6.386487000000001,
          7.523174000000001,
          7.6281614,
          8.21442,
          7.6547160000000005,
          7.271706599999999,
          8.773464,
          8.188075,
          7.1846356,
          7.5942645,
          8.437858,
          6.0363994000000005,
          7.652936500000001
         ],
         "xaxis": "x",
         "yaxis": "y"
        },
        {
         "alignmentgroup": "True",
         "bingroup": "x",
         "hovertemplate": "color=invert_same_pairs10100<br>x=%{x}<br>count=%{y}<extra></extra>",
         "legendgroup": "invert_same_pairs10100",
         "marker": {
          "color": "#ab63fa"
         },
         "name": "invert_same_pairs10100",
         "offsetgroup": "invert_same_pairs10100",
         "orientation": "v",
         "showlegend": true,
         "type": "histogram",
         "x": [
          6.3918919999999995,
          6.3964114,
          5.731629,
          6.988666499999999,
          6.8740473,
          6.4310529999999995,
          6.0125575,
          5.4984307,
          6.252743,
          7.799559599999999,
          5.266148599999999,
          6.4539824,
          6.166643,
          8.05327,
          6.0100203
         ],
         "xaxis": "x",
         "yaxis": "y"
        },
        {
         "alignmentgroup": "True",
         "bingroup": "x",
         "hovertemplate": "color=invert_diff_pairs10200<br>x=%{x}<br>count=%{y}<extra></extra>",
         "legendgroup": "invert_diff_pairs10200",
         "marker": {
          "color": "#FFA15A"
         },
         "name": "invert_diff_pairs10200",
         "offsetgroup": "invert_diff_pairs10200",
         "orientation": "v",
         "showlegend": true,
         "type": "histogram",
         "x": [
          7.456121400000001,
          6.956531,
          8.388065,
          13.382663,
          9.086542,
          7.717149000000001,
          5.864054,
          12.540607000000001,
          9.410556,
          8.084404,
          7.004217,
          6.4639516,
          8.050146,
          6.3484625999999995,
          7.6715813
         ],
         "xaxis": "x",
         "yaxis": "y"
        },
        {
         "alignmentgroup": "True",
         "bingroup": "x",
         "hovertemplate": "color=invert_same_pairs10200<br>x=%{x}<br>count=%{y}<extra></extra>",
         "legendgroup": "invert_same_pairs10200",
         "marker": {
          "color": "#19d3f3"
         },
         "name": "invert_same_pairs10200",
         "offsetgroup": "invert_same_pairs10200",
         "orientation": "v",
         "showlegend": true,
         "type": "histogram",
         "x": [
          5.82385,
          6.4895214999999995,
          5.2825127,
          6.0723047,
          7.3730073,
          6.256122,
          6.923876299999999,
          5.401814,
          10.756872999999999,
          6.938358999999999,
          5.84109,
          5.8002205,
          6.360457,
          8.467775999999999,
          5.819098
         ],
         "xaxis": "x",
         "yaxis": "y"
        },
        {
         "alignmentgroup": "True",
         "bingroup": "x",
         "hovertemplate": "color=invert_diff_pairs10300<br>x=%{x}<br>count=%{y}<extra></extra>",
         "legendgroup": "invert_diff_pairs10300",
         "marker": {
          "color": "#FF6692"
         },
         "name": "invert_diff_pairs10300",
         "offsetgroup": "invert_diff_pairs10300",
         "orientation": "v",
         "showlegend": true,
         "type": "histogram",
         "x": [
          7.399197999999999,
          7.904413000000001,
          7.6500444000000005,
          10.003097,
          7.1346393,
          9.310433999999999,
          7.742733,
          8.188458,
          10.694903,
          6.9733996,
          7.7730417,
          7.5664267999999995,
          10.521703,
          8.026375,
          7.021452
         ],
         "xaxis": "x",
         "yaxis": "y"
        },
        {
         "alignmentgroup": "True",
         "bingroup": "x",
         "hovertemplate": "color=invert_same_pairs10300<br>x=%{x}<br>count=%{y}<extra></extra>",
         "legendgroup": "invert_same_pairs10300",
         "marker": {
          "color": "#B6E880"
         },
         "name": "invert_same_pairs10300",
         "offsetgroup": "invert_same_pairs10300",
         "orientation": "v",
         "showlegend": true,
         "type": "histogram",
         "x": [
          6.0464115,
          6.932391,
          5.2238636,
          6.605997599999999,
          7.2868557,
          6.402153500000001,
          5.5658474,
          5.752557,
          9.392894,
          6.750559,
          5.8213468,
          7.2910580000000005,
          5.734693,
          7.630641499999999,
          6.111162
         ],
         "xaxis": "x",
         "yaxis": "y"
        },
        {
         "alignmentgroup": "True",
         "bingroup": "x",
         "hovertemplate": "color=invert_diff_pairs501<br>x=%{x}<br>count=%{y}<extra></extra>",
         "legendgroup": "invert_diff_pairs501",
         "marker": {
          "color": "#FF97FF"
         },
         "name": "invert_diff_pairs501",
         "offsetgroup": "invert_diff_pairs501",
         "orientation": "v",
         "showlegend": true,
         "type": "histogram",
         "x": [
          19.442593,
          23.536533,
          9.49789,
          22.487476,
          23.572423999999998,
          9.224844000000001,
          17.659601000000002,
          8.404866,
          18.246893,
          21.416279,
          20.642876,
          20.430264,
          16.302156,
          9.705455,
          22.003504
         ],
         "xaxis": "x",
         "yaxis": "y"
        },
        {
         "alignmentgroup": "True",
         "bingroup": "x",
         "hovertemplate": "color=invert_same_pairs501<br>x=%{x}<br>count=%{y}<extra></extra>",
         "legendgroup": "invert_same_pairs501",
         "marker": {
          "color": "#FECB52"
         },
         "name": "invert_same_pairs501",
         "offsetgroup": "invert_same_pairs501",
         "orientation": "v",
         "showlegend": true,
         "type": "histogram",
         "x": [
          21.00773,
          24.022054999999998,
          9.096299,
          17.135923000000002,
          25.141329000000002,
          6.231798599999999,
          16.208591000000002,
          6.2523704,
          16.31074,
          21.51267,
          20.842095999999998,
          20.857635000000002,
          13.547592000000002,
          13.0667515,
          19.206028
         ],
         "xaxis": "x",
         "yaxis": "y"
        },
        {
         "alignmentgroup": "True",
         "bingroup": "x",
         "hovertemplate": "color=invert_diff_pairs505<br>x=%{x}<br>count=%{y}<extra></extra>",
         "legendgroup": "invert_diff_pairs505",
         "marker": {
          "color": "#636efa"
         },
         "name": "invert_diff_pairs505",
         "offsetgroup": "invert_diff_pairs505",
         "orientation": "v",
         "showlegend": true,
         "type": "histogram",
         "x": [
          12.435557000000001,
          15.332626000000001,
          7.257983,
          12.311418,
          16.148457,
          7.561967999999999,
          13.616945000000001,
          7.92685,
          11.6711445,
          13.541359,
          13.55778,
          12.980557000000001,
          14.771301000000001,
          8.403488000000001,
          13.624734
         ],
         "xaxis": "x",
         "yaxis": "y"
        },
        {
         "alignmentgroup": "True",
         "bingroup": "x",
         "hovertemplate": "color=invert_same_pairs505<br>x=%{x}<br>count=%{y}<extra></extra>",
         "legendgroup": "invert_same_pairs505",
         "marker": {
          "color": "#EF553B"
         },
         "name": "invert_same_pairs505",
         "offsetgroup": "invert_same_pairs505",
         "orientation": "v",
         "showlegend": true,
         "type": "histogram",
         "x": [
          12.824196,
          15.231898999999999,
          7.5486960000000005,
          7.170036,
          16.911228,
          6.0106845,
          12.912357,
          7.094685000000001,
          11.700391,
          13.133458,
          13.30129,
          12.432145,
          9.774929,
          11.912098,
          14.037593
         ],
         "xaxis": "x",
         "yaxis": "y"
        },
        {
         "alignmentgroup": "True",
         "bingroup": "x",
         "hovertemplate": "color=invert_diff_pairs5010<br>x=%{x}<br>count=%{y}<extra></extra>",
         "legendgroup": "invert_diff_pairs5010",
         "marker": {
          "color": "#00cc96"
         },
         "name": "invert_diff_pairs5010",
         "offsetgroup": "invert_diff_pairs5010",
         "orientation": "v",
         "showlegend": true,
         "type": "histogram",
         "x": [
          13.536422,
          15.168982500000002,
          12.714238,
          14.695576999999998,
          16.84178,
          12.223091,
          15.274188,
          14.890711999999999,
          14.670141000000001,
          13.056372999999999,
          17.800734,
          14.122379,
          19.510920000000002,
          11.332197,
          15.156879
         ],
         "xaxis": "x",
         "yaxis": "y"
        },
        {
         "alignmentgroup": "True",
         "bingroup": "x",
         "hovertemplate": "color=invert_same_pairs5010<br>x=%{x}<br>count=%{y}<extra></extra>",
         "legendgroup": "invert_same_pairs5010",
         "marker": {
          "color": "#ab63fa"
         },
         "name": "invert_same_pairs5010",
         "offsetgroup": "invert_same_pairs5010",
         "orientation": "v",
         "showlegend": true,
         "type": "histogram",
         "x": [
          14.060045,
          14.7304,
          10.743319,
          12.064523,
          16.599726,
          8.890158,
          16.254898,
          9.625619,
          13.951548,
          15.03692,
          12.808157000000001,
          14.544881,
          13.0673485,
          16.172224,
          14.543351000000001
         ],
         "xaxis": "x",
         "yaxis": "y"
        },
        {
         "alignmentgroup": "True",
         "bingroup": "x",
         "hovertemplate": "color=invert_diff_pairs5020<br>x=%{x}<br>count=%{y}<extra></extra>",
         "legendgroup": "invert_diff_pairs5020",
         "marker": {
          "color": "#FFA15A"
         },
         "name": "invert_diff_pairs5020",
         "offsetgroup": "invert_diff_pairs5020",
         "orientation": "v",
         "showlegend": true,
         "type": "histogram",
         "x": [
          11.215375,
          13.345733,
          11.687463000000001,
          11.460591,
          12.465904,
          12.404954,
          13.375091000000001,
          13.516662,
          14.723071,
          11.547637,
          12.716312,
          12.697588,
          14.11929,
          11.147031,
          12.08468
         ],
         "xaxis": "x",
         "yaxis": "y"
        },
        {
         "alignmentgroup": "True",
         "bingroup": "x",
         "hovertemplate": "color=invert_same_pairs5020<br>x=%{x}<br>count=%{y}<extra></extra>",
         "legendgroup": "invert_same_pairs5020",
         "marker": {
          "color": "#19d3f3"
         },
         "name": "invert_same_pairs5020",
         "offsetgroup": "invert_same_pairs5020",
         "orientation": "v",
         "showlegend": true,
         "type": "histogram",
         "x": [
          11.14535,
          11.83822,
          9.881609,
          9.974183,
          12.1479645,
          9.914943,
          13.282144,
          9.522391,
          13.193706,
          11.361163000000001,
          10.100489999999999,
          11.932763000000001,
          11.09726,
          13.0805235,
          12.087628
         ],
         "xaxis": "x",
         "yaxis": "y"
        },
        {
         "alignmentgroup": "True",
         "bingroup": "x",
         "hovertemplate": "color=invert_diff_pairs5050<br>x=%{x}<br>count=%{y}<extra></extra>",
         "legendgroup": "invert_diff_pairs5050",
         "marker": {
          "color": "#FF6692"
         },
         "name": "invert_diff_pairs5050",
         "offsetgroup": "invert_diff_pairs5050",
         "orientation": "v",
         "showlegend": true,
         "type": "histogram",
         "x": [
          16.613892,
          19.38085,
          16.273858999999998,
          19.636105,
          15.1164875,
          18.827560000000002,
          15.833626,
          21.759394,
          24.081818,
          16.059476999999998,
          18.117424,
          16.893583,
          19.913952,
          14.722256,
          15.743589000000002
         ],
         "xaxis": "x",
         "yaxis": "y"
        },
        {
         "alignmentgroup": "True",
         "bingroup": "x",
         "hovertemplate": "color=invert_same_pairs5050<br>x=%{x}<br>count=%{y}<extra></extra>",
         "legendgroup": "invert_same_pairs5050",
         "marker": {
          "color": "#B6E880"
         },
         "name": "invert_same_pairs5050",
         "offsetgroup": "invert_same_pairs5050",
         "orientation": "v",
         "showlegend": true,
         "type": "histogram",
         "x": [
          13.059239,
          14.069494,
          11.933905000000001,
          15.951386999999999,
          13.534021,
          19.19455,
          10.958150999999999,
          10.439766,
          22.428568,
          19.839956,
          13.720989000000001,
          16.796438000000002,
          11.296142,
          17.255808,
          13.016219
         ],
         "xaxis": "x",
         "yaxis": "y"
        },
        {
         "alignmentgroup": "True",
         "bingroup": "x",
         "hovertemplate": "color=invert_diff_pairs50100<br>x=%{x}<br>count=%{y}<extra></extra>",
         "legendgroup": "invert_diff_pairs50100",
         "marker": {
          "color": "#FF97FF"
         },
         "name": "invert_diff_pairs50100",
         "offsetgroup": "invert_diff_pairs50100",
         "orientation": "v",
         "showlegend": true,
         "type": "histogram",
         "x": [
          18.324116,
          17.44064,
          14.648264000000001,
          16.653551,
          9.77325,
          14.111139000000001,
          10.877395,
          16.092254999999998,
          16.839151,
          16.284466000000002,
          15.5295925,
          11.417547,
          22.119902,
          9.17031,
          14.596398
         ],
         "xaxis": "x",
         "yaxis": "y"
        },
        {
         "alignmentgroup": "True",
         "bingroup": "x",
         "hovertemplate": "color=invert_same_pairs50100<br>x=%{x}<br>count=%{y}<extra></extra>",
         "legendgroup": "invert_same_pairs50100",
         "marker": {
          "color": "#FECB52"
         },
         "name": "invert_same_pairs50100",
         "offsetgroup": "invert_same_pairs50100",
         "orientation": "v",
         "showlegend": true,
         "type": "histogram",
         "x": [
          10.538451,
          11.405395500000001,
          9.475211,
          11.450617,
          11.734115,
          13.084145,
          8.107432000000001,
          8.642614,
          18.517515,
          11.303721000000001,
          10.065965,
          10.987482,
          9.409925,
          15.674420000000001,
          9.307905
         ],
         "xaxis": "x",
         "yaxis": "y"
        },
        {
         "alignmentgroup": "True",
         "bingroup": "x",
         "hovertemplate": "color=invert_diff_pairs50200<br>x=%{x}<br>count=%{y}<extra></extra>",
         "legendgroup": "invert_diff_pairs50200",
         "marker": {
          "color": "#636efa"
         },
         "name": "invert_diff_pairs50200",
         "offsetgroup": "invert_diff_pairs50200",
         "orientation": "v",
         "showlegend": true,
         "type": "histogram",
         "x": [
          11.950585,
          16.977415,
          9.931225,
          14.187338,
          14.187714000000001,
          16.517333999999998,
          10.208861,
          20.399510999999997,
          13.323189000000001,
          14.155957,
          14.428095,
          11.745097999999999,
          14.441749,
          12.098510000000001,
          10.84154
         ],
         "xaxis": "x",
         "yaxis": "y"
        },
        {
         "alignmentgroup": "True",
         "bingroup": "x",
         "hovertemplate": "color=invert_same_pairs50200<br>x=%{x}<br>count=%{y}<extra></extra>",
         "legendgroup": "invert_same_pairs50200",
         "marker": {
          "color": "#EF553B"
         },
         "name": "invert_same_pairs50200",
         "offsetgroup": "invert_same_pairs50200",
         "orientation": "v",
         "showlegend": true,
         "type": "histogram",
         "x": [
          9.823667,
          14.850037,
          8.933950999999999,
          11.736428,
          9.464902,
          12.156457000000001,
          7.3635235,
          8.313809,
          17.047586,
          9.340896,
          9.459335000000001,
          11.256267999999999,
          7.8207320000000005,
          17.461348,
          7.539067
         ],
         "xaxis": "x",
         "yaxis": "y"
        },
        {
         "alignmentgroup": "True",
         "bingroup": "x",
         "hovertemplate": "color=invert_diff_pairs50300<br>x=%{x}<br>count=%{y}<extra></extra>",
         "legendgroup": "invert_diff_pairs50300",
         "marker": {
          "color": "#00cc96"
         },
         "name": "invert_diff_pairs50300",
         "offsetgroup": "invert_diff_pairs50300",
         "orientation": "v",
         "showlegend": true,
         "type": "histogram",
         "x": [
          16.35673,
          24.923583999999998,
          11.782611,
          12.494399000000001,
          15.468511999999999,
          12.992403999999999,
          9.734267,
          15.378557,
          12.400729,
          13.906189000000001,
          17.61758,
          14.267970000000002,
          18.807804,
          12.402607000000001,
          13.219002
         ],
         "xaxis": "x",
         "yaxis": "y"
        },
        {
         "alignmentgroup": "True",
         "bingroup": "x",
         "hovertemplate": "color=invert_same_pairs50300<br>x=%{x}<br>count=%{y}<extra></extra>",
         "legendgroup": "invert_same_pairs50300",
         "marker": {
          "color": "#ab63fa"
         },
         "name": "invert_same_pairs50300",
         "offsetgroup": "invert_same_pairs50300",
         "orientation": "v",
         "showlegend": true,
         "type": "histogram",
         "x": [
          13.741617999999999,
          20.65371,
          9.2225685,
          9.5373125,
          11.108372,
          12.283892999999999,
          8.132038,
          11.280279,
          9.826949,
          10.740719,
          13.243182999999998,
          15.793667999999998,
          11.603867999999999,
          14.791549,
          13.953187
         ],
         "xaxis": "x",
         "yaxis": "y"
        },
        {
         "alignmentgroup": "True",
         "bingroup": "x",
         "hovertemplate": "color=invert_diff_pairs1001<br>x=%{x}<br>count=%{y}<extra></extra>",
         "legendgroup": "invert_diff_pairs1001",
         "marker": {
          "color": "#FFA15A"
         },
         "name": "invert_diff_pairs1001",
         "offsetgroup": "invert_diff_pairs1001",
         "orientation": "v",
         "showlegend": true,
         "type": "histogram",
         "x": [
          21.255901,
          35.06933,
          36.505302,
          20.242096,
          33.003334,
          44.21456,
          31.701448,
          17.652292000000003,
          33.809315000000005,
          26.247808000000003,
          15.497345999999999,
          22.364532,
          22.946745,
          21.658070000000002,
          10.184072500000001
         ],
         "xaxis": "x",
         "yaxis": "y"
        },
        {
         "alignmentgroup": "True",
         "bingroup": "x",
         "hovertemplate": "color=invert_same_pairs1001<br>x=%{x}<br>count=%{y}<extra></extra>",
         "legendgroup": "invert_same_pairs1001",
         "marker": {
          "color": "#19d3f3"
         },
         "name": "invert_same_pairs1001",
         "offsetgroup": "invert_same_pairs1001",
         "orientation": "v",
         "showlegend": true,
         "type": "histogram",
         "x": [
          10.670933,
          23.797806,
          14.463251000000001,
          31.092506,
          26.346903,
          37.038692,
          12.325648,
          25.555765,
          29.620435999999998,
          19.513393,
          25.292341,
          24.01035,
          19.69174,
          27.185064,
          22.691763
         ],
         "xaxis": "x",
         "yaxis": "y"
        },
        {
         "alignmentgroup": "True",
         "bingroup": "x",
         "hovertemplate": "color=invert_diff_pairs1005<br>x=%{x}<br>count=%{y}<extra></extra>",
         "legendgroup": "invert_diff_pairs1005",
         "marker": {
          "color": "#FF6692"
         },
         "name": "invert_diff_pairs1005",
         "offsetgroup": "invert_diff_pairs1005",
         "orientation": "v",
         "showlegend": true,
         "type": "histogram",
         "x": [
          19.162607,
          23.658312,
          13.757626,
          20.443908999999998,
          28.615447999999997,
          12.681036,
          22.544033,
          14.270851,
          19.730137,
          20.977064000000002,
          23.894470000000002,
          22.744993,
          18.417334,
          13.273314000000001,
          21.695215
         ],
         "xaxis": "x",
         "yaxis": "y"
        },
        {
         "alignmentgroup": "True",
         "bingroup": "x",
         "hovertemplate": "color=invert_same_pairs1005<br>x=%{x}<br>count=%{y}<extra></extra>",
         "legendgroup": "invert_same_pairs1005",
         "marker": {
          "color": "#B6E880"
         },
         "name": "invert_same_pairs1005",
         "offsetgroup": "invert_same_pairs1005",
         "orientation": "v",
         "showlegend": true,
         "type": "histogram",
         "x": [
          19.82449,
          23.925943,
          12.195160000000001,
          14.904523999999999,
          26.108286,
          9.599799,
          20.740484,
          9.595461,
          20.74522,
          21.957035,
          21.150602,
          22.014284,
          16.505953,
          14.149573,
          21.096718
         ],
         "xaxis": "x",
         "yaxis": "y"
        },
        {
         "alignmentgroup": "True",
         "bingroup": "x",
         "hovertemplate": "color=invert_diff_pairs10010<br>x=%{x}<br>count=%{y}<extra></extra>",
         "legendgroup": "invert_diff_pairs10010",
         "marker": {
          "color": "#FF97FF"
         },
         "name": "invert_diff_pairs10010",
         "offsetgroup": "invert_diff_pairs10010",
         "orientation": "v",
         "showlegend": true,
         "type": "histogram",
         "x": [
          13.106478,
          16.86107,
          13.398202,
          14.385155,
          15.494060500000002,
          15.207537,
          15.764410999999999,
          17.467825,
          16.676754000000003,
          14.108224,
          15.545138,
          15.354359,
          16.283203,
          13.831017499999998,
          15.280695999999999
         ],
         "xaxis": "x",
         "yaxis": "y"
        },
        {
         "alignmentgroup": "True",
         "bingroup": "x",
         "hovertemplate": "color=invert_same_pairs10010<br>x=%{x}<br>count=%{y}<extra></extra>",
         "legendgroup": "invert_same_pairs10010",
         "marker": {
          "color": "#FECB52"
         },
         "name": "invert_same_pairs10010",
         "offsetgroup": "invert_same_pairs10010",
         "orientation": "v",
         "showlegend": true,
         "type": "histogram",
         "x": [
          14.340185,
          14.998188,
          12.252077,
          11.847648,
          16.1803,
          12.225864999999999,
          16.341587,
          11.528145,
          18.193245,
          13.356438,
          11.745242999999999,
          14.580223000000002,
          12.919575,
          16.590048,
          14.752939999999999
         ],
         "xaxis": "x",
         "yaxis": "y"
        },
        {
         "alignmentgroup": "True",
         "bingroup": "x",
         "hovertemplate": "color=invert_diff_pairs10020<br>x=%{x}<br>count=%{y}<extra></extra>",
         "legendgroup": "invert_diff_pairs10020",
         "marker": {
          "color": "#636efa"
         },
         "name": "invert_diff_pairs10020",
         "offsetgroup": "invert_diff_pairs10020",
         "orientation": "v",
         "showlegend": true,
         "type": "histogram",
         "x": [
          21.687973,
          25.289482,
          17.774803,
          22.32488,
          19.845953,
          25.280903,
          19.158777,
          22.090889,
          23.034110000000002,
          19.467888000000002,
          21.025888000000002,
          21.071558,
          28.821496999999997,
          20.11344,
          19.668154
         ],
         "xaxis": "x",
         "yaxis": "y"
        },
        {
         "alignmentgroup": "True",
         "bingroup": "x",
         "hovertemplate": "color=invert_same_pairs10020<br>x=%{x}<br>count=%{y}<extra></extra>",
         "legendgroup": "invert_same_pairs10020",
         "marker": {
          "color": "#EF553B"
         },
         "name": "invert_same_pairs10020",
         "offsetgroup": "invert_same_pairs10020",
         "orientation": "v",
         "showlegend": true,
         "type": "histogram",
         "x": [
          18.317326,
          19.195908,
          15.423717499999999,
          18.121923000000002,
          22.784451999999998,
          18.15341,
          19.418661,
          13.394255,
          20.897057999999998,
          18.99578,
          15.303797,
          18.449944,
          15.287014000000001,
          26.845333,
          17.080935999999998
         ],
         "xaxis": "x",
         "yaxis": "y"
        },
        {
         "alignmentgroup": "True",
         "bingroup": "x",
         "hovertemplate": "color=invert_diff_pairs10050<br>x=%{x}<br>count=%{y}<extra></extra>",
         "legendgroup": "invert_diff_pairs10050",
         "marker": {
          "color": "#00cc96"
         },
         "name": "invert_diff_pairs10050",
         "offsetgroup": "invert_diff_pairs10050",
         "orientation": "v",
         "showlegend": true,
         "type": "histogram",
         "x": [
          22.327463,
          22.321869,
          15.077126000000002,
          18.028103,
          14.666109,
          21.159302,
          14.253556,
          27.50696,
          24.791262,
          16.204838,
          22.314417000000002,
          17.43579,
          21.296484,
          14.038528,
          16.904726
         ],
         "xaxis": "x",
         "yaxis": "y"
        },
        {
         "alignmentgroup": "True",
         "bingroup": "x",
         "hovertemplate": "color=invert_same_pairs10050<br>x=%{x}<br>count=%{y}<extra></extra>",
         "legendgroup": "invert_same_pairs10050",
         "marker": {
          "color": "#ab63fa"
         },
         "name": "invert_same_pairs10050",
         "offsetgroup": "invert_same_pairs10050",
         "orientation": "v",
         "showlegend": true,
         "type": "histogram",
         "x": [
          15.391957000000001,
          16.164074,
          10.727508,
          14.194889000000002,
          17.219263,
          12.982548,
          10.765135,
          9.969681,
          23.148325,
          15.066510999999998,
          16.343301999999998,
          15.766523999999999,
          13.797319,
          17.170443,
          16.631216000000002
         ],
         "xaxis": "x",
         "yaxis": "y"
        },
        {
         "alignmentgroup": "True",
         "bingroup": "x",
         "hovertemplate": "color=invert_diff_pairs100100<br>x=%{x}<br>count=%{y}<extra></extra>",
         "legendgroup": "invert_diff_pairs100100",
         "marker": {
          "color": "#FFA15A"
         },
         "name": "invert_diff_pairs100100",
         "offsetgroup": "invert_diff_pairs100100",
         "orientation": "v",
         "showlegend": true,
         "type": "histogram",
         "x": [
          19.702557000000002,
          25.613083,
          17.181616,
          19.111496,
          12.924056,
          19.84313,
          15.2788105,
          17.237415,
          16.104567000000003,
          18.390079999999998,
          15.048428,
          16.394505,
          16.868345,
          12.328743,
          19.894454999999997
         ],
         "xaxis": "x",
         "yaxis": "y"
        },
        {
         "alignmentgroup": "True",
         "bingroup": "x",
         "hovertemplate": "color=invert_same_pairs100100<br>x=%{x}<br>count=%{y}<extra></extra>",
         "legendgroup": "invert_same_pairs100100",
         "marker": {
          "color": "#19d3f3"
         },
         "name": "invert_same_pairs100100",
         "offsetgroup": "invert_same_pairs100100",
         "orientation": "v",
         "showlegend": true,
         "type": "histogram",
         "x": [
          18.403122,
          21.91631,
          10.370637,
          13.307839999999999,
          14.631692999999999,
          12.700432000000001,
          13.372429,
          10.002239,
          13.901388,
          12.343935,
          12.665878,
          13.285352,
          10.972261999999999,
          14.502351,
          15.6463785
         ],
         "xaxis": "x",
         "yaxis": "y"
        },
        {
         "alignmentgroup": "True",
         "bingroup": "x",
         "hovertemplate": "color=invert_diff_pairs100200<br>x=%{x}<br>count=%{y}<extra></extra>",
         "legendgroup": "invert_diff_pairs100200",
         "marker": {
          "color": "#FF6692"
         },
         "name": "invert_diff_pairs100200",
         "offsetgroup": "invert_diff_pairs100200",
         "orientation": "v",
         "showlegend": true,
         "type": "histogram",
         "x": [
          20.840483,
          26.7237,
          11.608108999999999,
          19.254387,
          19.497597,
          18.246298,
          13.691823999999999,
          14.537838,
          15.965095000000002,
          17.563047,
          14.90235,
          19.159952,
          15.727639000000002,
          11.724224000000001,
          18.130474
         ],
         "xaxis": "x",
         "yaxis": "y"
        },
        {
         "alignmentgroup": "True",
         "bingroup": "x",
         "hovertemplate": "color=invert_same_pairs100200<br>x=%{x}<br>count=%{y}<extra></extra>",
         "legendgroup": "invert_same_pairs100200",
         "marker": {
          "color": "#B6E880"
         },
         "name": "invert_same_pairs100200",
         "offsetgroup": "invert_same_pairs100200",
         "orientation": "v",
         "showlegend": true,
         "type": "histogram",
         "x": [
          14.874386,
          20.920042000000002,
          11.849213,
          14.665626000000001,
          12.451514999999999,
          20.075012,
          10.354724000000001,
          10.897402,
          16.703964000000003,
          13.785138,
          12.660563,
          15.155448000000002,
          16.562063000000002,
          15.30313,
          14.567101500000001
         ],
         "xaxis": "x",
         "yaxis": "y"
        },
        {
         "alignmentgroup": "True",
         "bingroup": "x",
         "hovertemplate": "color=invert_diff_pairs100300<br>x=%{x}<br>count=%{y}<extra></extra>",
         "legendgroup": "invert_diff_pairs100300",
         "marker": {
          "color": "#FF97FF"
         },
         "name": "invert_diff_pairs100300",
         "offsetgroup": "invert_diff_pairs100300",
         "orientation": "v",
         "showlegend": true,
         "type": "histogram",
         "x": [
          18.26217,
          19.014187,
          12.569728999999999,
          16.158592000000002,
          15.151252,
          15.445235999999998,
          13.422219,
          14.086993,
          13.573139000000001,
          21.175342999999998,
          18.551687,
          15.034455,
          18.254322,
          12.145241,
          15.0654335
         ],
         "xaxis": "x",
         "yaxis": "y"
        },
        {
         "alignmentgroup": "True",
         "bingroup": "x",
         "hovertemplate": "color=invert_same_pairs100300<br>x=%{x}<br>count=%{y}<extra></extra>",
         "legendgroup": "invert_same_pairs100300",
         "marker": {
          "color": "#FECB52"
         },
         "name": "invert_same_pairs100300",
         "offsetgroup": "invert_same_pairs100300",
         "orientation": "v",
         "showlegend": true,
         "type": "histogram",
         "x": [
          12.204761,
          14.421139000000002,
          7.3157190000000005,
          11.545082,
          11.827441,
          13.264791500000001,
          9.457022,
          10.928342,
          14.652347,
          10.724815,
          13.004576,
          13.624279000000001,
          12.086294,
          16.530904999999997,
          12.591886500000001
         ],
         "xaxis": "x",
         "yaxis": "y"
        }
       ],
       "layout": {
        "barmode": "relative",
        "legend": {
         "title": {
          "text": "color"
         },
         "tracegroupgap": 0
        },
        "margin": {
         "t": 60
        },
        "template": {
         "data": {
          "bar": [
           {
            "error_x": {
             "color": "#2a3f5f"
            },
            "error_y": {
             "color": "#2a3f5f"
            },
            "marker": {
             "line": {
              "color": "#E5ECF6",
              "width": 0.5
             }
            },
            "type": "bar"
           }
          ],
          "barpolar": [
           {
            "marker": {
             "line": {
              "color": "#E5ECF6",
              "width": 0.5
             }
            },
            "type": "barpolar"
           }
          ],
          "carpet": [
           {
            "aaxis": {
             "endlinecolor": "#2a3f5f",
             "gridcolor": "white",
             "linecolor": "white",
             "minorgridcolor": "white",
             "startlinecolor": "#2a3f5f"
            },
            "baxis": {
             "endlinecolor": "#2a3f5f",
             "gridcolor": "white",
             "linecolor": "white",
             "minorgridcolor": "white",
             "startlinecolor": "#2a3f5f"
            },
            "type": "carpet"
           }
          ],
          "choropleth": [
           {
            "colorbar": {
             "outlinewidth": 0,
             "ticks": ""
            },
            "type": "choropleth"
           }
          ],
          "contour": [
           {
            "colorbar": {
             "outlinewidth": 0,
             "ticks": ""
            },
            "colorscale": [
             [
              0,
              "#0d0887"
             ],
             [
              0.1111111111111111,
              "#46039f"
             ],
             [
              0.2222222222222222,
              "#7201a8"
             ],
             [
              0.3333333333333333,
              "#9c179e"
             ],
             [
              0.4444444444444444,
              "#bd3786"
             ],
             [
              0.5555555555555556,
              "#d8576b"
             ],
             [
              0.6666666666666666,
              "#ed7953"
             ],
             [
              0.7777777777777778,
              "#fb9f3a"
             ],
             [
              0.8888888888888888,
              "#fdca26"
             ],
             [
              1,
              "#f0f921"
             ]
            ],
            "type": "contour"
           }
          ],
          "contourcarpet": [
           {
            "colorbar": {
             "outlinewidth": 0,
             "ticks": ""
            },
            "type": "contourcarpet"
           }
          ],
          "heatmap": [
           {
            "colorbar": {
             "outlinewidth": 0,
             "ticks": ""
            },
            "colorscale": [
             [
              0,
              "#0d0887"
             ],
             [
              0.1111111111111111,
              "#46039f"
             ],
             [
              0.2222222222222222,
              "#7201a8"
             ],
             [
              0.3333333333333333,
              "#9c179e"
             ],
             [
              0.4444444444444444,
              "#bd3786"
             ],
             [
              0.5555555555555556,
              "#d8576b"
             ],
             [
              0.6666666666666666,
              "#ed7953"
             ],
             [
              0.7777777777777778,
              "#fb9f3a"
             ],
             [
              0.8888888888888888,
              "#fdca26"
             ],
             [
              1,
              "#f0f921"
             ]
            ],
            "type": "heatmap"
           }
          ],
          "heatmapgl": [
           {
            "colorbar": {
             "outlinewidth": 0,
             "ticks": ""
            },
            "colorscale": [
             [
              0,
              "#0d0887"
             ],
             [
              0.1111111111111111,
              "#46039f"
             ],
             [
              0.2222222222222222,
              "#7201a8"
             ],
             [
              0.3333333333333333,
              "#9c179e"
             ],
             [
              0.4444444444444444,
              "#bd3786"
             ],
             [
              0.5555555555555556,
              "#d8576b"
             ],
             [
              0.6666666666666666,
              "#ed7953"
             ],
             [
              0.7777777777777778,
              "#fb9f3a"
             ],
             [
              0.8888888888888888,
              "#fdca26"
             ],
             [
              1,
              "#f0f921"
             ]
            ],
            "type": "heatmapgl"
           }
          ],
          "histogram": [
           {
            "marker": {
             "colorbar": {
              "outlinewidth": 0,
              "ticks": ""
             }
            },
            "type": "histogram"
           }
          ],
          "histogram2d": [
           {
            "colorbar": {
             "outlinewidth": 0,
             "ticks": ""
            },
            "colorscale": [
             [
              0,
              "#0d0887"
             ],
             [
              0.1111111111111111,
              "#46039f"
             ],
             [
              0.2222222222222222,
              "#7201a8"
             ],
             [
              0.3333333333333333,
              "#9c179e"
             ],
             [
              0.4444444444444444,
              "#bd3786"
             ],
             [
              0.5555555555555556,
              "#d8576b"
             ],
             [
              0.6666666666666666,
              "#ed7953"
             ],
             [
              0.7777777777777778,
              "#fb9f3a"
             ],
             [
              0.8888888888888888,
              "#fdca26"
             ],
             [
              1,
              "#f0f921"
             ]
            ],
            "type": "histogram2d"
           }
          ],
          "histogram2dcontour": [
           {
            "colorbar": {
             "outlinewidth": 0,
             "ticks": ""
            },
            "colorscale": [
             [
              0,
              "#0d0887"
             ],
             [
              0.1111111111111111,
              "#46039f"
             ],
             [
              0.2222222222222222,
              "#7201a8"
             ],
             [
              0.3333333333333333,
              "#9c179e"
             ],
             [
              0.4444444444444444,
              "#bd3786"
             ],
             [
              0.5555555555555556,
              "#d8576b"
             ],
             [
              0.6666666666666666,
              "#ed7953"
             ],
             [
              0.7777777777777778,
              "#fb9f3a"
             ],
             [
              0.8888888888888888,
              "#fdca26"
             ],
             [
              1,
              "#f0f921"
             ]
            ],
            "type": "histogram2dcontour"
           }
          ],
          "mesh3d": [
           {
            "colorbar": {
             "outlinewidth": 0,
             "ticks": ""
            },
            "type": "mesh3d"
           }
          ],
          "parcoords": [
           {
            "line": {
             "colorbar": {
              "outlinewidth": 0,
              "ticks": ""
             }
            },
            "type": "parcoords"
           }
          ],
          "pie": [
           {
            "automargin": true,
            "type": "pie"
           }
          ],
          "scatter": [
           {
            "marker": {
             "colorbar": {
              "outlinewidth": 0,
              "ticks": ""
             }
            },
            "type": "scatter"
           }
          ],
          "scatter3d": [
           {
            "line": {
             "colorbar": {
              "outlinewidth": 0,
              "ticks": ""
             }
            },
            "marker": {
             "colorbar": {
              "outlinewidth": 0,
              "ticks": ""
             }
            },
            "type": "scatter3d"
           }
          ],
          "scattercarpet": [
           {
            "marker": {
             "colorbar": {
              "outlinewidth": 0,
              "ticks": ""
             }
            },
            "type": "scattercarpet"
           }
          ],
          "scattergeo": [
           {
            "marker": {
             "colorbar": {
              "outlinewidth": 0,
              "ticks": ""
             }
            },
            "type": "scattergeo"
           }
          ],
          "scattergl": [
           {
            "marker": {
             "colorbar": {
              "outlinewidth": 0,
              "ticks": ""
             }
            },
            "type": "scattergl"
           }
          ],
          "scattermapbox": [
           {
            "marker": {
             "colorbar": {
              "outlinewidth": 0,
              "ticks": ""
             }
            },
            "type": "scattermapbox"
           }
          ],
          "scatterpolar": [
           {
            "marker": {
             "colorbar": {
              "outlinewidth": 0,
              "ticks": ""
             }
            },
            "type": "scatterpolar"
           }
          ],
          "scatterpolargl": [
           {
            "marker": {
             "colorbar": {
              "outlinewidth": 0,
              "ticks": ""
             }
            },
            "type": "scatterpolargl"
           }
          ],
          "scatterternary": [
           {
            "marker": {
             "colorbar": {
              "outlinewidth": 0,
              "ticks": ""
             }
            },
            "type": "scatterternary"
           }
          ],
          "surface": [
           {
            "colorbar": {
             "outlinewidth": 0,
             "ticks": ""
            },
            "colorscale": [
             [
              0,
              "#0d0887"
             ],
             [
              0.1111111111111111,
              "#46039f"
             ],
             [
              0.2222222222222222,
              "#7201a8"
             ],
             [
              0.3333333333333333,
              "#9c179e"
             ],
             [
              0.4444444444444444,
              "#bd3786"
             ],
             [
              0.5555555555555556,
              "#d8576b"
             ],
             [
              0.6666666666666666,
              "#ed7953"
             ],
             [
              0.7777777777777778,
              "#fb9f3a"
             ],
             [
              0.8888888888888888,
              "#fdca26"
             ],
             [
              1,
              "#f0f921"
             ]
            ],
            "type": "surface"
           }
          ],
          "table": [
           {
            "cells": {
             "fill": {
              "color": "#EBF0F8"
             },
             "line": {
              "color": "white"
             }
            },
            "header": {
             "fill": {
              "color": "#C8D4E3"
             },
             "line": {
              "color": "white"
             }
            },
            "type": "table"
           }
          ]
         },
         "layout": {
          "annotationdefaults": {
           "arrowcolor": "#2a3f5f",
           "arrowhead": 0,
           "arrowwidth": 1
          },
          "coloraxis": {
           "colorbar": {
            "outlinewidth": 0,
            "ticks": ""
           }
          },
          "colorscale": {
           "diverging": [
            [
             0,
             "#8e0152"
            ],
            [
             0.1,
             "#c51b7d"
            ],
            [
             0.2,
             "#de77ae"
            ],
            [
             0.3,
             "#f1b6da"
            ],
            [
             0.4,
             "#fde0ef"
            ],
            [
             0.5,
             "#f7f7f7"
            ],
            [
             0.6,
             "#e6f5d0"
            ],
            [
             0.7,
             "#b8e186"
            ],
            [
             0.8,
             "#7fbc41"
            ],
            [
             0.9,
             "#4d9221"
            ],
            [
             1,
             "#276419"
            ]
           ],
           "sequential": [
            [
             0,
             "#0d0887"
            ],
            [
             0.1111111111111111,
             "#46039f"
            ],
            [
             0.2222222222222222,
             "#7201a8"
            ],
            [
             0.3333333333333333,
             "#9c179e"
            ],
            [
             0.4444444444444444,
             "#bd3786"
            ],
            [
             0.5555555555555556,
             "#d8576b"
            ],
            [
             0.6666666666666666,
             "#ed7953"
            ],
            [
             0.7777777777777778,
             "#fb9f3a"
            ],
            [
             0.8888888888888888,
             "#fdca26"
            ],
            [
             1,
             "#f0f921"
            ]
           ],
           "sequentialminus": [
            [
             0,
             "#0d0887"
            ],
            [
             0.1111111111111111,
             "#46039f"
            ],
            [
             0.2222222222222222,
             "#7201a8"
            ],
            [
             0.3333333333333333,
             "#9c179e"
            ],
            [
             0.4444444444444444,
             "#bd3786"
            ],
            [
             0.5555555555555556,
             "#d8576b"
            ],
            [
             0.6666666666666666,
             "#ed7953"
            ],
            [
             0.7777777777777778,
             "#fb9f3a"
            ],
            [
             0.8888888888888888,
             "#fdca26"
            ],
            [
             1,
             "#f0f921"
            ]
           ]
          },
          "colorway": [
           "#636efa",
           "#EF553B",
           "#00cc96",
           "#ab63fa",
           "#FFA15A",
           "#19d3f3",
           "#FF6692",
           "#B6E880",
           "#FF97FF",
           "#FECB52"
          ],
          "font": {
           "color": "#2a3f5f"
          },
          "geo": {
           "bgcolor": "white",
           "lakecolor": "white",
           "landcolor": "#E5ECF6",
           "showlakes": true,
           "showland": true,
           "subunitcolor": "white"
          },
          "hoverlabel": {
           "align": "left"
          },
          "hovermode": "closest",
          "mapbox": {
           "style": "light"
          },
          "paper_bgcolor": "white",
          "plot_bgcolor": "#E5ECF6",
          "polar": {
           "angularaxis": {
            "gridcolor": "white",
            "linecolor": "white",
            "ticks": ""
           },
           "bgcolor": "#E5ECF6",
           "radialaxis": {
            "gridcolor": "white",
            "linecolor": "white",
            "ticks": ""
           }
          },
          "scene": {
           "xaxis": {
            "backgroundcolor": "#E5ECF6",
            "gridcolor": "white",
            "gridwidth": 2,
            "linecolor": "white",
            "showbackground": true,
            "ticks": "",
            "zerolinecolor": "white"
           },
           "yaxis": {
            "backgroundcolor": "#E5ECF6",
            "gridcolor": "white",
            "gridwidth": 2,
            "linecolor": "white",
            "showbackground": true,
            "ticks": "",
            "zerolinecolor": "white"
           },
           "zaxis": {
            "backgroundcolor": "#E5ECF6",
            "gridcolor": "white",
            "gridwidth": 2,
            "linecolor": "white",
            "showbackground": true,
            "ticks": "",
            "zerolinecolor": "white"
           }
          },
          "shapedefaults": {
           "line": {
            "color": "#2a3f5f"
           }
          },
          "ternary": {
           "aaxis": {
            "gridcolor": "white",
            "linecolor": "white",
            "ticks": ""
           },
           "baxis": {
            "gridcolor": "white",
            "linecolor": "white",
            "ticks": ""
           },
           "bgcolor": "#E5ECF6",
           "caxis": {
            "gridcolor": "white",
            "linecolor": "white",
            "ticks": ""
           }
          },
          "title": {
           "x": 0.05
          },
          "xaxis": {
           "automargin": true,
           "gridcolor": "white",
           "linecolor": "white",
           "ticks": "",
           "title": {
            "standoff": 15
           },
           "zerolinecolor": "white",
           "zerolinewidth": 2
          },
          "yaxis": {
           "automargin": true,
           "gridcolor": "white",
           "linecolor": "white",
           "ticks": "",
           "title": {
            "standoff": 15
           },
           "zerolinecolor": "white",
           "zerolinewidth": 2
          }
         }
        },
        "xaxis": {
         "anchor": "y",
         "domain": [
          0,
          1
         ],
         "title": {
          "text": "x"
         }
        },
        "yaxis": {
         "anchor": "x",
         "domain": [
          0,
          1
         ],
         "title": {
          "text": "count"
         }
        }
       }
      },
      "text/html": [
       "<div>                            <div id=\"557ce60a-f519-4cda-8851-b61dfdd70217\" class=\"plotly-graph-div\" style=\"height:525px; width:100%;\"></div>            <script type=\"text/javascript\">                require([\"plotly\"], function(Plotly) {                    window.PLOTLYENV=window.PLOTLYENV || {};                                    if (document.getElementById(\"557ce60a-f519-4cda-8851-b61dfdd70217\")) {                    Plotly.newPlot(                        \"557ce60a-f519-4cda-8851-b61dfdd70217\",                        [{\"alignmentgroup\": \"True\", \"bingroup\": \"x\", \"hovertemplate\": \"color=invert_diff_pairs21<br>x=%{x}<br>count=%{y}<extra></extra>\", \"legendgroup\": \"invert_diff_pairs21\", \"marker\": {\"color\": \"#636efa\"}, \"name\": \"invert_diff_pairs21\", \"offsetgroup\": \"invert_diff_pairs21\", \"orientation\": \"v\", \"showlegend\": true, \"type\": \"histogram\", \"x\": [0.0009859222999999999, 0.0010291361, 0.001033663, 0.0010779606, 0.0010028877, 0.0011479345, 0.0011976914, 0.00086144754, 0.0012847066, 0.0010402072, 0.0011218113, 0.0012185262, 0.0011400225, 0.0010376333, 0.001004133], \"xaxis\": \"x\", \"yaxis\": \"y\"}, {\"alignmentgroup\": \"True\", \"bingroup\": \"x\", \"hovertemplate\": \"color=invert_same_pairs21<br>x=%{x}<br>count=%{y}<extra></extra>\", \"legendgroup\": \"invert_same_pairs21\", \"marker\": {\"color\": \"#EF553B\"}, \"name\": \"invert_same_pairs21\", \"offsetgroup\": \"invert_same_pairs21\", \"orientation\": \"v\", \"showlegend\": true, \"type\": \"histogram\", \"x\": [0.0010105011, 0.0009718204400000001, 0.0008623546000000001, 0.0009485689, 0.0011206075, 0.0010787273, 0.0010100664, 0.0010806319, 0.00108281, 0.0012279921, 0.0009065055999999999, 0.0012604863, 0.0010268188000000001, 0.0011053872999999999, 0.0010657104], \"xaxis\": \"x\", \"yaxis\": \"y\"}, {\"alignmentgroup\": \"True\", \"bingroup\": \"x\", \"hovertemplate\": \"color=invert_diff_pairs25<br>x=%{x}<br>count=%{y}<extra></extra>\", \"legendgroup\": \"invert_diff_pairs25\", \"marker\": {\"color\": \"#00cc96\"}, \"name\": \"invert_diff_pairs25\", \"offsetgroup\": \"invert_diff_pairs25\", \"orientation\": \"v\", \"showlegend\": true, \"type\": \"histogram\", \"x\": [0.12735976, 0.11261353, 0.1966731, 0.40662342, 0.1589773, 0.21235895, 0.23129813, 0.119063504, 0.18591495, 0.123422, 0.15688285, 0.16337120000000002, 0.20870684, 0.21738702, 0.18578073], \"xaxis\": \"x\", \"yaxis\": \"y\"}, {\"alignmentgroup\": \"True\", \"bingroup\": \"x\", \"hovertemplate\": \"color=invert_same_pairs25<br>x=%{x}<br>count=%{y}<extra></extra>\", \"legendgroup\": \"invert_same_pairs25\", \"marker\": {\"color\": \"#ab63fa\"}, \"name\": \"invert_same_pairs25\", \"offsetgroup\": \"invert_same_pairs25\", \"orientation\": \"v\", \"showlegend\": true, \"type\": \"histogram\", \"x\": [0.14768285, 0.115971684, 0.13791327, 0.35670254, 0.16560106, 0.16760916, 0.13128698, 0.13102831, 0.16286814, 0.15552957, 0.11993024, 0.20595029999999998, 0.1573764, 0.24092503, 0.13183594], \"xaxis\": \"x\", \"yaxis\": \"y\"}, {\"alignmentgroup\": \"True\", \"bingroup\": \"x\", \"hovertemplate\": \"color=invert_diff_pairs210<br>x=%{x}<br>count=%{y}<extra></extra>\", \"legendgroup\": \"invert_diff_pairs210\", \"marker\": {\"color\": \"#FFA15A\"}, \"name\": \"invert_diff_pairs210\", \"offsetgroup\": \"invert_diff_pairs210\", \"orientation\": \"v\", \"showlegend\": true, \"type\": \"histogram\", \"x\": [2.4628813, 2.2657827999999998, 1.1029471000000002, 2.6619961, 2.0202758000000003, 1.6750287, 2.2842849999999997, 2.3246224, 1.9356354, 3.5589461000000004, 2.2921655, 2.1189687000000004, 3.2601945, 1.5195651000000001, 5.063772], \"xaxis\": \"x\", \"yaxis\": \"y\"}, {\"alignmentgroup\": \"True\", \"bingroup\": \"x\", \"hovertemplate\": \"color=invert_same_pairs210<br>x=%{x}<br>count=%{y}<extra></extra>\", \"legendgroup\": \"invert_same_pairs210\", \"marker\": {\"color\": \"#19d3f3\"}, \"name\": \"invert_same_pairs210\", \"offsetgroup\": \"invert_same_pairs210\", \"orientation\": \"v\", \"showlegend\": true, \"type\": \"histogram\", \"x\": [3.5104709, 2.4895443999999998, 0.9068904000000001, 0.8583243, 3.067383, 0.85410565, 1.4760144, 0.84983516, 1.4994428, 3.063484, 2.9107914, 2.3008667999999997, 1.4226219999999998, 2.4236524, 2.0795076], \"xaxis\": \"x\", \"yaxis\": \"y\"}, {\"alignmentgroup\": \"True\", \"bingroup\": \"x\", \"hovertemplate\": \"color=invert_diff_pairs220<br>x=%{x}<br>count=%{y}<extra></extra>\", \"legendgroup\": \"invert_diff_pairs220\", \"marker\": {\"color\": \"#FF6692\"}, \"name\": \"invert_diff_pairs220\", \"offsetgroup\": \"invert_diff_pairs220\", \"orientation\": \"v\", \"showlegend\": true, \"type\": \"histogram\", \"x\": [2.3943033, 1.4500377, 3.5127627999999995, 4.2397013, 1.886828, 2.3628384999999996, 2.7018075, 3.1920311000000003, 2.3845243, 2.3920262, 1.9383727, 2.0990672000000004, 3.5205216, 2.3314904999999997, 3.6349913999999997], \"xaxis\": \"x\", \"yaxis\": \"y\"}, {\"alignmentgroup\": \"True\", \"bingroup\": \"x\", \"hovertemplate\": \"color=invert_same_pairs220<br>x=%{x}<br>count=%{y}<extra></extra>\", \"legendgroup\": \"invert_same_pairs220\", \"marker\": {\"color\": \"#B6E880\"}, \"name\": \"invert_same_pairs220\", \"offsetgroup\": \"invert_same_pairs220\", \"orientation\": \"v\", \"showlegend\": true, \"type\": \"histogram\", \"x\": [2.4072793, 1.6991956000000001, 2.5017354, 3.7833980000000005, 2.0798929, 2.2399774, 1.49642, 1.5556583000000002, 2.1774557, 2.038169, 1.5007825000000001, 2.535939, 1.970062, 3.7059271000000003, 1.5479777], \"xaxis\": \"x\", \"yaxis\": \"y\"}, {\"alignmentgroup\": \"True\", \"bingroup\": \"x\", \"hovertemplate\": \"color=invert_diff_pairs250<br>x=%{x}<br>count=%{y}<extra></extra>\", \"legendgroup\": \"invert_diff_pairs250\", \"marker\": {\"color\": \"#FF97FF\"}, \"name\": \"invert_diff_pairs250\", \"offsetgroup\": \"invert_diff_pairs250\", \"orientation\": \"v\", \"showlegend\": true, \"type\": \"histogram\", \"x\": [13.464847, 13.496072, 14.109557, 11.486562, 13.036463000000001, 12.958077000000001, 12.75606, 8.7672825, 14.665464000000002, 14.808307000000001, 14.670976000000001, 14.320188, 15.904016, 10.894378999999999, 15.451098000000002], \"xaxis\": \"x\", \"yaxis\": \"y\"}, {\"alignmentgroup\": \"True\", \"bingroup\": \"x\", \"hovertemplate\": \"color=invert_same_pairs250<br>x=%{x}<br>count=%{y}<extra></extra>\", \"legendgroup\": \"invert_same_pairs250\", \"marker\": {\"color\": \"#FECB52\"}, \"name\": \"invert_same_pairs250\", \"offsetgroup\": \"invert_same_pairs250\", \"orientation\": \"v\", \"showlegend\": true, \"type\": \"histogram\", \"x\": [15.089804, 13.87853, 11.032100999999999, 11.609099, 15.414462, 10.23819, 13.533806, 10.1210575, 12.617766, 15.068191, 13.747632000000001, 15.506126, 13.198617, 13.343724, 13.867328], \"xaxis\": \"x\", \"yaxis\": \"y\"}, {\"alignmentgroup\": \"True\", \"bingroup\": \"x\", \"hovertemplate\": \"color=invert_diff_pairs2100<br>x=%{x}<br>count=%{y}<extra></extra>\", \"legendgroup\": \"invert_diff_pairs2100\", \"marker\": {\"color\": \"#636efa\"}, \"name\": \"invert_diff_pairs2100\", \"offsetgroup\": \"invert_diff_pairs2100\", \"orientation\": \"v\", \"showlegend\": true, \"type\": \"histogram\", \"x\": [3.1589305, 2.3654747000000005, 3.1939672999999997, 2.3115304, 4.2270293, 1.6630535, 1.9438636999999999, 2.2992086, 2.2875389999999998, 1.6647418999999999, 4.802741999999999, 1.5948759, 5.519864, 2.5399258, 2.0911844], \"xaxis\": \"x\", \"yaxis\": \"y\"}, {\"alignmentgroup\": \"True\", \"bingroup\": \"x\", \"hovertemplate\": \"color=invert_same_pairs2100<br>x=%{x}<br>count=%{y}<extra></extra>\", \"legendgroup\": \"invert_same_pairs2100\", \"marker\": {\"color\": \"#EF553B\"}, \"name\": \"invert_same_pairs2100\", \"offsetgroup\": \"invert_same_pairs2100\", \"orientation\": \"v\", \"showlegend\": true, \"type\": \"histogram\", \"x\": [3.2625919999999997, 3.1277316, 1.0015968000000002, 1.5674392, 3.4518137, 1.2663056000000001, 1.6671509999999998, 1.4404972, 1.5789696000000002, 1.5813233, 2.097154, 3.5807803, 1.688679, 6.918457000000001, 1.4293566], \"xaxis\": \"x\", \"yaxis\": \"y\"}, {\"alignmentgroup\": \"True\", \"bingroup\": \"x\", \"hovertemplate\": \"color=invert_diff_pairs2200<br>x=%{x}<br>count=%{y}<extra></extra>\", \"legendgroup\": \"invert_diff_pairs2200\", \"marker\": {\"color\": \"#00cc96\"}, \"name\": \"invert_diff_pairs2200\", \"offsetgroup\": \"invert_diff_pairs2200\", \"orientation\": \"v\", \"showlegend\": true, \"type\": \"histogram\", \"x\": [2.7944574, 4.217013, 3.80628, 3.763262, 2.6403165, 2.7629886000000003, 3.121213, 3.4463785000000002, 3.3435947999999995, 2.6359757999999998, 2.6934254, 2.5158894, 4.8878307, 2.6043717999999996, 2.7124212000000005], \"xaxis\": \"x\", \"yaxis\": \"y\"}, {\"alignmentgroup\": \"True\", \"bingroup\": \"x\", \"hovertemplate\": \"color=invert_same_pairs2200<br>x=%{x}<br>count=%{y}<extra></extra>\", \"legendgroup\": \"invert_same_pairs2200\", \"marker\": {\"color\": \"#ab63fa\"}, \"name\": \"invert_same_pairs2200\", \"offsetgroup\": \"invert_same_pairs2200\", \"orientation\": \"v\", \"showlegend\": true, \"type\": \"histogram\", \"x\": [2.6880178, 1.9752831000000002, 1.8095153999999998, 3.6210067, 2.8327277000000004, 2.3808013999999997, 1.8388096999999999, 1.7825522, 3.1014947999999998, 2.3335857000000004, 1.8545125, 2.1927220000000003, 2.3474209999999998, 4.375192, 2.1478438], \"xaxis\": \"x\", \"yaxis\": \"y\"}, {\"alignmentgroup\": \"True\", \"bingroup\": \"x\", \"hovertemplate\": \"color=invert_diff_pairs2300<br>x=%{x}<br>count=%{y}<extra></extra>\", \"legendgroup\": \"invert_diff_pairs2300\", \"marker\": {\"color\": \"#FFA15A\"}, \"name\": \"invert_diff_pairs2300\", \"offsetgroup\": \"invert_diff_pairs2300\", \"orientation\": \"v\", \"showlegend\": true, \"type\": \"histogram\", \"x\": [3.5115726, 4.7611327, 3.2858503, 4.348193, 3.8123689, 3.107354, 2.8253912999999997, 4.412591, 4.321033, 3.8563913999999997, 2.809588, 4.1744184, 4.007912999999999, 2.608218, 3.2619283], \"xaxis\": \"x\", \"yaxis\": \"y\"}, {\"alignmentgroup\": \"True\", \"bingroup\": \"x\", \"hovertemplate\": \"color=invert_same_pairs2300<br>x=%{x}<br>count=%{y}<extra></extra>\", \"legendgroup\": \"invert_same_pairs2300\", \"marker\": {\"color\": \"#19d3f3\"}, \"name\": \"invert_same_pairs2300\", \"offsetgroup\": \"invert_same_pairs2300\", \"orientation\": \"v\", \"showlegend\": true, \"type\": \"histogram\", \"x\": [3.5620562999999996, 2.928287, 2.5503335, 2.6164546000000004, 3.8041885000000004, 3.165578, 2.2906437000000004, 2.685921, 3.6281296999999997, 4.5804540000000005, 2.105968, 3.4081936, 2.499541, 4.199032, 2.50618], \"xaxis\": \"x\", \"yaxis\": \"y\"}, {\"alignmentgroup\": \"True\", \"bingroup\": \"x\", \"hovertemplate\": \"color=invert_diff_pairs51<br>x=%{x}<br>count=%{y}<extra></extra>\", \"legendgroup\": \"invert_diff_pairs51\", \"marker\": {\"color\": \"#FF6692\"}, \"name\": \"invert_diff_pairs51\", \"offsetgroup\": \"invert_diff_pairs51\", \"orientation\": \"v\", \"showlegend\": true, \"type\": \"histogram\", \"x\": [0.10810020599999999, 0.087758966, 0.16687292, 0.08726209, 0.09103044, 0.2263825, 0.08445174, 0.10201711, 0.41396320000000003, 0.16688736, 0.11666628, 0.34879196, 0.24945213, 0.39913008, 0.16253898], \"xaxis\": \"x\", \"yaxis\": \"y\"}, {\"alignmentgroup\": \"True\", \"bingroup\": \"x\", \"hovertemplate\": \"color=invert_same_pairs51<br>x=%{x}<br>count=%{y}<extra></extra>\", \"legendgroup\": \"invert_same_pairs51\", \"marker\": {\"color\": \"#B6E880\"}, \"name\": \"invert_same_pairs51\", \"offsetgroup\": \"invert_same_pairs51\", \"orientation\": \"v\", \"showlegend\": true, \"type\": \"histogram\", \"x\": [0.11913997, 0.093307525, 0.14535145, 0.0899813, 0.10197573, 0.21906985, 0.09273192, 0.10194437, 0.40565650000000003, 0.18256684, 0.09597854, 0.35046014, 0.24591504, 0.40201718, 0.1563265], \"xaxis\": \"x\", \"yaxis\": \"y\"}, {\"alignmentgroup\": \"True\", \"bingroup\": \"x\", \"hovertemplate\": \"color=invert_diff_pairs55<br>x=%{x}<br>count=%{y}<extra></extra>\", \"legendgroup\": \"invert_diff_pairs55\", \"marker\": {\"color\": \"#FF97FF\"}, \"name\": \"invert_diff_pairs55\", \"offsetgroup\": \"invert_diff_pairs55\", \"orientation\": \"v\", \"showlegend\": true, \"type\": \"histogram\", \"x\": [2.7246964, 1.9580803, 6.970672599999999, 2.513861, 2.05132, 2.9199702999999997, 2.2746868, 6.103078400000001, 3.4204154000000004, 6.300275, 2.9428349, 4.301079799999999, 2.6351259999999996, 1.9242754000000002, 2.1961746], \"xaxis\": \"x\", \"yaxis\": \"y\"}, {\"alignmentgroup\": \"True\", \"bingroup\": \"x\", \"hovertemplate\": \"color=invert_same_pairs55<br>x=%{x}<br>count=%{y}<extra></extra>\", \"legendgroup\": \"invert_same_pairs55\", \"marker\": {\"color\": \"#FECB52\"}, \"name\": \"invert_same_pairs55\", \"offsetgroup\": \"invert_same_pairs55\", \"orientation\": \"v\", \"showlegend\": true, \"type\": \"histogram\", \"x\": [1.2929178, 1.2741749, 4.23684, 2.1026187000000003, 2.4116732999999995, 3.9661297999999996, 1.7367758000000002, 2.1823452000000003, 5.0088873, 2.7342877, 1.1206017, 4.517557599999999, 3.26753, 3.1534755000000003, 1.5848163], \"xaxis\": \"x\", \"yaxis\": \"y\"}, {\"alignmentgroup\": \"True\", \"bingroup\": \"x\", \"hovertemplate\": \"color=invert_diff_pairs510<br>x=%{x}<br>count=%{y}<extra></extra>\", \"legendgroup\": \"invert_diff_pairs510\", \"marker\": {\"color\": \"#636efa\"}, \"name\": \"invert_diff_pairs510\", \"offsetgroup\": \"invert_diff_pairs510\", \"orientation\": \"v\", \"showlegend\": true, \"type\": \"histogram\", \"x\": [1.2509848999999997, 1.4386108, 0.5556634, 1.3679162, 1.3728781, 0.52075726, 0.8345343000000001, 0.46431446, 1.0724808000000001, 1.43341, 1.2334673, 1.1862606000000002, 1.0015665999999999, 0.5901301999999999, 1.3084742], \"xaxis\": \"x\", \"yaxis\": \"y\"}, {\"alignmentgroup\": \"True\", \"bingroup\": \"x\", \"hovertemplate\": \"color=invert_same_pairs510<br>x=%{x}<br>count=%{y}<extra></extra>\", \"legendgroup\": \"invert_same_pairs510\", \"marker\": {\"color\": \"#EF553B\"}, \"name\": \"invert_same_pairs510\", \"offsetgroup\": \"invert_same_pairs510\", \"orientation\": \"v\", \"showlegend\": true, \"type\": \"histogram\", \"x\": [1.2898121999999999, 1.4834988000000002, 0.5514595, 1.1497663999999999, 1.550208, 0.33774817, 0.8643207, 0.36356762, 0.86633956, 1.3582041999999999, 1.2949128, 1.2866538, 0.8268139999999999, 0.76666397, 1.1747838], \"xaxis\": \"x\", \"yaxis\": \"y\"}, {\"alignmentgroup\": \"True\", \"bingroup\": \"x\", \"hovertemplate\": \"color=invert_diff_pairs520<br>x=%{x}<br>count=%{y}<extra></extra>\", \"legendgroup\": \"invert_diff_pairs520\", \"marker\": {\"color\": \"#00cc96\"}, \"name\": \"invert_diff_pairs520\", \"offsetgroup\": \"invert_diff_pairs520\", \"orientation\": \"v\", \"showlegend\": true, \"type\": \"histogram\", \"x\": [6.803240299999999, 7.287272, 3.5915334000000003, 8.861814500000001, 7.1033826, 3.799993, 5.6909847000000005, 3.9150720000000003, 5.676828400000001, 6.2440885999999995, 7.2272815999999995, 6.3741083, 7.0105386, 4.7349515, 7.6213837], \"xaxis\": \"x\", \"yaxis\": \"y\"}, {\"alignmentgroup\": \"True\", \"bingroup\": \"x\", \"hovertemplate\": \"color=invert_same_pairs520<br>x=%{x}<br>count=%{y}<extra></extra>\", \"legendgroup\": \"invert_same_pairs520\", \"marker\": {\"color\": \"#ab63fa\"}, \"name\": \"invert_same_pairs520\", \"offsetgroup\": \"invert_same_pairs520\", \"orientation\": \"v\", \"showlegend\": true, \"type\": \"histogram\", \"x\": [7.469835000000001, 7.4358745, 3.9889169, 6.192071400000001, 8.46916, 2.8013897, 5.798888, 2.942936, 4.8015932999999995, 7.0806475, 6.307449, 6.4236197, 5.062806, 6.1955795, 7.177656], \"xaxis\": \"x\", \"yaxis\": \"y\"}, {\"alignmentgroup\": \"True\", \"bingroup\": \"x\", \"hovertemplate\": \"color=invert_diff_pairs550<br>x=%{x}<br>count=%{y}<extra></extra>\", \"legendgroup\": \"invert_diff_pairs550\", \"marker\": {\"color\": \"#FFA15A\"}, \"name\": \"invert_diff_pairs550\", \"offsetgroup\": \"invert_diff_pairs550\", \"orientation\": \"v\", \"showlegend\": true, \"type\": \"histogram\", \"x\": [7.908354300000001, 9.333853999999999, 6.9676895000000005, 7.3731894, 9.790125999999999, 6.739382000000001, 9.250422, 6.4275002, 9.944952, 8.635653, 9.732682, 9.402434, 9.1853285, 6.437393, 8.984725], \"xaxis\": \"x\", \"yaxis\": \"y\"}, {\"alignmentgroup\": \"True\", \"bingroup\": \"x\", \"hovertemplate\": \"color=invert_same_pairs550<br>x=%{x}<br>count=%{y}<extra></extra>\", \"legendgroup\": \"invert_same_pairs550\", \"marker\": {\"color\": \"#19d3f3\"}, \"name\": \"invert_same_pairs550\", \"offsetgroup\": \"invert_same_pairs550\", \"orientation\": \"v\", \"showlegend\": true, \"type\": \"histogram\", \"x\": [8.483327000000001, 8.82008, 6.765236, 5.686393700000001, 9.92287, 6.22764, 8.69364, 5.929498000000001, 9.138275, 9.172751, 8.766587, 9.251624000000001, 8.161075, 7.6415834, 8.812952000000001], \"xaxis\": \"x\", \"yaxis\": \"y\"}, {\"alignmentgroup\": \"True\", \"bingroup\": \"x\", \"hovertemplate\": \"color=invert_diff_pairs5100<br>x=%{x}<br>count=%{y}<extra></extra>\", \"legendgroup\": \"invert_diff_pairs5100\", \"marker\": {\"color\": \"#FF6692\"}, \"name\": \"invert_diff_pairs5100\", \"offsetgroup\": \"invert_diff_pairs5100\", \"orientation\": \"v\", \"showlegend\": true, \"type\": \"histogram\", \"x\": [5.7400627, 6.0234547, 5.285372, 7.2723937, 6.8554163, 6.293037, 7.032464, 5.2263265, 6.078957, 6.0590663000000005, 5.8508267, 6.107012999999999, 6.7005177, 5.616848, 5.944579], \"xaxis\": \"x\", \"yaxis\": \"y\"}, {\"alignmentgroup\": \"True\", \"bingroup\": \"x\", \"hovertemplate\": \"color=invert_same_pairs5100<br>x=%{x}<br>count=%{y}<extra></extra>\", \"legendgroup\": \"invert_same_pairs5100\", \"marker\": {\"color\": \"#B6E880\"}, \"name\": \"invert_same_pairs5100\", \"offsetgroup\": \"invert_same_pairs5100\", \"orientation\": \"v\", \"showlegend\": true, \"type\": \"histogram\", \"x\": [6.076188, 5.530064, 5.0705860000000005, 5.3385067, 6.324584, 4.7518806, 5.836911, 4.3585353, 5.6743293, 5.980539299999999, 5.0470866999999995, 5.7958940000000005, 4.75451, 6.883055000000001, 5.5220769999999995], \"xaxis\": \"x\", \"yaxis\": \"y\"}, {\"alignmentgroup\": \"True\", \"bingroup\": \"x\", \"hovertemplate\": \"color=invert_diff_pairs5200<br>x=%{x}<br>count=%{y}<extra></extra>\", \"legendgroup\": \"invert_diff_pairs5200\", \"marker\": {\"color\": \"#FF97FF\"}, \"name\": \"invert_diff_pairs5200\", \"offsetgroup\": \"invert_diff_pairs5200\", \"orientation\": \"v\", \"showlegend\": true, \"type\": \"histogram\", \"x\": [5.165718599999999, 7.747807000000001, 5.347903700000001, 4.5525875, 6.615117999999999, 6.6598086, 7.545275, 4.686808999999999, 8.255192999999998, 5.8153915000000005, 7.155537, 6.382143, 6.868117, 5.444816599999999, 6.632647500000001], \"xaxis\": \"x\", \"yaxis\": \"y\"}, {\"alignmentgroup\": \"True\", \"bingroup\": \"x\", \"hovertemplate\": \"color=invert_same_pairs5200<br>x=%{x}<br>count=%{y}<extra></extra>\", \"legendgroup\": \"invert_same_pairs5200\", \"marker\": {\"color\": \"#FECB52\"}, \"name\": \"invert_same_pairs5200\", \"offsetgroup\": \"invert_same_pairs5200\", \"orientation\": \"v\", \"showlegend\": true, \"type\": \"histogram\", \"x\": [6.3109025999999995, 5.5639715, 5.126385, 4.972844, 6.618415400000001, 5.598028, 6.6115193, 4.7057915, 6.1138515, 5.752877, 5.9084725, 5.9067235, 5.520427, 6.691796000000001, 6.0416846], \"xaxis\": \"x\", \"yaxis\": \"y\"}, {\"alignmentgroup\": \"True\", \"bingroup\": \"x\", \"hovertemplate\": \"color=invert_diff_pairs5300<br>x=%{x}<br>count=%{y}<extra></extra>\", \"legendgroup\": \"invert_diff_pairs5300\", \"marker\": {\"color\": \"#636efa\"}, \"name\": \"invert_diff_pairs5300\", \"offsetgroup\": \"invert_diff_pairs5300\", \"orientation\": \"v\", \"showlegend\": true, \"type\": \"histogram\", \"x\": [6.431016400000001, 7.7754693, 6.173276400000001, 5.4179907, 4.8829769999999995, 7.060980000000001, 5.773921, 7.965432000000001, 6.929466000000001, 6.5238137, 7.1645026, 7.7640457, 6.980401, 5.565958, 5.8888607], \"xaxis\": \"x\", \"yaxis\": \"y\"}, {\"alignmentgroup\": \"True\", \"bingroup\": \"x\", \"hovertemplate\": \"color=invert_same_pairs5300<br>x=%{x}<br>count=%{y}<extra></extra>\", \"legendgroup\": \"invert_same_pairs5300\", \"marker\": {\"color\": \"#EF553B\"}, \"name\": \"invert_same_pairs5300\", \"offsetgroup\": \"invert_same_pairs5300\", \"orientation\": \"v\", \"showlegend\": true, \"type\": \"histogram\", \"x\": [5.989968, 5.6357703, 5.299923000000001, 5.689944000000001, 4.7235885, 6.1183195, 5.255079, 4.8923373, 6.2007422, 5.963075, 4.646641000000001, 6.16549, 6.466508, 7.473008999999999, 5.201964], \"xaxis\": \"x\", \"yaxis\": \"y\"}, {\"alignmentgroup\": \"True\", \"bingroup\": \"x\", \"hovertemplate\": \"color=invert_diff_pairs101<br>x=%{x}<br>count=%{y}<extra></extra>\", \"legendgroup\": \"invert_diff_pairs101\", \"marker\": {\"color\": \"#00cc96\"}, \"name\": \"invert_diff_pairs101\", \"offsetgroup\": \"invert_diff_pairs101\", \"orientation\": \"v\", \"showlegend\": true, \"type\": \"histogram\", \"x\": [0.034329787, 0.04226034, 0.059296722999999996, 0.04715183, 0.042283895999999994, 0.066481724, 0.05387824, 0.04058646, 0.0698794, 0.03762752, 0.04945346, 0.06194716, 0.056302517999999996, 0.05017399, 0.039370745], \"xaxis\": \"x\", \"yaxis\": \"y\"}, {\"alignmentgroup\": \"True\", \"bingroup\": \"x\", \"hovertemplate\": \"color=invert_same_pairs101<br>x=%{x}<br>count=%{y}<extra></extra>\", \"legendgroup\": \"invert_same_pairs101\", \"marker\": {\"color\": \"#ab63fa\"}, \"name\": \"invert_same_pairs101\", \"offsetgroup\": \"invert_same_pairs101\", \"orientation\": \"v\", \"showlegend\": true, \"type\": \"histogram\", \"x\": [0.033354014, 0.0363464, 0.038652167, 0.04920369, 0.043321285, 0.061452775999999994, 0.044565797000000004, 0.051640387999999995, 0.0630944, 0.052319653, 0.03427146, 0.06383806, 0.054831844000000005, 0.053343847, 0.045294676], \"xaxis\": \"x\", \"yaxis\": \"y\"}, {\"alignmentgroup\": \"True\", \"bingroup\": \"x\", \"hovertemplate\": \"color=invert_diff_pairs105<br>x=%{x}<br>count=%{y}<extra></extra>\", \"legendgroup\": \"invert_diff_pairs105\", \"marker\": {\"color\": \"#FFA15A\"}, \"name\": \"invert_diff_pairs105\", \"offsetgroup\": \"invert_diff_pairs105\", \"orientation\": \"v\", \"showlegend\": true, \"type\": \"histogram\", \"x\": [7.4157305, 8.497678, 3.6111982000000005, 6.4685416, 8.26879, 4.4508348, 6.761478, 3.4469415999999997, 5.044691, 6.8237076, 7.491865600000001, 6.250053, 5.294175599999999, 3.5618076000000003, 7.2583113], \"xaxis\": \"x\", \"yaxis\": \"y\"}, {\"alignmentgroup\": \"True\", \"bingroup\": \"x\", \"hovertemplate\": \"color=invert_same_pairs105<br>x=%{x}<br>count=%{y}<extra></extra>\", \"legendgroup\": \"invert_same_pairs105\", \"marker\": {\"color\": \"#19d3f3\"}, \"name\": \"invert_same_pairs105\", \"offsetgroup\": \"invert_same_pairs105\", \"orientation\": \"v\", \"showlegend\": true, \"type\": \"histogram\", \"x\": [7.352040299999999, 8.320706, 3.1668591, 4.573494999999999, 9.120550999999999, 3.6401055, 5.8534117, 2.879419, 4.3174505, 7.4091554, 7.040334, 6.166101, 4.4322367, 4.874443, 7.419040700000001], \"xaxis\": \"x\", \"yaxis\": \"y\"}, {\"alignmentgroup\": \"True\", \"bingroup\": \"x\", \"hovertemplate\": \"color=invert_diff_pairs1010<br>x=%{x}<br>count=%{y}<extra></extra>\", \"legendgroup\": \"invert_diff_pairs1010\", \"marker\": {\"color\": \"#FF6692\"}, \"name\": \"invert_diff_pairs1010\", \"offsetgroup\": \"invert_diff_pairs1010\", \"orientation\": \"v\", \"showlegend\": true, \"type\": \"histogram\", \"x\": [7.1568785, 7.8273315000000006, 4.82878, 8.115345, 7.325796, 5.598162, 7.3228936000000004, 4.5258107, 7.0301595, 7.1327929999999995, 7.2235937, 7.169726, 7.951960000000001, 5.1828449999999995, 7.787216], \"xaxis\": \"x\", \"yaxis\": \"y\"}, {\"alignmentgroup\": \"True\", \"bingroup\": \"x\", \"hovertemplate\": \"color=invert_same_pairs1010<br>x=%{x}<br>count=%{y}<extra></extra>\", \"legendgroup\": \"invert_same_pairs1010\", \"marker\": {\"color\": \"#B6E880\"}, \"name\": \"invert_same_pairs1010\", \"offsetgroup\": \"invert_same_pairs1010\", \"orientation\": \"v\", \"showlegend\": true, \"type\": \"histogram\", \"x\": [7.529864999999999, 8.194449, 4.547035, 5.304424299999999, 8.5392885, 3.9740932, 6.532742, 3.8268657, 6.161573000000001, 7.2058979999999995, 6.828466000000001, 6.945353999999999, 5.471983, 7.282411, 6.9510493], \"xaxis\": \"x\", \"yaxis\": \"y\"}, {\"alignmentgroup\": \"True\", \"bingroup\": \"x\", \"hovertemplate\": \"color=invert_diff_pairs1020<br>x=%{x}<br>count=%{y}<extra></extra>\", \"legendgroup\": \"invert_diff_pairs1020\", \"marker\": {\"color\": \"#FF97FF\"}, \"name\": \"invert_diff_pairs1020\", \"offsetgroup\": \"invert_diff_pairs1020\", \"orientation\": \"v\", \"showlegend\": true, \"type\": \"histogram\", \"x\": [10.241033999999999, 10.982445, 8.066285, 8.418106, 11.494038, 8.367521, 11.675257, 7.6294002999999995, 10.784255, 10.027936, 12.070863000000001, 11.014049, 12.020357, 8.450084, 10.455405], \"xaxis\": \"x\", \"yaxis\": \"y\"}, {\"alignmentgroup\": \"True\", \"bingroup\": \"x\", \"hovertemplate\": \"color=invert_same_pairs1020<br>x=%{x}<br>count=%{y}<extra></extra>\", \"legendgroup\": \"invert_same_pairs1020\", \"marker\": {\"color\": \"#FECB52\"}, \"name\": \"invert_same_pairs1020\", \"offsetgroup\": \"invert_same_pairs1020\", \"orientation\": \"v\", \"showlegend\": true, \"type\": \"histogram\", \"x\": [10.162991, 10.979768, 7.8745265, 6.4667463, 11.883514, 6.794463, 11.709524, 7.79903, 9.866012, 10.503598, 10.56288, 10.91818, 10.326233, 9.932528, 11.141117999999999], \"xaxis\": \"x\", \"yaxis\": \"y\"}, {\"alignmentgroup\": \"True\", \"bingroup\": \"x\", \"hovertemplate\": \"color=invert_diff_pairs1050<br>x=%{x}<br>count=%{y}<extra></extra>\", \"legendgroup\": \"invert_diff_pairs1050\", \"marker\": {\"color\": \"#636efa\"}, \"name\": \"invert_diff_pairs1050\", \"offsetgroup\": \"invert_diff_pairs1050\", \"orientation\": \"v\", \"showlegend\": true, \"type\": \"histogram\", \"x\": [9.182995, 10.067492999999999, 8.671785, 7.6403574999999995, 10.627285, 9.092272, 10.622538, 9.518559, 10.946778, 9.532293, 11.750082, 9.797761999999999, 12.866691000000001, 8.655458, 10.1670475], \"xaxis\": \"x\", \"yaxis\": \"y\"}, {\"alignmentgroup\": \"True\", \"bingroup\": \"x\", \"hovertemplate\": \"color=invert_same_pairs1050<br>x=%{x}<br>count=%{y}<extra></extra>\", \"legendgroup\": \"invert_same_pairs1050\", \"marker\": {\"color\": \"#EF553B\"}, \"name\": \"invert_same_pairs1050\", \"offsetgroup\": \"invert_same_pairs1050\", \"orientation\": \"v\", \"showlegend\": true, \"type\": \"histogram\", \"x\": [8.995038000000001, 9.547628, 6.8481474, 9.057034, 10.381447999999999, 7.274236999999999, 9.402721000000001, 6.0481133, 9.5993595, 9.510258, 8.626116, 9.803438, 7.949957, 10.49099, 9.340581], \"xaxis\": \"x\", \"yaxis\": \"y\"}, {\"alignmentgroup\": \"True\", \"bingroup\": \"x\", \"hovertemplate\": \"color=invert_diff_pairs10100<br>x=%{x}<br>count=%{y}<extra></extra>\", \"legendgroup\": \"invert_diff_pairs10100\", \"marker\": {\"color\": \"#00cc96\"}, \"name\": \"invert_diff_pairs10100\", \"offsetgroup\": \"invert_diff_pairs10100\", \"orientation\": \"v\", \"showlegend\": true, \"type\": \"histogram\", \"x\": [6.7761183, 6.7134595, 6.386487000000001, 7.523174000000001, 7.6281614, 8.21442, 7.6547160000000005, 7.271706599999999, 8.773464, 8.188075, 7.1846356, 7.5942645, 8.437858, 6.0363994000000005, 7.652936500000001], \"xaxis\": \"x\", \"yaxis\": \"y\"}, {\"alignmentgroup\": \"True\", \"bingroup\": \"x\", \"hovertemplate\": \"color=invert_same_pairs10100<br>x=%{x}<br>count=%{y}<extra></extra>\", \"legendgroup\": \"invert_same_pairs10100\", \"marker\": {\"color\": \"#ab63fa\"}, \"name\": \"invert_same_pairs10100\", \"offsetgroup\": \"invert_same_pairs10100\", \"orientation\": \"v\", \"showlegend\": true, \"type\": \"histogram\", \"x\": [6.3918919999999995, 6.3964114, 5.731629, 6.988666499999999, 6.8740473, 6.4310529999999995, 6.0125575, 5.4984307, 6.252743, 7.799559599999999, 5.266148599999999, 6.4539824, 6.166643, 8.05327, 6.0100203], \"xaxis\": \"x\", \"yaxis\": \"y\"}, {\"alignmentgroup\": \"True\", \"bingroup\": \"x\", \"hovertemplate\": \"color=invert_diff_pairs10200<br>x=%{x}<br>count=%{y}<extra></extra>\", \"legendgroup\": \"invert_diff_pairs10200\", \"marker\": {\"color\": \"#FFA15A\"}, \"name\": \"invert_diff_pairs10200\", \"offsetgroup\": \"invert_diff_pairs10200\", \"orientation\": \"v\", \"showlegend\": true, \"type\": \"histogram\", \"x\": [7.456121400000001, 6.956531, 8.388065, 13.382663, 9.086542, 7.717149000000001, 5.864054, 12.540607000000001, 9.410556, 8.084404, 7.004217, 6.4639516, 8.050146, 6.3484625999999995, 7.6715813], \"xaxis\": \"x\", \"yaxis\": \"y\"}, {\"alignmentgroup\": \"True\", \"bingroup\": \"x\", \"hovertemplate\": \"color=invert_same_pairs10200<br>x=%{x}<br>count=%{y}<extra></extra>\", \"legendgroup\": \"invert_same_pairs10200\", \"marker\": {\"color\": \"#19d3f3\"}, \"name\": \"invert_same_pairs10200\", \"offsetgroup\": \"invert_same_pairs10200\", \"orientation\": \"v\", \"showlegend\": true, \"type\": \"histogram\", \"x\": [5.82385, 6.4895214999999995, 5.2825127, 6.0723047, 7.3730073, 6.256122, 6.923876299999999, 5.401814, 10.756872999999999, 6.938358999999999, 5.84109, 5.8002205, 6.360457, 8.467775999999999, 5.819098], \"xaxis\": \"x\", \"yaxis\": \"y\"}, {\"alignmentgroup\": \"True\", \"bingroup\": \"x\", \"hovertemplate\": \"color=invert_diff_pairs10300<br>x=%{x}<br>count=%{y}<extra></extra>\", \"legendgroup\": \"invert_diff_pairs10300\", \"marker\": {\"color\": \"#FF6692\"}, \"name\": \"invert_diff_pairs10300\", \"offsetgroup\": \"invert_diff_pairs10300\", \"orientation\": \"v\", \"showlegend\": true, \"type\": \"histogram\", \"x\": [7.399197999999999, 7.904413000000001, 7.6500444000000005, 10.003097, 7.1346393, 9.310433999999999, 7.742733, 8.188458, 10.694903, 6.9733996, 7.7730417, 7.5664267999999995, 10.521703, 8.026375, 7.021452], \"xaxis\": \"x\", \"yaxis\": \"y\"}, {\"alignmentgroup\": \"True\", \"bingroup\": \"x\", \"hovertemplate\": \"color=invert_same_pairs10300<br>x=%{x}<br>count=%{y}<extra></extra>\", \"legendgroup\": \"invert_same_pairs10300\", \"marker\": {\"color\": \"#B6E880\"}, \"name\": \"invert_same_pairs10300\", \"offsetgroup\": \"invert_same_pairs10300\", \"orientation\": \"v\", \"showlegend\": true, \"type\": \"histogram\", \"x\": [6.0464115, 6.932391, 5.2238636, 6.605997599999999, 7.2868557, 6.402153500000001, 5.5658474, 5.752557, 9.392894, 6.750559, 5.8213468, 7.2910580000000005, 5.734693, 7.630641499999999, 6.111162], \"xaxis\": \"x\", \"yaxis\": \"y\"}, {\"alignmentgroup\": \"True\", \"bingroup\": \"x\", \"hovertemplate\": \"color=invert_diff_pairs501<br>x=%{x}<br>count=%{y}<extra></extra>\", \"legendgroup\": \"invert_diff_pairs501\", \"marker\": {\"color\": \"#FF97FF\"}, \"name\": \"invert_diff_pairs501\", \"offsetgroup\": \"invert_diff_pairs501\", \"orientation\": \"v\", \"showlegend\": true, \"type\": \"histogram\", \"x\": [19.442593, 23.536533, 9.49789, 22.487476, 23.572423999999998, 9.224844000000001, 17.659601000000002, 8.404866, 18.246893, 21.416279, 20.642876, 20.430264, 16.302156, 9.705455, 22.003504], \"xaxis\": \"x\", \"yaxis\": \"y\"}, {\"alignmentgroup\": \"True\", \"bingroup\": \"x\", \"hovertemplate\": \"color=invert_same_pairs501<br>x=%{x}<br>count=%{y}<extra></extra>\", \"legendgroup\": \"invert_same_pairs501\", \"marker\": {\"color\": \"#FECB52\"}, \"name\": \"invert_same_pairs501\", \"offsetgroup\": \"invert_same_pairs501\", \"orientation\": \"v\", \"showlegend\": true, \"type\": \"histogram\", \"x\": [21.00773, 24.022054999999998, 9.096299, 17.135923000000002, 25.141329000000002, 6.231798599999999, 16.208591000000002, 6.2523704, 16.31074, 21.51267, 20.842095999999998, 20.857635000000002, 13.547592000000002, 13.0667515, 19.206028], \"xaxis\": \"x\", \"yaxis\": \"y\"}, {\"alignmentgroup\": \"True\", \"bingroup\": \"x\", \"hovertemplate\": \"color=invert_diff_pairs505<br>x=%{x}<br>count=%{y}<extra></extra>\", \"legendgroup\": \"invert_diff_pairs505\", \"marker\": {\"color\": \"#636efa\"}, \"name\": \"invert_diff_pairs505\", \"offsetgroup\": \"invert_diff_pairs505\", \"orientation\": \"v\", \"showlegend\": true, \"type\": \"histogram\", \"x\": [12.435557000000001, 15.332626000000001, 7.257983, 12.311418, 16.148457, 7.561967999999999, 13.616945000000001, 7.92685, 11.6711445, 13.541359, 13.55778, 12.980557000000001, 14.771301000000001, 8.403488000000001, 13.624734], \"xaxis\": \"x\", \"yaxis\": \"y\"}, {\"alignmentgroup\": \"True\", \"bingroup\": \"x\", \"hovertemplate\": \"color=invert_same_pairs505<br>x=%{x}<br>count=%{y}<extra></extra>\", \"legendgroup\": \"invert_same_pairs505\", \"marker\": {\"color\": \"#EF553B\"}, \"name\": \"invert_same_pairs505\", \"offsetgroup\": \"invert_same_pairs505\", \"orientation\": \"v\", \"showlegend\": true, \"type\": \"histogram\", \"x\": [12.824196, 15.231898999999999, 7.5486960000000005, 7.170036, 16.911228, 6.0106845, 12.912357, 7.094685000000001, 11.700391, 13.133458, 13.30129, 12.432145, 9.774929, 11.912098, 14.037593], \"xaxis\": \"x\", \"yaxis\": \"y\"}, {\"alignmentgroup\": \"True\", \"bingroup\": \"x\", \"hovertemplate\": \"color=invert_diff_pairs5010<br>x=%{x}<br>count=%{y}<extra></extra>\", \"legendgroup\": \"invert_diff_pairs5010\", \"marker\": {\"color\": \"#00cc96\"}, \"name\": \"invert_diff_pairs5010\", \"offsetgroup\": \"invert_diff_pairs5010\", \"orientation\": \"v\", \"showlegend\": true, \"type\": \"histogram\", \"x\": [13.536422, 15.168982500000002, 12.714238, 14.695576999999998, 16.84178, 12.223091, 15.274188, 14.890711999999999, 14.670141000000001, 13.056372999999999, 17.800734, 14.122379, 19.510920000000002, 11.332197, 15.156879], \"xaxis\": \"x\", \"yaxis\": \"y\"}, {\"alignmentgroup\": \"True\", \"bingroup\": \"x\", \"hovertemplate\": \"color=invert_same_pairs5010<br>x=%{x}<br>count=%{y}<extra></extra>\", \"legendgroup\": \"invert_same_pairs5010\", \"marker\": {\"color\": \"#ab63fa\"}, \"name\": \"invert_same_pairs5010\", \"offsetgroup\": \"invert_same_pairs5010\", \"orientation\": \"v\", \"showlegend\": true, \"type\": \"histogram\", \"x\": [14.060045, 14.7304, 10.743319, 12.064523, 16.599726, 8.890158, 16.254898, 9.625619, 13.951548, 15.03692, 12.808157000000001, 14.544881, 13.0673485, 16.172224, 14.543351000000001], \"xaxis\": \"x\", \"yaxis\": \"y\"}, {\"alignmentgroup\": \"True\", \"bingroup\": \"x\", \"hovertemplate\": \"color=invert_diff_pairs5020<br>x=%{x}<br>count=%{y}<extra></extra>\", \"legendgroup\": \"invert_diff_pairs5020\", \"marker\": {\"color\": \"#FFA15A\"}, \"name\": \"invert_diff_pairs5020\", \"offsetgroup\": \"invert_diff_pairs5020\", \"orientation\": \"v\", \"showlegend\": true, \"type\": \"histogram\", \"x\": [11.215375, 13.345733, 11.687463000000001, 11.460591, 12.465904, 12.404954, 13.375091000000001, 13.516662, 14.723071, 11.547637, 12.716312, 12.697588, 14.11929, 11.147031, 12.08468], \"xaxis\": \"x\", \"yaxis\": \"y\"}, {\"alignmentgroup\": \"True\", \"bingroup\": \"x\", \"hovertemplate\": \"color=invert_same_pairs5020<br>x=%{x}<br>count=%{y}<extra></extra>\", \"legendgroup\": \"invert_same_pairs5020\", \"marker\": {\"color\": \"#19d3f3\"}, \"name\": \"invert_same_pairs5020\", \"offsetgroup\": \"invert_same_pairs5020\", \"orientation\": \"v\", \"showlegend\": true, \"type\": \"histogram\", \"x\": [11.14535, 11.83822, 9.881609, 9.974183, 12.1479645, 9.914943, 13.282144, 9.522391, 13.193706, 11.361163000000001, 10.100489999999999, 11.932763000000001, 11.09726, 13.0805235, 12.087628], \"xaxis\": \"x\", \"yaxis\": \"y\"}, {\"alignmentgroup\": \"True\", \"bingroup\": \"x\", \"hovertemplate\": \"color=invert_diff_pairs5050<br>x=%{x}<br>count=%{y}<extra></extra>\", \"legendgroup\": \"invert_diff_pairs5050\", \"marker\": {\"color\": \"#FF6692\"}, \"name\": \"invert_diff_pairs5050\", \"offsetgroup\": \"invert_diff_pairs5050\", \"orientation\": \"v\", \"showlegend\": true, \"type\": \"histogram\", \"x\": [16.613892, 19.38085, 16.273858999999998, 19.636105, 15.1164875, 18.827560000000002, 15.833626, 21.759394, 24.081818, 16.059476999999998, 18.117424, 16.893583, 19.913952, 14.722256, 15.743589000000002], \"xaxis\": \"x\", \"yaxis\": \"y\"}, {\"alignmentgroup\": \"True\", \"bingroup\": \"x\", \"hovertemplate\": \"color=invert_same_pairs5050<br>x=%{x}<br>count=%{y}<extra></extra>\", \"legendgroup\": \"invert_same_pairs5050\", \"marker\": {\"color\": \"#B6E880\"}, \"name\": \"invert_same_pairs5050\", \"offsetgroup\": \"invert_same_pairs5050\", \"orientation\": \"v\", \"showlegend\": true, \"type\": \"histogram\", \"x\": [13.059239, 14.069494, 11.933905000000001, 15.951386999999999, 13.534021, 19.19455, 10.958150999999999, 10.439766, 22.428568, 19.839956, 13.720989000000001, 16.796438000000002, 11.296142, 17.255808, 13.016219], \"xaxis\": \"x\", \"yaxis\": \"y\"}, {\"alignmentgroup\": \"True\", \"bingroup\": \"x\", \"hovertemplate\": \"color=invert_diff_pairs50100<br>x=%{x}<br>count=%{y}<extra></extra>\", \"legendgroup\": \"invert_diff_pairs50100\", \"marker\": {\"color\": \"#FF97FF\"}, \"name\": \"invert_diff_pairs50100\", \"offsetgroup\": \"invert_diff_pairs50100\", \"orientation\": \"v\", \"showlegend\": true, \"type\": \"histogram\", \"x\": [18.324116, 17.44064, 14.648264000000001, 16.653551, 9.77325, 14.111139000000001, 10.877395, 16.092254999999998, 16.839151, 16.284466000000002, 15.5295925, 11.417547, 22.119902, 9.17031, 14.596398], \"xaxis\": \"x\", \"yaxis\": \"y\"}, {\"alignmentgroup\": \"True\", \"bingroup\": \"x\", \"hovertemplate\": \"color=invert_same_pairs50100<br>x=%{x}<br>count=%{y}<extra></extra>\", \"legendgroup\": \"invert_same_pairs50100\", \"marker\": {\"color\": \"#FECB52\"}, \"name\": \"invert_same_pairs50100\", \"offsetgroup\": \"invert_same_pairs50100\", \"orientation\": \"v\", \"showlegend\": true, \"type\": \"histogram\", \"x\": [10.538451, 11.405395500000001, 9.475211, 11.450617, 11.734115, 13.084145, 8.107432000000001, 8.642614, 18.517515, 11.303721000000001, 10.065965, 10.987482, 9.409925, 15.674420000000001, 9.307905], \"xaxis\": \"x\", \"yaxis\": \"y\"}, {\"alignmentgroup\": \"True\", \"bingroup\": \"x\", \"hovertemplate\": \"color=invert_diff_pairs50200<br>x=%{x}<br>count=%{y}<extra></extra>\", \"legendgroup\": \"invert_diff_pairs50200\", \"marker\": {\"color\": \"#636efa\"}, \"name\": \"invert_diff_pairs50200\", \"offsetgroup\": \"invert_diff_pairs50200\", \"orientation\": \"v\", \"showlegend\": true, \"type\": \"histogram\", \"x\": [11.950585, 16.977415, 9.931225, 14.187338, 14.187714000000001, 16.517333999999998, 10.208861, 20.399510999999997, 13.323189000000001, 14.155957, 14.428095, 11.745097999999999, 14.441749, 12.098510000000001, 10.84154], \"xaxis\": \"x\", \"yaxis\": \"y\"}, {\"alignmentgroup\": \"True\", \"bingroup\": \"x\", \"hovertemplate\": \"color=invert_same_pairs50200<br>x=%{x}<br>count=%{y}<extra></extra>\", \"legendgroup\": \"invert_same_pairs50200\", \"marker\": {\"color\": \"#EF553B\"}, \"name\": \"invert_same_pairs50200\", \"offsetgroup\": \"invert_same_pairs50200\", \"orientation\": \"v\", \"showlegend\": true, \"type\": \"histogram\", \"x\": [9.823667, 14.850037, 8.933950999999999, 11.736428, 9.464902, 12.156457000000001, 7.3635235, 8.313809, 17.047586, 9.340896, 9.459335000000001, 11.256267999999999, 7.8207320000000005, 17.461348, 7.539067], \"xaxis\": \"x\", \"yaxis\": \"y\"}, {\"alignmentgroup\": \"True\", \"bingroup\": \"x\", \"hovertemplate\": \"color=invert_diff_pairs50300<br>x=%{x}<br>count=%{y}<extra></extra>\", \"legendgroup\": \"invert_diff_pairs50300\", \"marker\": {\"color\": \"#00cc96\"}, \"name\": \"invert_diff_pairs50300\", \"offsetgroup\": \"invert_diff_pairs50300\", \"orientation\": \"v\", \"showlegend\": true, \"type\": \"histogram\", \"x\": [16.35673, 24.923583999999998, 11.782611, 12.494399000000001, 15.468511999999999, 12.992403999999999, 9.734267, 15.378557, 12.400729, 13.906189000000001, 17.61758, 14.267970000000002, 18.807804, 12.402607000000001, 13.219002], \"xaxis\": \"x\", \"yaxis\": \"y\"}, {\"alignmentgroup\": \"True\", \"bingroup\": \"x\", \"hovertemplate\": \"color=invert_same_pairs50300<br>x=%{x}<br>count=%{y}<extra></extra>\", \"legendgroup\": \"invert_same_pairs50300\", \"marker\": {\"color\": \"#ab63fa\"}, \"name\": \"invert_same_pairs50300\", \"offsetgroup\": \"invert_same_pairs50300\", \"orientation\": \"v\", \"showlegend\": true, \"type\": \"histogram\", \"x\": [13.741617999999999, 20.65371, 9.2225685, 9.5373125, 11.108372, 12.283892999999999, 8.132038, 11.280279, 9.826949, 10.740719, 13.243182999999998, 15.793667999999998, 11.603867999999999, 14.791549, 13.953187], \"xaxis\": \"x\", \"yaxis\": \"y\"}, {\"alignmentgroup\": \"True\", \"bingroup\": \"x\", \"hovertemplate\": \"color=invert_diff_pairs1001<br>x=%{x}<br>count=%{y}<extra></extra>\", \"legendgroup\": \"invert_diff_pairs1001\", \"marker\": {\"color\": \"#FFA15A\"}, \"name\": \"invert_diff_pairs1001\", \"offsetgroup\": \"invert_diff_pairs1001\", \"orientation\": \"v\", \"showlegend\": true, \"type\": \"histogram\", \"x\": [21.255901, 35.06933, 36.505302, 20.242096, 33.003334, 44.21456, 31.701448, 17.652292000000003, 33.809315000000005, 26.247808000000003, 15.497345999999999, 22.364532, 22.946745, 21.658070000000002, 10.184072500000001], \"xaxis\": \"x\", \"yaxis\": \"y\"}, {\"alignmentgroup\": \"True\", \"bingroup\": \"x\", \"hovertemplate\": \"color=invert_same_pairs1001<br>x=%{x}<br>count=%{y}<extra></extra>\", \"legendgroup\": \"invert_same_pairs1001\", \"marker\": {\"color\": \"#19d3f3\"}, \"name\": \"invert_same_pairs1001\", \"offsetgroup\": \"invert_same_pairs1001\", \"orientation\": \"v\", \"showlegend\": true, \"type\": \"histogram\", \"x\": [10.670933, 23.797806, 14.463251000000001, 31.092506, 26.346903, 37.038692, 12.325648, 25.555765, 29.620435999999998, 19.513393, 25.292341, 24.01035, 19.69174, 27.185064, 22.691763], \"xaxis\": \"x\", \"yaxis\": \"y\"}, {\"alignmentgroup\": \"True\", \"bingroup\": \"x\", \"hovertemplate\": \"color=invert_diff_pairs1005<br>x=%{x}<br>count=%{y}<extra></extra>\", \"legendgroup\": \"invert_diff_pairs1005\", \"marker\": {\"color\": \"#FF6692\"}, \"name\": \"invert_diff_pairs1005\", \"offsetgroup\": \"invert_diff_pairs1005\", \"orientation\": \"v\", \"showlegend\": true, \"type\": \"histogram\", \"x\": [19.162607, 23.658312, 13.757626, 20.443908999999998, 28.615447999999997, 12.681036, 22.544033, 14.270851, 19.730137, 20.977064000000002, 23.894470000000002, 22.744993, 18.417334, 13.273314000000001, 21.695215], \"xaxis\": \"x\", \"yaxis\": \"y\"}, {\"alignmentgroup\": \"True\", \"bingroup\": \"x\", \"hovertemplate\": \"color=invert_same_pairs1005<br>x=%{x}<br>count=%{y}<extra></extra>\", \"legendgroup\": \"invert_same_pairs1005\", \"marker\": {\"color\": \"#B6E880\"}, \"name\": \"invert_same_pairs1005\", \"offsetgroup\": \"invert_same_pairs1005\", \"orientation\": \"v\", \"showlegend\": true, \"type\": \"histogram\", \"x\": [19.82449, 23.925943, 12.195160000000001, 14.904523999999999, 26.108286, 9.599799, 20.740484, 9.595461, 20.74522, 21.957035, 21.150602, 22.014284, 16.505953, 14.149573, 21.096718], \"xaxis\": \"x\", \"yaxis\": \"y\"}, {\"alignmentgroup\": \"True\", \"bingroup\": \"x\", \"hovertemplate\": \"color=invert_diff_pairs10010<br>x=%{x}<br>count=%{y}<extra></extra>\", \"legendgroup\": \"invert_diff_pairs10010\", \"marker\": {\"color\": \"#FF97FF\"}, \"name\": \"invert_diff_pairs10010\", \"offsetgroup\": \"invert_diff_pairs10010\", \"orientation\": \"v\", \"showlegend\": true, \"type\": \"histogram\", \"x\": [13.106478, 16.86107, 13.398202, 14.385155, 15.494060500000002, 15.207537, 15.764410999999999, 17.467825, 16.676754000000003, 14.108224, 15.545138, 15.354359, 16.283203, 13.831017499999998, 15.280695999999999], \"xaxis\": \"x\", \"yaxis\": \"y\"}, {\"alignmentgroup\": \"True\", \"bingroup\": \"x\", \"hovertemplate\": \"color=invert_same_pairs10010<br>x=%{x}<br>count=%{y}<extra></extra>\", \"legendgroup\": \"invert_same_pairs10010\", \"marker\": {\"color\": \"#FECB52\"}, \"name\": \"invert_same_pairs10010\", \"offsetgroup\": \"invert_same_pairs10010\", \"orientation\": \"v\", \"showlegend\": true, \"type\": \"histogram\", \"x\": [14.340185, 14.998188, 12.252077, 11.847648, 16.1803, 12.225864999999999, 16.341587, 11.528145, 18.193245, 13.356438, 11.745242999999999, 14.580223000000002, 12.919575, 16.590048, 14.752939999999999], \"xaxis\": \"x\", \"yaxis\": \"y\"}, {\"alignmentgroup\": \"True\", \"bingroup\": \"x\", \"hovertemplate\": \"color=invert_diff_pairs10020<br>x=%{x}<br>count=%{y}<extra></extra>\", \"legendgroup\": \"invert_diff_pairs10020\", \"marker\": {\"color\": \"#636efa\"}, \"name\": \"invert_diff_pairs10020\", \"offsetgroup\": \"invert_diff_pairs10020\", \"orientation\": \"v\", \"showlegend\": true, \"type\": \"histogram\", \"x\": [21.687973, 25.289482, 17.774803, 22.32488, 19.845953, 25.280903, 19.158777, 22.090889, 23.034110000000002, 19.467888000000002, 21.025888000000002, 21.071558, 28.821496999999997, 20.11344, 19.668154], \"xaxis\": \"x\", \"yaxis\": \"y\"}, {\"alignmentgroup\": \"True\", \"bingroup\": \"x\", \"hovertemplate\": \"color=invert_same_pairs10020<br>x=%{x}<br>count=%{y}<extra></extra>\", \"legendgroup\": \"invert_same_pairs10020\", \"marker\": {\"color\": \"#EF553B\"}, \"name\": \"invert_same_pairs10020\", \"offsetgroup\": \"invert_same_pairs10020\", \"orientation\": \"v\", \"showlegend\": true, \"type\": \"histogram\", \"x\": [18.317326, 19.195908, 15.423717499999999, 18.121923000000002, 22.784451999999998, 18.15341, 19.418661, 13.394255, 20.897057999999998, 18.99578, 15.303797, 18.449944, 15.287014000000001, 26.845333, 17.080935999999998], \"xaxis\": \"x\", \"yaxis\": \"y\"}, {\"alignmentgroup\": \"True\", \"bingroup\": \"x\", \"hovertemplate\": \"color=invert_diff_pairs10050<br>x=%{x}<br>count=%{y}<extra></extra>\", \"legendgroup\": \"invert_diff_pairs10050\", \"marker\": {\"color\": \"#00cc96\"}, \"name\": \"invert_diff_pairs10050\", \"offsetgroup\": \"invert_diff_pairs10050\", \"orientation\": \"v\", \"showlegend\": true, \"type\": \"histogram\", \"x\": [22.327463, 22.321869, 15.077126000000002, 18.028103, 14.666109, 21.159302, 14.253556, 27.50696, 24.791262, 16.204838, 22.314417000000002, 17.43579, 21.296484, 14.038528, 16.904726], \"xaxis\": \"x\", \"yaxis\": \"y\"}, {\"alignmentgroup\": \"True\", \"bingroup\": \"x\", \"hovertemplate\": \"color=invert_same_pairs10050<br>x=%{x}<br>count=%{y}<extra></extra>\", \"legendgroup\": \"invert_same_pairs10050\", \"marker\": {\"color\": \"#ab63fa\"}, \"name\": \"invert_same_pairs10050\", \"offsetgroup\": \"invert_same_pairs10050\", \"orientation\": \"v\", \"showlegend\": true, \"type\": \"histogram\", \"x\": [15.391957000000001, 16.164074, 10.727508, 14.194889000000002, 17.219263, 12.982548, 10.765135, 9.969681, 23.148325, 15.066510999999998, 16.343301999999998, 15.766523999999999, 13.797319, 17.170443, 16.631216000000002], \"xaxis\": \"x\", \"yaxis\": \"y\"}, {\"alignmentgroup\": \"True\", \"bingroup\": \"x\", \"hovertemplate\": \"color=invert_diff_pairs100100<br>x=%{x}<br>count=%{y}<extra></extra>\", \"legendgroup\": \"invert_diff_pairs100100\", \"marker\": {\"color\": \"#FFA15A\"}, \"name\": \"invert_diff_pairs100100\", \"offsetgroup\": \"invert_diff_pairs100100\", \"orientation\": \"v\", \"showlegend\": true, \"type\": \"histogram\", \"x\": [19.702557000000002, 25.613083, 17.181616, 19.111496, 12.924056, 19.84313, 15.2788105, 17.237415, 16.104567000000003, 18.390079999999998, 15.048428, 16.394505, 16.868345, 12.328743, 19.894454999999997], \"xaxis\": \"x\", \"yaxis\": \"y\"}, {\"alignmentgroup\": \"True\", \"bingroup\": \"x\", \"hovertemplate\": \"color=invert_same_pairs100100<br>x=%{x}<br>count=%{y}<extra></extra>\", \"legendgroup\": \"invert_same_pairs100100\", \"marker\": {\"color\": \"#19d3f3\"}, \"name\": \"invert_same_pairs100100\", \"offsetgroup\": \"invert_same_pairs100100\", \"orientation\": \"v\", \"showlegend\": true, \"type\": \"histogram\", \"x\": [18.403122, 21.91631, 10.370637, 13.307839999999999, 14.631692999999999, 12.700432000000001, 13.372429, 10.002239, 13.901388, 12.343935, 12.665878, 13.285352, 10.972261999999999, 14.502351, 15.6463785], \"xaxis\": \"x\", \"yaxis\": \"y\"}, {\"alignmentgroup\": \"True\", \"bingroup\": \"x\", \"hovertemplate\": \"color=invert_diff_pairs100200<br>x=%{x}<br>count=%{y}<extra></extra>\", \"legendgroup\": \"invert_diff_pairs100200\", \"marker\": {\"color\": \"#FF6692\"}, \"name\": \"invert_diff_pairs100200\", \"offsetgroup\": \"invert_diff_pairs100200\", \"orientation\": \"v\", \"showlegend\": true, \"type\": \"histogram\", \"x\": [20.840483, 26.7237, 11.608108999999999, 19.254387, 19.497597, 18.246298, 13.691823999999999, 14.537838, 15.965095000000002, 17.563047, 14.90235, 19.159952, 15.727639000000002, 11.724224000000001, 18.130474], \"xaxis\": \"x\", \"yaxis\": \"y\"}, {\"alignmentgroup\": \"True\", \"bingroup\": \"x\", \"hovertemplate\": \"color=invert_same_pairs100200<br>x=%{x}<br>count=%{y}<extra></extra>\", \"legendgroup\": \"invert_same_pairs100200\", \"marker\": {\"color\": \"#B6E880\"}, \"name\": \"invert_same_pairs100200\", \"offsetgroup\": \"invert_same_pairs100200\", \"orientation\": \"v\", \"showlegend\": true, \"type\": \"histogram\", \"x\": [14.874386, 20.920042000000002, 11.849213, 14.665626000000001, 12.451514999999999, 20.075012, 10.354724000000001, 10.897402, 16.703964000000003, 13.785138, 12.660563, 15.155448000000002, 16.562063000000002, 15.30313, 14.567101500000001], \"xaxis\": \"x\", \"yaxis\": \"y\"}, {\"alignmentgroup\": \"True\", \"bingroup\": \"x\", \"hovertemplate\": \"color=invert_diff_pairs100300<br>x=%{x}<br>count=%{y}<extra></extra>\", \"legendgroup\": \"invert_diff_pairs100300\", \"marker\": {\"color\": \"#FF97FF\"}, \"name\": \"invert_diff_pairs100300\", \"offsetgroup\": \"invert_diff_pairs100300\", \"orientation\": \"v\", \"showlegend\": true, \"type\": \"histogram\", \"x\": [18.26217, 19.014187, 12.569728999999999, 16.158592000000002, 15.151252, 15.445235999999998, 13.422219, 14.086993, 13.573139000000001, 21.175342999999998, 18.551687, 15.034455, 18.254322, 12.145241, 15.0654335], \"xaxis\": \"x\", \"yaxis\": \"y\"}, {\"alignmentgroup\": \"True\", \"bingroup\": \"x\", \"hovertemplate\": \"color=invert_same_pairs100300<br>x=%{x}<br>count=%{y}<extra></extra>\", \"legendgroup\": \"invert_same_pairs100300\", \"marker\": {\"color\": \"#FECB52\"}, \"name\": \"invert_same_pairs100300\", \"offsetgroup\": \"invert_same_pairs100300\", \"orientation\": \"v\", \"showlegend\": true, \"type\": \"histogram\", \"x\": [12.204761, 14.421139000000002, 7.3157190000000005, 11.545082, 11.827441, 13.264791500000001, 9.457022, 10.928342, 14.652347, 10.724815, 13.004576, 13.624279000000001, 12.086294, 16.530904999999997, 12.591886500000001], \"xaxis\": \"x\", \"yaxis\": \"y\"}],                        {\"barmode\": \"relative\", \"legend\": {\"title\": {\"text\": \"color\"}, \"tracegroupgap\": 0}, \"margin\": {\"t\": 60}, \"template\": {\"data\": {\"bar\": [{\"error_x\": {\"color\": \"#2a3f5f\"}, \"error_y\": {\"color\": \"#2a3f5f\"}, \"marker\": {\"line\": {\"color\": \"#E5ECF6\", \"width\": 0.5}}, \"type\": \"bar\"}], \"barpolar\": [{\"marker\": {\"line\": {\"color\": \"#E5ECF6\", \"width\": 0.5}}, \"type\": \"barpolar\"}], \"carpet\": [{\"aaxis\": {\"endlinecolor\": \"#2a3f5f\", \"gridcolor\": \"white\", \"linecolor\": \"white\", \"minorgridcolor\": \"white\", \"startlinecolor\": \"#2a3f5f\"}, \"baxis\": {\"endlinecolor\": \"#2a3f5f\", \"gridcolor\": \"white\", \"linecolor\": \"white\", \"minorgridcolor\": \"white\", \"startlinecolor\": \"#2a3f5f\"}, \"type\": \"carpet\"}], \"choropleth\": [{\"colorbar\": {\"outlinewidth\": 0, \"ticks\": \"\"}, \"type\": \"choropleth\"}], \"contour\": [{\"colorbar\": {\"outlinewidth\": 0, \"ticks\": \"\"}, \"colorscale\": [[0.0, \"#0d0887\"], [0.1111111111111111, \"#46039f\"], [0.2222222222222222, \"#7201a8\"], [0.3333333333333333, \"#9c179e\"], [0.4444444444444444, \"#bd3786\"], [0.5555555555555556, \"#d8576b\"], [0.6666666666666666, \"#ed7953\"], [0.7777777777777778, \"#fb9f3a\"], [0.8888888888888888, \"#fdca26\"], [1.0, \"#f0f921\"]], \"type\": \"contour\"}], \"contourcarpet\": [{\"colorbar\": {\"outlinewidth\": 0, \"ticks\": \"\"}, \"type\": \"contourcarpet\"}], \"heatmap\": [{\"colorbar\": {\"outlinewidth\": 0, \"ticks\": \"\"}, \"colorscale\": [[0.0, \"#0d0887\"], [0.1111111111111111, \"#46039f\"], [0.2222222222222222, \"#7201a8\"], [0.3333333333333333, \"#9c179e\"], [0.4444444444444444, \"#bd3786\"], [0.5555555555555556, \"#d8576b\"], [0.6666666666666666, \"#ed7953\"], [0.7777777777777778, \"#fb9f3a\"], [0.8888888888888888, \"#fdca26\"], [1.0, \"#f0f921\"]], \"type\": \"heatmap\"}], \"heatmapgl\": [{\"colorbar\": {\"outlinewidth\": 0, \"ticks\": \"\"}, \"colorscale\": [[0.0, \"#0d0887\"], [0.1111111111111111, \"#46039f\"], [0.2222222222222222, \"#7201a8\"], [0.3333333333333333, \"#9c179e\"], [0.4444444444444444, \"#bd3786\"], [0.5555555555555556, \"#d8576b\"], [0.6666666666666666, \"#ed7953\"], [0.7777777777777778, \"#fb9f3a\"], [0.8888888888888888, \"#fdca26\"], [1.0, \"#f0f921\"]], \"type\": \"heatmapgl\"}], \"histogram\": [{\"marker\": {\"colorbar\": {\"outlinewidth\": 0, \"ticks\": \"\"}}, \"type\": \"histogram\"}], \"histogram2d\": [{\"colorbar\": {\"outlinewidth\": 0, \"ticks\": \"\"}, \"colorscale\": [[0.0, \"#0d0887\"], [0.1111111111111111, \"#46039f\"], [0.2222222222222222, \"#7201a8\"], [0.3333333333333333, \"#9c179e\"], [0.4444444444444444, \"#bd3786\"], [0.5555555555555556, \"#d8576b\"], [0.6666666666666666, \"#ed7953\"], [0.7777777777777778, \"#fb9f3a\"], [0.8888888888888888, \"#fdca26\"], [1.0, \"#f0f921\"]], \"type\": \"histogram2d\"}], \"histogram2dcontour\": [{\"colorbar\": {\"outlinewidth\": 0, \"ticks\": \"\"}, \"colorscale\": [[0.0, \"#0d0887\"], [0.1111111111111111, \"#46039f\"], [0.2222222222222222, \"#7201a8\"], [0.3333333333333333, \"#9c179e\"], [0.4444444444444444, \"#bd3786\"], [0.5555555555555556, \"#d8576b\"], [0.6666666666666666, \"#ed7953\"], [0.7777777777777778, \"#fb9f3a\"], [0.8888888888888888, \"#fdca26\"], [1.0, \"#f0f921\"]], \"type\": \"histogram2dcontour\"}], \"mesh3d\": [{\"colorbar\": {\"outlinewidth\": 0, \"ticks\": \"\"}, \"type\": \"mesh3d\"}], \"parcoords\": [{\"line\": {\"colorbar\": {\"outlinewidth\": 0, \"ticks\": \"\"}}, \"type\": \"parcoords\"}], \"pie\": [{\"automargin\": true, \"type\": \"pie\"}], \"scatter\": [{\"marker\": {\"colorbar\": {\"outlinewidth\": 0, \"ticks\": \"\"}}, \"type\": \"scatter\"}], \"scatter3d\": [{\"line\": {\"colorbar\": {\"outlinewidth\": 0, \"ticks\": \"\"}}, \"marker\": {\"colorbar\": {\"outlinewidth\": 0, \"ticks\": \"\"}}, \"type\": \"scatter3d\"}], \"scattercarpet\": [{\"marker\": {\"colorbar\": {\"outlinewidth\": 0, \"ticks\": \"\"}}, \"type\": \"scattercarpet\"}], \"scattergeo\": [{\"marker\": {\"colorbar\": {\"outlinewidth\": 0, \"ticks\": \"\"}}, \"type\": \"scattergeo\"}], \"scattergl\": [{\"marker\": {\"colorbar\": {\"outlinewidth\": 0, \"ticks\": \"\"}}, \"type\": \"scattergl\"}], \"scattermapbox\": [{\"marker\": {\"colorbar\": {\"outlinewidth\": 0, \"ticks\": \"\"}}, \"type\": \"scattermapbox\"}], \"scatterpolar\": [{\"marker\": {\"colorbar\": {\"outlinewidth\": 0, \"ticks\": \"\"}}, \"type\": \"scatterpolar\"}], \"scatterpolargl\": [{\"marker\": {\"colorbar\": {\"outlinewidth\": 0, \"ticks\": \"\"}}, \"type\": \"scatterpolargl\"}], \"scatterternary\": [{\"marker\": {\"colorbar\": {\"outlinewidth\": 0, \"ticks\": \"\"}}, \"type\": \"scatterternary\"}], \"surface\": [{\"colorbar\": {\"outlinewidth\": 0, \"ticks\": \"\"}, \"colorscale\": [[0.0, \"#0d0887\"], [0.1111111111111111, \"#46039f\"], [0.2222222222222222, \"#7201a8\"], [0.3333333333333333, \"#9c179e\"], [0.4444444444444444, \"#bd3786\"], [0.5555555555555556, \"#d8576b\"], [0.6666666666666666, \"#ed7953\"], [0.7777777777777778, \"#fb9f3a\"], [0.8888888888888888, \"#fdca26\"], [1.0, \"#f0f921\"]], \"type\": \"surface\"}], \"table\": [{\"cells\": {\"fill\": {\"color\": \"#EBF0F8\"}, \"line\": {\"color\": \"white\"}}, \"header\": {\"fill\": {\"color\": \"#C8D4E3\"}, \"line\": {\"color\": \"white\"}}, \"type\": \"table\"}]}, \"layout\": {\"annotationdefaults\": {\"arrowcolor\": \"#2a3f5f\", \"arrowhead\": 0, \"arrowwidth\": 1}, \"coloraxis\": {\"colorbar\": {\"outlinewidth\": 0, \"ticks\": \"\"}}, \"colorscale\": {\"diverging\": [[0, \"#8e0152\"], [0.1, \"#c51b7d\"], [0.2, \"#de77ae\"], [0.3, \"#f1b6da\"], [0.4, \"#fde0ef\"], [0.5, \"#f7f7f7\"], [0.6, \"#e6f5d0\"], [0.7, \"#b8e186\"], [0.8, \"#7fbc41\"], [0.9, \"#4d9221\"], [1, \"#276419\"]], \"sequential\": [[0.0, \"#0d0887\"], [0.1111111111111111, \"#46039f\"], [0.2222222222222222, \"#7201a8\"], [0.3333333333333333, \"#9c179e\"], [0.4444444444444444, \"#bd3786\"], [0.5555555555555556, \"#d8576b\"], [0.6666666666666666, \"#ed7953\"], [0.7777777777777778, \"#fb9f3a\"], [0.8888888888888888, \"#fdca26\"], [1.0, \"#f0f921\"]], \"sequentialminus\": [[0.0, \"#0d0887\"], [0.1111111111111111, \"#46039f\"], [0.2222222222222222, \"#7201a8\"], [0.3333333333333333, \"#9c179e\"], [0.4444444444444444, \"#bd3786\"], [0.5555555555555556, \"#d8576b\"], [0.6666666666666666, \"#ed7953\"], [0.7777777777777778, \"#fb9f3a\"], [0.8888888888888888, \"#fdca26\"], [1.0, \"#f0f921\"]]}, \"colorway\": [\"#636efa\", \"#EF553B\", \"#00cc96\", \"#ab63fa\", \"#FFA15A\", \"#19d3f3\", \"#FF6692\", \"#B6E880\", \"#FF97FF\", \"#FECB52\"], \"font\": {\"color\": \"#2a3f5f\"}, \"geo\": {\"bgcolor\": \"white\", \"lakecolor\": \"white\", \"landcolor\": \"#E5ECF6\", \"showlakes\": true, \"showland\": true, \"subunitcolor\": \"white\"}, \"hoverlabel\": {\"align\": \"left\"}, \"hovermode\": \"closest\", \"mapbox\": {\"style\": \"light\"}, \"paper_bgcolor\": \"white\", \"plot_bgcolor\": \"#E5ECF6\", \"polar\": {\"angularaxis\": {\"gridcolor\": \"white\", \"linecolor\": \"white\", \"ticks\": \"\"}, \"bgcolor\": \"#E5ECF6\", \"radialaxis\": {\"gridcolor\": \"white\", \"linecolor\": \"white\", \"ticks\": \"\"}}, \"scene\": {\"xaxis\": {\"backgroundcolor\": \"#E5ECF6\", \"gridcolor\": \"white\", \"gridwidth\": 2, \"linecolor\": \"white\", \"showbackground\": true, \"ticks\": \"\", \"zerolinecolor\": \"white\"}, \"yaxis\": {\"backgroundcolor\": \"#E5ECF6\", \"gridcolor\": \"white\", \"gridwidth\": 2, \"linecolor\": \"white\", \"showbackground\": true, \"ticks\": \"\", \"zerolinecolor\": \"white\"}, \"zaxis\": {\"backgroundcolor\": \"#E5ECF6\", \"gridcolor\": \"white\", \"gridwidth\": 2, \"linecolor\": \"white\", \"showbackground\": true, \"ticks\": \"\", \"zerolinecolor\": \"white\"}}, \"shapedefaults\": {\"line\": {\"color\": \"#2a3f5f\"}}, \"ternary\": {\"aaxis\": {\"gridcolor\": \"white\", \"linecolor\": \"white\", \"ticks\": \"\"}, \"baxis\": {\"gridcolor\": \"white\", \"linecolor\": \"white\", \"ticks\": \"\"}, \"bgcolor\": \"#E5ECF6\", \"caxis\": {\"gridcolor\": \"white\", \"linecolor\": \"white\", \"ticks\": \"\"}}, \"title\": {\"x\": 0.05}, \"xaxis\": {\"automargin\": true, \"gridcolor\": \"white\", \"linecolor\": \"white\", \"ticks\": \"\", \"title\": {\"standoff\": 15}, \"zerolinecolor\": \"white\", \"zerolinewidth\": 2}, \"yaxis\": {\"automargin\": true, \"gridcolor\": \"white\", \"linecolor\": \"white\", \"ticks\": \"\", \"title\": {\"standoff\": 15}, \"zerolinecolor\": \"white\", \"zerolinewidth\": 2}}}, \"xaxis\": {\"anchor\": \"y\", \"domain\": [0.0, 1.0], \"title\": {\"text\": \"x\"}}, \"yaxis\": {\"anchor\": \"x\", \"domain\": [0.0, 1.0], \"title\": {\"text\": \"count\"}}},                        {\"responsive\": true}                    ).then(function(){\n",
       "                            \n",
       "var gd = document.getElementById('557ce60a-f519-4cda-8851-b61dfdd70217');\n",
       "var x = new MutationObserver(function (mutations, observer) {{\n",
       "        var display = window.getComputedStyle(gd).display;\n",
       "        if (!display || display === 'none') {{\n",
       "            console.log([gd, 'removed!']);\n",
       "            Plotly.purge(gd);\n",
       "            observer.disconnect();\n",
       "        }}\n",
       "}});\n",
       "\n",
       "// Listen for the removal of the full notebook cells\n",
       "var notebookContainer = gd.closest('#notebook-container');\n",
       "if (notebookContainer) {{\n",
       "    x.observe(notebookContainer, {childList: true});\n",
       "}}\n",
       "\n",
       "// Listen for the clearing of the current output cell\n",
       "var outputEl = gd.closest('.output');\n",
       "if (outputEl) {{\n",
       "    x.observe(outputEl, {childList: true});\n",
       "}}\n",
       "\n",
       "                        })                };                });            </script>        </div>"
      ]
     },
     "metadata": {},
     "output_type": "display_data"
    }
   ],
   "source": [
    "\n",
    "px.histogram(x=fie['fc7'], color=fie['color'])"
   ]
  },
  {
   "cell_type": "code",
   "execution_count": 135,
   "metadata": {},
   "outputs": [],
   "source": [
    "from sklearn import metrics\n",
    "def auroc(y, pred):\n",
    "    \n",
    "    fpr, tpr, threshold = metrics.roc_curve(y, pred, pos_label=0)\n",
    "    return metrics.auc(fpr, tpr)"
   ]
  },
  {
   "cell_type": "code",
   "execution_count": null,
   "metadata": {},
   "outputs": [],
   "source": []
  },
  {
   "cell_type": "code",
   "execution_count": 136,
   "metadata": {},
   "outputs": [],
   "source": [
    "# for i in np.unique(fie['index']):\n",
    "fie['y'] = fie[\"type\"].str.contains(\"invert_same_pairs\")\n",
    "auc = []\n",
    "imgs = []\n",
    "ids = []\n",
    "\n",
    "for i in np.unique(fie['index']):\n",
    "    pred = fie[fie['index'] == i].fc7\n",
    "    y = fie[fie['index'] == i].y\n",
    "    images = fie[fie['index'] == i].num_pics\n",
    "    identities = fie[fie['index'] == i].num_ids\n",
    "    imags = np.unique(images)[0]\n",
    "    ident = np.unique(identities)[0]\n",
    "    fpr, tpr, threshold = metrics.roc_curve(y, pred, pos_label=0)\n",
    "    auc.append(metrics.auc(fpr, tpr))\n",
    "    imgs.append(imags)\n",
    "    ids.append(ident)\n",
    "    \n",
    "\n",
    "    \n",
    "d = {'ids': ids,'num_pics': imgs, 'auc': auc}\n",
    "auc_df = pd.DataFrame(data=d)\n",
    "    \n",
    "\n"
   ]
  },
  {
   "cell_type": "code",
   "execution_count": 137,
   "metadata": {},
   "outputs": [],
   "source": [
    "auc_df\n",
    "auc_df['color'] = auc_df['ids'].astype(str) + auc_df['num_pics'].astype(str)"
   ]
  },
  {
   "cell_type": "code",
   "execution_count": null,
   "metadata": {},
   "outputs": [],
   "source": []
  },
  {
   "cell_type": "code",
   "execution_count": 140,
   "metadata": {},
   "outputs": [
    {
     "data": {
      "application/vnd.plotly.v1+json": {
       "config": {
        "plotlyServerURL": "https://plot.ly"
       },
       "data": [
        {
         "alignmentgroup": "True",
         "hovertemplate": "ids=2<br>num_pics=%{x}<br>auc=%{y}<extra></extra>",
         "legendgroup": "2",
         "marker": {
          "color": "#636efa"
         },
         "name": "2",
         "offsetgroup": "2",
         "orientation": "v",
         "showlegend": true,
         "textposition": "auto",
         "type": "bar",
         "x": [
          1,
          5,
          10,
          20,
          50,
          100,
          200,
          300
         ],
         "xaxis": "x",
         "y": [
          0.5688888888888889,
          0.6000000000000001,
          0.6133333333333333,
          0.6577777777777778,
          0.5244444444444445,
          0.6799999999999999,
          0.8,
          0.7288888888888889
         ],
         "yaxis": "y"
        },
        {
         "alignmentgroup": "True",
         "hovertemplate": "ids=5<br>num_pics=%{x}<br>auc=%{y}<extra></extra>",
         "legendgroup": "5",
         "marker": {
          "color": "#EF553B"
         },
         "name": "5",
         "offsetgroup": "5",
         "orientation": "v",
         "showlegend": true,
         "textposition": "auto",
         "type": "bar",
         "x": [
          1,
          5,
          10,
          20,
          50,
          100,
          200,
          300
         ],
         "xaxis": "x",
         "y": [
          0.48444444444444446,
          0.6222222222222222,
          0.5333333333333333,
          0.5333333333333333,
          0.6088888888888889,
          0.7555555555555555,
          0.64,
          0.7555555555555555
         ],
         "yaxis": "y"
        },
        {
         "alignmentgroup": "True",
         "hovertemplate": "ids=10<br>num_pics=%{x}<br>auc=%{y}<extra></extra>",
         "legendgroup": "10",
         "marker": {
          "color": "#00cc96"
         },
         "name": "10",
         "offsetgroup": "10",
         "orientation": "v",
         "showlegend": true,
         "textposition": "auto",
         "type": "bar",
         "x": [
          1,
          5,
          10,
          20,
          50,
          100,
          200,
          300
         ],
         "xaxis": "x",
         "y": [
          0.5422222222222223,
          0.5466666666666666,
          0.6222222222222222,
          0.5733333333333334,
          0.7111111111111111,
          0.8222222222222222,
          0.8133333333333334,
          0.8977777777777778
         ],
         "yaxis": "y"
        },
        {
         "alignmentgroup": "True",
         "hovertemplate": "ids=50<br>num_pics=%{x}<br>auc=%{y}<extra></extra>",
         "legendgroup": "50",
         "marker": {
          "color": "#ab63fa"
         },
         "name": "50",
         "offsetgroup": "50",
         "orientation": "v",
         "showlegend": true,
         "textposition": "auto",
         "type": "bar",
         "x": [
          1,
          5,
          10,
          20,
          50,
          100,
          200,
          300
         ],
         "xaxis": "x",
         "y": [
          0.5511111111111111,
          0.5955555555555555,
          0.6311111111111112,
          0.76,
          0.7555555555555555,
          0.7777777777777778,
          0.7688888888888888,
          0.72
         ],
         "yaxis": "y"
        },
        {
         "alignmentgroup": "True",
         "hovertemplate": "ids=100<br>num_pics=%{x}<br>auc=%{y}<extra></extra>",
         "legendgroup": "100",
         "marker": {
          "color": "#FFA15A"
         },
         "name": "100",
         "offsetgroup": "100",
         "orientation": "v",
         "showlegend": true,
         "textposition": "auto",
         "type": "bar",
         "x": [
          1,
          5,
          10,
          20,
          50,
          100,
          200,
          300
         ],
         "xaxis": "x",
         "y": [
          0.5644444444444444,
          0.5555555555555556,
          0.6888888888888889,
          0.8222222222222223,
          0.7733333333333333,
          0.8088888888888889,
          0.6799999999999999,
          0.8622222222222222
         ],
         "yaxis": "y"
        }
       ],
       "layout": {
        "barmode": "group",
        "legend": {
         "title": {
          "text": "ids"
         },
         "tracegroupgap": 0
        },
        "margin": {
         "t": 60
        },
        "template": {
         "data": {
          "bar": [
           {
            "error_x": {
             "color": "#2a3f5f"
            },
            "error_y": {
             "color": "#2a3f5f"
            },
            "marker": {
             "line": {
              "color": "#E5ECF6",
              "width": 0.5
             }
            },
            "type": "bar"
           }
          ],
          "barpolar": [
           {
            "marker": {
             "line": {
              "color": "#E5ECF6",
              "width": 0.5
             }
            },
            "type": "barpolar"
           }
          ],
          "carpet": [
           {
            "aaxis": {
             "endlinecolor": "#2a3f5f",
             "gridcolor": "white",
             "linecolor": "white",
             "minorgridcolor": "white",
             "startlinecolor": "#2a3f5f"
            },
            "baxis": {
             "endlinecolor": "#2a3f5f",
             "gridcolor": "white",
             "linecolor": "white",
             "minorgridcolor": "white",
             "startlinecolor": "#2a3f5f"
            },
            "type": "carpet"
           }
          ],
          "choropleth": [
           {
            "colorbar": {
             "outlinewidth": 0,
             "ticks": ""
            },
            "type": "choropleth"
           }
          ],
          "contour": [
           {
            "colorbar": {
             "outlinewidth": 0,
             "ticks": ""
            },
            "colorscale": [
             [
              0,
              "#0d0887"
             ],
             [
              0.1111111111111111,
              "#46039f"
             ],
             [
              0.2222222222222222,
              "#7201a8"
             ],
             [
              0.3333333333333333,
              "#9c179e"
             ],
             [
              0.4444444444444444,
              "#bd3786"
             ],
             [
              0.5555555555555556,
              "#d8576b"
             ],
             [
              0.6666666666666666,
              "#ed7953"
             ],
             [
              0.7777777777777778,
              "#fb9f3a"
             ],
             [
              0.8888888888888888,
              "#fdca26"
             ],
             [
              1,
              "#f0f921"
             ]
            ],
            "type": "contour"
           }
          ],
          "contourcarpet": [
           {
            "colorbar": {
             "outlinewidth": 0,
             "ticks": ""
            },
            "type": "contourcarpet"
           }
          ],
          "heatmap": [
           {
            "colorbar": {
             "outlinewidth": 0,
             "ticks": ""
            },
            "colorscale": [
             [
              0,
              "#0d0887"
             ],
             [
              0.1111111111111111,
              "#46039f"
             ],
             [
              0.2222222222222222,
              "#7201a8"
             ],
             [
              0.3333333333333333,
              "#9c179e"
             ],
             [
              0.4444444444444444,
              "#bd3786"
             ],
             [
              0.5555555555555556,
              "#d8576b"
             ],
             [
              0.6666666666666666,
              "#ed7953"
             ],
             [
              0.7777777777777778,
              "#fb9f3a"
             ],
             [
              0.8888888888888888,
              "#fdca26"
             ],
             [
              1,
              "#f0f921"
             ]
            ],
            "type": "heatmap"
           }
          ],
          "heatmapgl": [
           {
            "colorbar": {
             "outlinewidth": 0,
             "ticks": ""
            },
            "colorscale": [
             [
              0,
              "#0d0887"
             ],
             [
              0.1111111111111111,
              "#46039f"
             ],
             [
              0.2222222222222222,
              "#7201a8"
             ],
             [
              0.3333333333333333,
              "#9c179e"
             ],
             [
              0.4444444444444444,
              "#bd3786"
             ],
             [
              0.5555555555555556,
              "#d8576b"
             ],
             [
              0.6666666666666666,
              "#ed7953"
             ],
             [
              0.7777777777777778,
              "#fb9f3a"
             ],
             [
              0.8888888888888888,
              "#fdca26"
             ],
             [
              1,
              "#f0f921"
             ]
            ],
            "type": "heatmapgl"
           }
          ],
          "histogram": [
           {
            "marker": {
             "colorbar": {
              "outlinewidth": 0,
              "ticks": ""
             }
            },
            "type": "histogram"
           }
          ],
          "histogram2d": [
           {
            "colorbar": {
             "outlinewidth": 0,
             "ticks": ""
            },
            "colorscale": [
             [
              0,
              "#0d0887"
             ],
             [
              0.1111111111111111,
              "#46039f"
             ],
             [
              0.2222222222222222,
              "#7201a8"
             ],
             [
              0.3333333333333333,
              "#9c179e"
             ],
             [
              0.4444444444444444,
              "#bd3786"
             ],
             [
              0.5555555555555556,
              "#d8576b"
             ],
             [
              0.6666666666666666,
              "#ed7953"
             ],
             [
              0.7777777777777778,
              "#fb9f3a"
             ],
             [
              0.8888888888888888,
              "#fdca26"
             ],
             [
              1,
              "#f0f921"
             ]
            ],
            "type": "histogram2d"
           }
          ],
          "histogram2dcontour": [
           {
            "colorbar": {
             "outlinewidth": 0,
             "ticks": ""
            },
            "colorscale": [
             [
              0,
              "#0d0887"
             ],
             [
              0.1111111111111111,
              "#46039f"
             ],
             [
              0.2222222222222222,
              "#7201a8"
             ],
             [
              0.3333333333333333,
              "#9c179e"
             ],
             [
              0.4444444444444444,
              "#bd3786"
             ],
             [
              0.5555555555555556,
              "#d8576b"
             ],
             [
              0.6666666666666666,
              "#ed7953"
             ],
             [
              0.7777777777777778,
              "#fb9f3a"
             ],
             [
              0.8888888888888888,
              "#fdca26"
             ],
             [
              1,
              "#f0f921"
             ]
            ],
            "type": "histogram2dcontour"
           }
          ],
          "mesh3d": [
           {
            "colorbar": {
             "outlinewidth": 0,
             "ticks": ""
            },
            "type": "mesh3d"
           }
          ],
          "parcoords": [
           {
            "line": {
             "colorbar": {
              "outlinewidth": 0,
              "ticks": ""
             }
            },
            "type": "parcoords"
           }
          ],
          "pie": [
           {
            "automargin": true,
            "type": "pie"
           }
          ],
          "scatter": [
           {
            "marker": {
             "colorbar": {
              "outlinewidth": 0,
              "ticks": ""
             }
            },
            "type": "scatter"
           }
          ],
          "scatter3d": [
           {
            "line": {
             "colorbar": {
              "outlinewidth": 0,
              "ticks": ""
             }
            },
            "marker": {
             "colorbar": {
              "outlinewidth": 0,
              "ticks": ""
             }
            },
            "type": "scatter3d"
           }
          ],
          "scattercarpet": [
           {
            "marker": {
             "colorbar": {
              "outlinewidth": 0,
              "ticks": ""
             }
            },
            "type": "scattercarpet"
           }
          ],
          "scattergeo": [
           {
            "marker": {
             "colorbar": {
              "outlinewidth": 0,
              "ticks": ""
             }
            },
            "type": "scattergeo"
           }
          ],
          "scattergl": [
           {
            "marker": {
             "colorbar": {
              "outlinewidth": 0,
              "ticks": ""
             }
            },
            "type": "scattergl"
           }
          ],
          "scattermapbox": [
           {
            "marker": {
             "colorbar": {
              "outlinewidth": 0,
              "ticks": ""
             }
            },
            "type": "scattermapbox"
           }
          ],
          "scatterpolar": [
           {
            "marker": {
             "colorbar": {
              "outlinewidth": 0,
              "ticks": ""
             }
            },
            "type": "scatterpolar"
           }
          ],
          "scatterpolargl": [
           {
            "marker": {
             "colorbar": {
              "outlinewidth": 0,
              "ticks": ""
             }
            },
            "type": "scatterpolargl"
           }
          ],
          "scatterternary": [
           {
            "marker": {
             "colorbar": {
              "outlinewidth": 0,
              "ticks": ""
             }
            },
            "type": "scatterternary"
           }
          ],
          "surface": [
           {
            "colorbar": {
             "outlinewidth": 0,
             "ticks": ""
            },
            "colorscale": [
             [
              0,
              "#0d0887"
             ],
             [
              0.1111111111111111,
              "#46039f"
             ],
             [
              0.2222222222222222,
              "#7201a8"
             ],
             [
              0.3333333333333333,
              "#9c179e"
             ],
             [
              0.4444444444444444,
              "#bd3786"
             ],
             [
              0.5555555555555556,
              "#d8576b"
             ],
             [
              0.6666666666666666,
              "#ed7953"
             ],
             [
              0.7777777777777778,
              "#fb9f3a"
             ],
             [
              0.8888888888888888,
              "#fdca26"
             ],
             [
              1,
              "#f0f921"
             ]
            ],
            "type": "surface"
           }
          ],
          "table": [
           {
            "cells": {
             "fill": {
              "color": "#EBF0F8"
             },
             "line": {
              "color": "white"
             }
            },
            "header": {
             "fill": {
              "color": "#C8D4E3"
             },
             "line": {
              "color": "white"
             }
            },
            "type": "table"
           }
          ]
         },
         "layout": {
          "annotationdefaults": {
           "arrowcolor": "#2a3f5f",
           "arrowhead": 0,
           "arrowwidth": 1
          },
          "coloraxis": {
           "colorbar": {
            "outlinewidth": 0,
            "ticks": ""
           }
          },
          "colorscale": {
           "diverging": [
            [
             0,
             "#8e0152"
            ],
            [
             0.1,
             "#c51b7d"
            ],
            [
             0.2,
             "#de77ae"
            ],
            [
             0.3,
             "#f1b6da"
            ],
            [
             0.4,
             "#fde0ef"
            ],
            [
             0.5,
             "#f7f7f7"
            ],
            [
             0.6,
             "#e6f5d0"
            ],
            [
             0.7,
             "#b8e186"
            ],
            [
             0.8,
             "#7fbc41"
            ],
            [
             0.9,
             "#4d9221"
            ],
            [
             1,
             "#276419"
            ]
           ],
           "sequential": [
            [
             0,
             "#0d0887"
            ],
            [
             0.1111111111111111,
             "#46039f"
            ],
            [
             0.2222222222222222,
             "#7201a8"
            ],
            [
             0.3333333333333333,
             "#9c179e"
            ],
            [
             0.4444444444444444,
             "#bd3786"
            ],
            [
             0.5555555555555556,
             "#d8576b"
            ],
            [
             0.6666666666666666,
             "#ed7953"
            ],
            [
             0.7777777777777778,
             "#fb9f3a"
            ],
            [
             0.8888888888888888,
             "#fdca26"
            ],
            [
             1,
             "#f0f921"
            ]
           ],
           "sequentialminus": [
            [
             0,
             "#0d0887"
            ],
            [
             0.1111111111111111,
             "#46039f"
            ],
            [
             0.2222222222222222,
             "#7201a8"
            ],
            [
             0.3333333333333333,
             "#9c179e"
            ],
            [
             0.4444444444444444,
             "#bd3786"
            ],
            [
             0.5555555555555556,
             "#d8576b"
            ],
            [
             0.6666666666666666,
             "#ed7953"
            ],
            [
             0.7777777777777778,
             "#fb9f3a"
            ],
            [
             0.8888888888888888,
             "#fdca26"
            ],
            [
             1,
             "#f0f921"
            ]
           ]
          },
          "colorway": [
           "#636efa",
           "#EF553B",
           "#00cc96",
           "#ab63fa",
           "#FFA15A",
           "#19d3f3",
           "#FF6692",
           "#B6E880",
           "#FF97FF",
           "#FECB52"
          ],
          "font": {
           "color": "#2a3f5f"
          },
          "geo": {
           "bgcolor": "white",
           "lakecolor": "white",
           "landcolor": "#E5ECF6",
           "showlakes": true,
           "showland": true,
           "subunitcolor": "white"
          },
          "hoverlabel": {
           "align": "left"
          },
          "hovermode": "closest",
          "mapbox": {
           "style": "light"
          },
          "paper_bgcolor": "white",
          "plot_bgcolor": "#E5ECF6",
          "polar": {
           "angularaxis": {
            "gridcolor": "white",
            "linecolor": "white",
            "ticks": ""
           },
           "bgcolor": "#E5ECF6",
           "radialaxis": {
            "gridcolor": "white",
            "linecolor": "white",
            "ticks": ""
           }
          },
          "scene": {
           "xaxis": {
            "backgroundcolor": "#E5ECF6",
            "gridcolor": "white",
            "gridwidth": 2,
            "linecolor": "white",
            "showbackground": true,
            "ticks": "",
            "zerolinecolor": "white"
           },
           "yaxis": {
            "backgroundcolor": "#E5ECF6",
            "gridcolor": "white",
            "gridwidth": 2,
            "linecolor": "white",
            "showbackground": true,
            "ticks": "",
            "zerolinecolor": "white"
           },
           "zaxis": {
            "backgroundcolor": "#E5ECF6",
            "gridcolor": "white",
            "gridwidth": 2,
            "linecolor": "white",
            "showbackground": true,
            "ticks": "",
            "zerolinecolor": "white"
           }
          },
          "shapedefaults": {
           "line": {
            "color": "#2a3f5f"
           }
          },
          "ternary": {
           "aaxis": {
            "gridcolor": "white",
            "linecolor": "white",
            "ticks": ""
           },
           "baxis": {
            "gridcolor": "white",
            "linecolor": "white",
            "ticks": ""
           },
           "bgcolor": "#E5ECF6",
           "caxis": {
            "gridcolor": "white",
            "linecolor": "white",
            "ticks": ""
           }
          },
          "title": {
           "x": 0.05
          },
          "xaxis": {
           "automargin": true,
           "gridcolor": "white",
           "linecolor": "white",
           "ticks": "",
           "title": {
            "standoff": 15
           },
           "zerolinecolor": "white",
           "zerolinewidth": 2
          },
          "yaxis": {
           "automargin": true,
           "gridcolor": "white",
           "linecolor": "white",
           "ticks": "",
           "title": {
            "standoff": 15
           },
           "zerolinecolor": "white",
           "zerolinewidth": 2
          }
         }
        },
        "xaxis": {
         "anchor": "y",
         "domain": [
          0,
          1
         ],
         "title": {
          "text": "num_pics"
         }
        },
        "yaxis": {
         "anchor": "x",
         "domain": [
          0,
          1
         ],
         "title": {
          "text": "auc"
         }
        }
       }
      },
      "text/html": [
       "<div>                            <div id=\"163316ff-5a9a-42aa-992a-073967690481\" class=\"plotly-graph-div\" style=\"height:525px; width:100%;\"></div>            <script type=\"text/javascript\">                require([\"plotly\"], function(Plotly) {                    window.PLOTLYENV=window.PLOTLYENV || {};                                    if (document.getElementById(\"163316ff-5a9a-42aa-992a-073967690481\")) {                    Plotly.newPlot(                        \"163316ff-5a9a-42aa-992a-073967690481\",                        [{\"alignmentgroup\": \"True\", \"hovertemplate\": \"ids=2<br>num_pics=%{x}<br>auc=%{y}<extra></extra>\", \"legendgroup\": \"2\", \"marker\": {\"color\": \"#636efa\"}, \"name\": \"2\", \"offsetgroup\": \"2\", \"orientation\": \"v\", \"showlegend\": true, \"textposition\": \"auto\", \"type\": \"bar\", \"x\": [1, 5, 10, 20, 50, 100, 200, 300], \"xaxis\": \"x\", \"y\": [0.5688888888888889, 0.6000000000000001, 0.6133333333333333, 0.6577777777777778, 0.5244444444444445, 0.6799999999999999, 0.8, 0.7288888888888889], \"yaxis\": \"y\"}, {\"alignmentgroup\": \"True\", \"hovertemplate\": \"ids=5<br>num_pics=%{x}<br>auc=%{y}<extra></extra>\", \"legendgroup\": \"5\", \"marker\": {\"color\": \"#EF553B\"}, \"name\": \"5\", \"offsetgroup\": \"5\", \"orientation\": \"v\", \"showlegend\": true, \"textposition\": \"auto\", \"type\": \"bar\", \"x\": [1, 5, 10, 20, 50, 100, 200, 300], \"xaxis\": \"x\", \"y\": [0.48444444444444446, 0.6222222222222222, 0.5333333333333333, 0.5333333333333333, 0.6088888888888889, 0.7555555555555555, 0.64, 0.7555555555555555], \"yaxis\": \"y\"}, {\"alignmentgroup\": \"True\", \"hovertemplate\": \"ids=10<br>num_pics=%{x}<br>auc=%{y}<extra></extra>\", \"legendgroup\": \"10\", \"marker\": {\"color\": \"#00cc96\"}, \"name\": \"10\", \"offsetgroup\": \"10\", \"orientation\": \"v\", \"showlegend\": true, \"textposition\": \"auto\", \"type\": \"bar\", \"x\": [1, 5, 10, 20, 50, 100, 200, 300], \"xaxis\": \"x\", \"y\": [0.5422222222222223, 0.5466666666666666, 0.6222222222222222, 0.5733333333333334, 0.7111111111111111, 0.8222222222222222, 0.8133333333333334, 0.8977777777777778], \"yaxis\": \"y\"}, {\"alignmentgroup\": \"True\", \"hovertemplate\": \"ids=50<br>num_pics=%{x}<br>auc=%{y}<extra></extra>\", \"legendgroup\": \"50\", \"marker\": {\"color\": \"#ab63fa\"}, \"name\": \"50\", \"offsetgroup\": \"50\", \"orientation\": \"v\", \"showlegend\": true, \"textposition\": \"auto\", \"type\": \"bar\", \"x\": [1, 5, 10, 20, 50, 100, 200, 300], \"xaxis\": \"x\", \"y\": [0.5511111111111111, 0.5955555555555555, 0.6311111111111112, 0.76, 0.7555555555555555, 0.7777777777777778, 0.7688888888888888, 0.72], \"yaxis\": \"y\"}, {\"alignmentgroup\": \"True\", \"hovertemplate\": \"ids=100<br>num_pics=%{x}<br>auc=%{y}<extra></extra>\", \"legendgroup\": \"100\", \"marker\": {\"color\": \"#FFA15A\"}, \"name\": \"100\", \"offsetgroup\": \"100\", \"orientation\": \"v\", \"showlegend\": true, \"textposition\": \"auto\", \"type\": \"bar\", \"x\": [1, 5, 10, 20, 50, 100, 200, 300], \"xaxis\": \"x\", \"y\": [0.5644444444444444, 0.5555555555555556, 0.6888888888888889, 0.8222222222222223, 0.7733333333333333, 0.8088888888888889, 0.6799999999999999, 0.8622222222222222], \"yaxis\": \"y\"}],                        {\"barmode\": \"group\", \"legend\": {\"title\": {\"text\": \"ids\"}, \"tracegroupgap\": 0}, \"margin\": {\"t\": 60}, \"template\": {\"data\": {\"bar\": [{\"error_x\": {\"color\": \"#2a3f5f\"}, \"error_y\": {\"color\": \"#2a3f5f\"}, \"marker\": {\"line\": {\"color\": \"#E5ECF6\", \"width\": 0.5}}, \"type\": \"bar\"}], \"barpolar\": [{\"marker\": {\"line\": {\"color\": \"#E5ECF6\", \"width\": 0.5}}, \"type\": \"barpolar\"}], \"carpet\": [{\"aaxis\": {\"endlinecolor\": \"#2a3f5f\", \"gridcolor\": \"white\", \"linecolor\": \"white\", \"minorgridcolor\": \"white\", \"startlinecolor\": \"#2a3f5f\"}, \"baxis\": {\"endlinecolor\": \"#2a3f5f\", \"gridcolor\": \"white\", \"linecolor\": \"white\", \"minorgridcolor\": \"white\", \"startlinecolor\": \"#2a3f5f\"}, \"type\": \"carpet\"}], \"choropleth\": [{\"colorbar\": {\"outlinewidth\": 0, \"ticks\": \"\"}, \"type\": \"choropleth\"}], \"contour\": [{\"colorbar\": {\"outlinewidth\": 0, \"ticks\": \"\"}, \"colorscale\": [[0.0, \"#0d0887\"], [0.1111111111111111, \"#46039f\"], [0.2222222222222222, \"#7201a8\"], [0.3333333333333333, \"#9c179e\"], [0.4444444444444444, \"#bd3786\"], [0.5555555555555556, \"#d8576b\"], [0.6666666666666666, \"#ed7953\"], [0.7777777777777778, \"#fb9f3a\"], [0.8888888888888888, \"#fdca26\"], [1.0, \"#f0f921\"]], \"type\": \"contour\"}], \"contourcarpet\": [{\"colorbar\": {\"outlinewidth\": 0, \"ticks\": \"\"}, \"type\": \"contourcarpet\"}], \"heatmap\": [{\"colorbar\": {\"outlinewidth\": 0, \"ticks\": \"\"}, \"colorscale\": [[0.0, \"#0d0887\"], [0.1111111111111111, \"#46039f\"], [0.2222222222222222, \"#7201a8\"], [0.3333333333333333, \"#9c179e\"], [0.4444444444444444, \"#bd3786\"], [0.5555555555555556, \"#d8576b\"], [0.6666666666666666, \"#ed7953\"], [0.7777777777777778, \"#fb9f3a\"], [0.8888888888888888, \"#fdca26\"], [1.0, \"#f0f921\"]], \"type\": \"heatmap\"}], \"heatmapgl\": [{\"colorbar\": {\"outlinewidth\": 0, \"ticks\": \"\"}, \"colorscale\": [[0.0, \"#0d0887\"], [0.1111111111111111, \"#46039f\"], [0.2222222222222222, \"#7201a8\"], [0.3333333333333333, \"#9c179e\"], [0.4444444444444444, \"#bd3786\"], [0.5555555555555556, \"#d8576b\"], [0.6666666666666666, \"#ed7953\"], [0.7777777777777778, \"#fb9f3a\"], [0.8888888888888888, \"#fdca26\"], [1.0, \"#f0f921\"]], \"type\": \"heatmapgl\"}], \"histogram\": [{\"marker\": {\"colorbar\": {\"outlinewidth\": 0, \"ticks\": \"\"}}, \"type\": \"histogram\"}], \"histogram2d\": [{\"colorbar\": {\"outlinewidth\": 0, \"ticks\": \"\"}, \"colorscale\": [[0.0, \"#0d0887\"], [0.1111111111111111, \"#46039f\"], [0.2222222222222222, \"#7201a8\"], [0.3333333333333333, \"#9c179e\"], [0.4444444444444444, \"#bd3786\"], [0.5555555555555556, \"#d8576b\"], [0.6666666666666666, \"#ed7953\"], [0.7777777777777778, \"#fb9f3a\"], [0.8888888888888888, \"#fdca26\"], [1.0, \"#f0f921\"]], \"type\": \"histogram2d\"}], \"histogram2dcontour\": [{\"colorbar\": {\"outlinewidth\": 0, \"ticks\": \"\"}, \"colorscale\": [[0.0, \"#0d0887\"], [0.1111111111111111, \"#46039f\"], [0.2222222222222222, \"#7201a8\"], [0.3333333333333333, \"#9c179e\"], [0.4444444444444444, \"#bd3786\"], [0.5555555555555556, \"#d8576b\"], [0.6666666666666666, \"#ed7953\"], [0.7777777777777778, \"#fb9f3a\"], [0.8888888888888888, \"#fdca26\"], [1.0, \"#f0f921\"]], \"type\": \"histogram2dcontour\"}], \"mesh3d\": [{\"colorbar\": {\"outlinewidth\": 0, \"ticks\": \"\"}, \"type\": \"mesh3d\"}], \"parcoords\": [{\"line\": {\"colorbar\": {\"outlinewidth\": 0, \"ticks\": \"\"}}, \"type\": \"parcoords\"}], \"pie\": [{\"automargin\": true, \"type\": \"pie\"}], \"scatter\": [{\"marker\": {\"colorbar\": {\"outlinewidth\": 0, \"ticks\": \"\"}}, \"type\": \"scatter\"}], \"scatter3d\": [{\"line\": {\"colorbar\": {\"outlinewidth\": 0, \"ticks\": \"\"}}, \"marker\": {\"colorbar\": {\"outlinewidth\": 0, \"ticks\": \"\"}}, \"type\": \"scatter3d\"}], \"scattercarpet\": [{\"marker\": {\"colorbar\": {\"outlinewidth\": 0, \"ticks\": \"\"}}, \"type\": \"scattercarpet\"}], \"scattergeo\": [{\"marker\": {\"colorbar\": {\"outlinewidth\": 0, \"ticks\": \"\"}}, \"type\": \"scattergeo\"}], \"scattergl\": [{\"marker\": {\"colorbar\": {\"outlinewidth\": 0, \"ticks\": \"\"}}, \"type\": \"scattergl\"}], \"scattermapbox\": [{\"marker\": {\"colorbar\": {\"outlinewidth\": 0, \"ticks\": \"\"}}, \"type\": \"scattermapbox\"}], \"scatterpolar\": [{\"marker\": {\"colorbar\": {\"outlinewidth\": 0, \"ticks\": \"\"}}, \"type\": \"scatterpolar\"}], \"scatterpolargl\": [{\"marker\": {\"colorbar\": {\"outlinewidth\": 0, \"ticks\": \"\"}}, \"type\": \"scatterpolargl\"}], \"scatterternary\": [{\"marker\": {\"colorbar\": {\"outlinewidth\": 0, \"ticks\": \"\"}}, \"type\": \"scatterternary\"}], \"surface\": [{\"colorbar\": {\"outlinewidth\": 0, \"ticks\": \"\"}, \"colorscale\": [[0.0, \"#0d0887\"], [0.1111111111111111, \"#46039f\"], [0.2222222222222222, \"#7201a8\"], [0.3333333333333333, \"#9c179e\"], [0.4444444444444444, \"#bd3786\"], [0.5555555555555556, \"#d8576b\"], [0.6666666666666666, \"#ed7953\"], [0.7777777777777778, \"#fb9f3a\"], [0.8888888888888888, \"#fdca26\"], [1.0, \"#f0f921\"]], \"type\": \"surface\"}], \"table\": [{\"cells\": {\"fill\": {\"color\": \"#EBF0F8\"}, \"line\": {\"color\": \"white\"}}, \"header\": {\"fill\": {\"color\": \"#C8D4E3\"}, \"line\": {\"color\": \"white\"}}, \"type\": \"table\"}]}, \"layout\": {\"annotationdefaults\": {\"arrowcolor\": \"#2a3f5f\", \"arrowhead\": 0, \"arrowwidth\": 1}, \"coloraxis\": {\"colorbar\": {\"outlinewidth\": 0, \"ticks\": \"\"}}, \"colorscale\": {\"diverging\": [[0, \"#8e0152\"], [0.1, \"#c51b7d\"], [0.2, \"#de77ae\"], [0.3, \"#f1b6da\"], [0.4, \"#fde0ef\"], [0.5, \"#f7f7f7\"], [0.6, \"#e6f5d0\"], [0.7, \"#b8e186\"], [0.8, \"#7fbc41\"], [0.9, \"#4d9221\"], [1, \"#276419\"]], \"sequential\": [[0.0, \"#0d0887\"], [0.1111111111111111, \"#46039f\"], [0.2222222222222222, \"#7201a8\"], [0.3333333333333333, \"#9c179e\"], [0.4444444444444444, \"#bd3786\"], [0.5555555555555556, \"#d8576b\"], [0.6666666666666666, \"#ed7953\"], [0.7777777777777778, \"#fb9f3a\"], [0.8888888888888888, \"#fdca26\"], [1.0, \"#f0f921\"]], \"sequentialminus\": [[0.0, \"#0d0887\"], [0.1111111111111111, \"#46039f\"], [0.2222222222222222, \"#7201a8\"], [0.3333333333333333, \"#9c179e\"], [0.4444444444444444, \"#bd3786\"], [0.5555555555555556, \"#d8576b\"], [0.6666666666666666, \"#ed7953\"], [0.7777777777777778, \"#fb9f3a\"], [0.8888888888888888, \"#fdca26\"], [1.0, \"#f0f921\"]]}, \"colorway\": [\"#636efa\", \"#EF553B\", \"#00cc96\", \"#ab63fa\", \"#FFA15A\", \"#19d3f3\", \"#FF6692\", \"#B6E880\", \"#FF97FF\", \"#FECB52\"], \"font\": {\"color\": \"#2a3f5f\"}, \"geo\": {\"bgcolor\": \"white\", \"lakecolor\": \"white\", \"landcolor\": \"#E5ECF6\", \"showlakes\": true, \"showland\": true, \"subunitcolor\": \"white\"}, \"hoverlabel\": {\"align\": \"left\"}, \"hovermode\": \"closest\", \"mapbox\": {\"style\": \"light\"}, \"paper_bgcolor\": \"white\", \"plot_bgcolor\": \"#E5ECF6\", \"polar\": {\"angularaxis\": {\"gridcolor\": \"white\", \"linecolor\": \"white\", \"ticks\": \"\"}, \"bgcolor\": \"#E5ECF6\", \"radialaxis\": {\"gridcolor\": \"white\", \"linecolor\": \"white\", \"ticks\": \"\"}}, \"scene\": {\"xaxis\": {\"backgroundcolor\": \"#E5ECF6\", \"gridcolor\": \"white\", \"gridwidth\": 2, \"linecolor\": \"white\", \"showbackground\": true, \"ticks\": \"\", \"zerolinecolor\": \"white\"}, \"yaxis\": {\"backgroundcolor\": \"#E5ECF6\", \"gridcolor\": \"white\", \"gridwidth\": 2, \"linecolor\": \"white\", \"showbackground\": true, \"ticks\": \"\", \"zerolinecolor\": \"white\"}, \"zaxis\": {\"backgroundcolor\": \"#E5ECF6\", \"gridcolor\": \"white\", \"gridwidth\": 2, \"linecolor\": \"white\", \"showbackground\": true, \"ticks\": \"\", \"zerolinecolor\": \"white\"}}, \"shapedefaults\": {\"line\": {\"color\": \"#2a3f5f\"}}, \"ternary\": {\"aaxis\": {\"gridcolor\": \"white\", \"linecolor\": \"white\", \"ticks\": \"\"}, \"baxis\": {\"gridcolor\": \"white\", \"linecolor\": \"white\", \"ticks\": \"\"}, \"bgcolor\": \"#E5ECF6\", \"caxis\": {\"gridcolor\": \"white\", \"linecolor\": \"white\", \"ticks\": \"\"}}, \"title\": {\"x\": 0.05}, \"xaxis\": {\"automargin\": true, \"gridcolor\": \"white\", \"linecolor\": \"white\", \"ticks\": \"\", \"title\": {\"standoff\": 15}, \"zerolinecolor\": \"white\", \"zerolinewidth\": 2}, \"yaxis\": {\"automargin\": true, \"gridcolor\": \"white\", \"linecolor\": \"white\", \"ticks\": \"\", \"title\": {\"standoff\": 15}, \"zerolinecolor\": \"white\", \"zerolinewidth\": 2}}}, \"xaxis\": {\"anchor\": \"y\", \"domain\": [0.0, 1.0], \"title\": {\"text\": \"num_pics\"}}, \"yaxis\": {\"anchor\": \"x\", \"domain\": [0.0, 1.0], \"title\": {\"text\": \"auc\"}}},                        {\"responsive\": true}                    ).then(function(){\n",
       "                            \n",
       "var gd = document.getElementById('163316ff-5a9a-42aa-992a-073967690481');\n",
       "var x = new MutationObserver(function (mutations, observer) {{\n",
       "        var display = window.getComputedStyle(gd).display;\n",
       "        if (!display || display === 'none') {{\n",
       "            console.log([gd, 'removed!']);\n",
       "            Plotly.purge(gd);\n",
       "            observer.disconnect();\n",
       "        }}\n",
       "}});\n",
       "\n",
       "// Listen for the removal of the full notebook cells\n",
       "var notebookContainer = gd.closest('#notebook-container');\n",
       "if (notebookContainer) {{\n",
       "    x.observe(notebookContainer, {childList: true});\n",
       "}}\n",
       "\n",
       "// Listen for the clearing of the current output cell\n",
       "var outputEl = gd.closest('.output');\n",
       "if (outputEl) {{\n",
       "    x.observe(outputEl, {childList: true});\n",
       "}}\n",
       "\n",
       "                        })                };                });            </script>        </div>"
      ]
     },
     "metadata": {},
     "output_type": "display_data"
    }
   ],
   "source": [
    "auc_df['ids'] = auc_df['ids'].astype(str)\n",
    "fig = px.bar(auc_df, x='num_pics', y='auc', color = 'ids', barmode='group')\n",
    "fig.show()"
   ]
  },
  {
   "cell_type": "code",
   "execution_count": null,
   "metadata": {},
   "outputs": [],
   "source": []
  }
 ],
 "metadata": {
  "kernelspec": {
   "display_name": "Python 3",
   "language": "python",
   "name": "python3"
  },
  "language_info": {
   "codemirror_mode": {
    "name": "ipython",
    "version": 3
   },
   "file_extension": ".py",
   "mimetype": "text/x-python",
   "name": "python",
   "nbconvert_exporter": "python",
   "pygments_lexer": "ipython3",
   "version": "3.8.5"
  }
 },
 "nbformat": 4,
 "nbformat_minor": 4
}
